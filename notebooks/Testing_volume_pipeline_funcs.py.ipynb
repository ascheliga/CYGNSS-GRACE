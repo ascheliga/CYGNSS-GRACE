{
 "cells": [
  {
   "cell_type": "code",
   "execution_count": 1,
   "id": "22cb3054",
   "metadata": {},
   "outputs": [],
   "source": [
    "import numpy as np\n",
    "import pandas as pd\n",
    "import xarray as xr\n",
    "from matplotlib import pyplot as plt\n",
    "import codebase"
   ]
  },
  {
   "cell_type": "code",
   "execution_count": 2,
   "id": "bf1fa82d",
   "metadata": {},
   "outputs": [
    {
     "name": "stderr",
     "output_type": "stream",
     "text": [
      "ERROR 1: PROJ: proj_create_from_database: Open of /global/home/users/ann_scheliga/.conda/envs/rioxarray_env/share/proj failed\n"
     ]
    }
   ],
   "source": [
    "res_shp = codebase.load_data.load_GRanD()"
   ]
  },
  {
   "cell_type": "code",
   "execution_count": 3,
   "id": "ec13cbcf",
   "metadata": {},
   "outputs": [],
   "source": [
    "from codebase import volume_pipeline"
   ]
  },
  {
   "cell_type": "code",
   "execution_count": 4,
   "id": "f1e4fce1",
   "metadata": {},
   "outputs": [],
   "source": [
    "# Step 1 wrapper function works\n",
    "dem_DA , fw_DA = volume_pipeline.create_aligned_DEM_CYGNSS_subsets('Indirasagar',res_shp)"
   ]
  },
  {
   "cell_type": "code",
   "execution_count": 5,
   "id": "ab7d61ed",
   "metadata": {},
   "outputs": [],
   "source": [
    "# Step 2 function works\n",
    "fw_diff_DA = volume_pipeline.difference_over_time(fw_DA)"
   ]
  },
  {
   "cell_type": "code",
   "execution_count": 6,
   "id": "2dd73a40",
   "metadata": {},
   "outputs": [],
   "source": [
    "# Step 3 single timestep and vectorized work.\n",
    "change_cond_DA = volume_pipeline.decide_expansion_or_shrinkage_vectorize(fw_diff_DA)\n",
    "\n",
    "# Testing out vectorization of Step 3 (label as expand/shrink for each timestep)\n",
    "test_vectorized = xr.apply_ufunc(volume_pipeline.decide_expansion_or_shrinkage_timestep,\n",
    "                                 fw_diff_DA,input_core_dims=[['lat','lon']],vectorize=True)"
   ]
  },
  {
   "cell_type": "code",
   "execution_count": 7,
   "id": "dadaa327",
   "metadata": {},
   "outputs": [
    {
     "name": "stdout",
     "output_type": "stream",
     "text": [
      "params of start timestep: (257.2609612698588, 17.42481840990914)\n",
      "params of change in area: (259.5148348731124, 16.753825029340693)\n"
     ]
    }
   ],
   "source": [
    "# Step 4 wrapper function works\n",
    "from scipy.stats import norm\n",
    "change_cond_time0 = change_cond_DA.isel(time=0)\n",
    "fw_diff_time0 = fw_diff_DA.isel(time=0)\n",
    "fw_time0 = fw_DA.isel(time=0)\n",
    "start_params = volume_pipeline.fit_DEM_distribution_from_conditional_area(dem_DA, fw_time0, 1, norm)\n",
    "change_params = volume_pipeline.fit_DEM_distribution_from_conditional_area(dem_DA, fw_diff_time0, change_cond_time0, norm)\n",
    "print('params of start timestep:',start_params)\n",
    "print('params of change in area:',change_params)"
   ]
  },
  {
   "cell_type": "code",
   "execution_count": 8,
   "id": "0253d350",
   "metadata": {},
   "outputs": [],
   "source": [
    "## Could not vectorize the Step 4 function(s). Skipped vectorization and made for loop functions :(\n",
    "\n",
    "# from xarray import DataArray\n",
    "# def grab_DEM_of_conditional_area(\n",
    "#     dem_DA: DataArray, cond_DA: DataArray, cond: int = 1\n",
    "# ) -> DataArray:\n",
    "#     print(type(dem_DA), type(cond_DA) , cond)\n",
    "#     print(dem_DA.shape)\n",
    "#     dem_cond_area = dem_DA.where(cond_DA == cond)\n",
    "#     return dem_cond_area\n",
    "\n",
    "\n",
    "# xr.apply_ufunc(grab_DEM_of_conditional_area,\n",
    "#                fw_DA,input_core_dims=[['lat','lon']],kwargs={'dem_DA':dem_DA},\n",
    "#               vectorize=True, output_core_dims=['time'])\n",
    "\n",
    "# xr.apply_ufunc(volume_pipeline.fit_DEM_distribution_from_conditional_area,\n",
    "#                dem_DA,fw_DA[:-1,:,:],change_cond_DA,norm,\n",
    "#               input_core_dims=[['lat','lon'],['lat','lon'],[],[]],\n",
    "#               vectorize=True, join='right')"
   ]
  },
  {
   "cell_type": "code",
   "execution_count": null,
   "id": "b694d351",
   "metadata": {},
   "outputs": [],
   "source": []
  },
  {
   "cell_type": "code",
   "execution_count": 9,
   "id": "9d85151c",
   "metadata": {},
   "outputs": [],
   "source": [
    "test_params = volume_pipeline.loop_through_time_series_to_get_fit_params(dem_DA,fw_diff_DA,change_cond_DA,norm)"
   ]
  },
  {
   "cell_type": "code",
   "execution_count": 13,
   "id": "d841773e",
   "metadata": {},
   "outputs": [],
   "source": [
    "test_heights = volume_pipeline.calculate_height_time_series_from_start_and_change_in_DEM(dem_DA,fw_DA,fw_diff_DA,change_cond_DA)"
   ]
  },
  {
   "cell_type": "code",
   "execution_count": 23,
   "id": "bfba9f0a",
   "metadata": {},
   "outputs": [
    {
     "data": {
      "text/plain": [
       "array([ 2.2538736 ,  3.22785457,  0.        ,  3.21247809,  0.        ,\n",
       "        0.        ,  0.        ,  0.        ,  9.18580973,  1.93724739,\n",
       "        4.41165882,  0.        ,  2.01616188, -0.09478783, -0.70998637,\n",
       "        0.40404311,  0.        ,  0.        ,  0.        ,  0.        ,\n",
       "        5.67006389,  3.55463398,  0.        ,  1.03288812,  4.2520552 ,\n",
       "        5.07889366,  1.04772569,  0.        ,  0.98399098, -5.5835981 ,\n",
       "        0.        , 11.95120005,  5.34048783,  6.34050226,  0.        ,\n",
       "        0.        ,  4.01452676,  8.09488435, -0.18180305,  0.        ,\n",
       "        0.        ,  0.        ,  0.        ,  0.        ,  6.8779303 ,\n",
       "        0.        ,  0.72629526,  0.        ,  4.09133566, -1.71592322,\n",
       "       -2.3914336 ,  1.34487293,  0.        ,  0.        ,  9.62515123,\n",
       "        0.        ])"
      ]
     },
     "execution_count": 23,
     "metadata": {},
     "output_type": "execute_result"
    }
   ],
   "source": [
    "test_heights"
   ]
  },
  {
   "cell_type": "code",
   "execution_count": 26,
   "id": "874eb8d4",
   "metadata": {},
   "outputs": [
    {
     "data": {
      "text/plain": [
       "<matplotlib.collections.QuadMesh at 0x2b898ddc2c90>"
      ]
     },
     "execution_count": 26,
     "metadata": {},
     "output_type": "execute_result"
    },
    {
     "data": {
      "image/png": "[encoded data removed]",
      "text/plain": [
       "<Figure size 640x480 with 2 Axes>"
      ]
     },
     "metadata": {},
     "output_type": "display_data"
    }
   ],
   "source": [
    "fw_diff_DA.isel(time=-1).plot(cmap='RdBu')"
   ]
  },
  {
   "cell_type": "code",
   "execution_count": null,
   "id": "14ae21cf",
   "metadata": {},
   "outputs": [],
   "source": [
    "test_params[0]"
   ]
  },
  {
   "cell_type": "code",
   "execution_count": null,
   "id": "49170cca",
   "metadata": {},
   "outputs": [],
   "source": [
    "np.isnan(test_params[0], test_params[1])"
   ]
  }
 ],
 "metadata": {
  "kernelspec": {
   "display_name": "rioxarray_kernel",
   "language": "python",
   "name": "rioxarray_kernel"
  },
  "language_info": {
   "codemirror_mode": {
    "name": "ipython",
    "version": 3
   },
   "file_extension": ".py",
   "mimetype": "text/x-python",
   "name": "python",
   "nbconvert_exporter": "python",
   "pygments_lexer": "ipython3",
   "version": "3.11.5"
  }
 },
 "nbformat": 4,
 "nbformat_minor": 5
}
