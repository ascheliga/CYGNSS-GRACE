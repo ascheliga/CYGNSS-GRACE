{
 "cells": [
  {
   "cell_type": "code",
   "execution_count": 31,
   "id": "be47de7c",
   "metadata": {},
   "outputs": [],
   "source": [
    "import numpy as np\n",
    "import pandas as pd\n",
    "from datetime import date\n",
    "\n",
    "import codebase"
   ]
  },
  {
   "cell_type": "markdown",
   "id": "31fdc9ec",
   "metadata": {},
   "source": [
    "- below Hoover Dam: 4152103\n",
    "- Lee's Ferry: 4152450\n",
    "- US-Mexico border: 4152050\n",
    "- upstream of Lake Powell (San Juan River trib): 4152600"
   ]
  },
  {
   "cell_type": "code",
   "execution_count": null,
   "id": "c2359488",
   "metadata": {},
   "outputs": [],
   "source": [
    "## define experimental set-up\n",
    "\n",
    "# grdc stored as floats in the downlaod jsons\n",
    "GRDC_ID = 4152450\n",
    "GRDC_sub_IDs = [4152600]\n",
    "dam_name = 'glen canyon'\n",
    "start_year = 2018\n",
    "stop_year_ex = 2024"
   ]
  },
  {
   "cell_type": "code",
   "execution_count": 3,
   "id": "5d728442",
   "metadata": {},
   "outputs": [],
   "source": [
    "## Other variables and filepaths\n",
    "grdc_dir = \"/global/scratch/users/ann_scheliga/aux_dam_datasets/GRDC_CRB/\"\n",
    "met_dir = \"/global/scratch/users/ann_scheliga/era5_data/\"\n",
    "res_dir = \"/global/scratch/users/ann_scheliga/CYGNSS_daily/\""
   ]
  },
  {
   "cell_type": "code",
   "execution_count": null,
   "id": "c4a8ffd7",
   "metadata": {},
   "outputs": [],
   "source": [
    "# For debugging\n",
    "def check_data_format(df):\n",
    "    print(df.head(2))\n",
    "    print(df.tail(2))\n",
    "    print('structure type:',type(df))\n",
    "    print('index type:',type(df.index))\n",
    "    print('first index:',df.index[0])\n",
    "    print('Inferred frequency:',df.index.inferred_freq)\n"
   ]
  },
  {
   "cell_type": "code",
   "execution_count": null,
   "id": "b1cdffa4",
   "metadata": {},
   "outputs": [],
   "source": [
    "# Create output dataframe\n",
    "full_time = pd.date_range(start=date(start_year,1,1), end=date(stop_year_ex,1,1),freq='D')\n",
    "output_df = pd.DataFrame(index = full_time)"
   ]
  },
  {
   "cell_type": "code",
   "execution_count": 46,
   "id": "f7096666",
   "metadata": {},
   "outputs": [
    {
     "name": "stdout",
     "output_type": "stream",
     "text": [
      "2019-01-01    380.752060\n",
      "2019-01-02    362.621009\n",
      "Name: Area km2, dtype: float64\n",
      "2023-12-31    298.685200\n",
      "2024-01-01    293.913871\n",
      "Name: Area km2, dtype: float64\n",
      "structure type: <class 'pandas.core.series.Series'>\n",
      "index type: <class 'pandas.core.indexes.datetimes.DatetimeIndex'>\n",
      "first index: 2019-01-01 00:00:00\n",
      "Inferred frequency: D\n"
     ]
    }
   ],
   "source": [
    "## import sw_area\n",
    "sw_area = codebase.load_data.load_daily_reservoir_CYGNSS_area(\n",
    "    dam_name, filepath=res_dir\n",
    ")\n",
    "\n",
    "output_df['SW_area'] = sw_area\n",
    "check_data_format(sw_area)"
   ]
  },
  {
   "cell_type": "code",
   "execution_count": null,
   "id": "f37cd047",
   "metadata": {},
   "outputs": [
    {
     "name": "stdout",
     "output_type": "stream",
     "text": [
      "2018-01-01    0\n",
      "2018-01-02    0\n",
      "Freq: D, Name: SW_flag, dtype: int64\n",
      "2023-12-31    1\n",
      "2024-01-01    1\n",
      "Freq: D, Name: SW_flag, dtype: int64\n",
      "structure type: <class 'pandas.core.series.Series'>\n",
      "index type: <class 'pandas.core.indexes.datetimes.DatetimeIndex'>\n",
      "first index: 2018-01-01 00:00:00\n",
      "Inferred frequency: D\n"
     ]
    }
   ],
   "source": [
    "## Calculate SW_flag\n",
    "output_df['SW_flag'] = 0\n",
    "# where SW_area has a value, SW_flag is true\n",
    "output_df.loc[~output_df['SW_area'].isna(),'SW_flag'] = 1 \n",
    "\n",
    "check_data_format(output_df['SW_flag'])"
   ]
  },
  {
   "cell_type": "code",
   "execution_count": null,
   "id": "83b3bcf9",
   "metadata": {},
   "outputs": [],
   "source": [
    "## import GRDC\n",
    "watershed_gpd, grdc_Q = codebase.load_data.load_GRDC_station_data_by_ID(\n",
    "    grdc_id,\n",
    "    filepath=grdc_dir,\n",
    "    timeseries_dict={\"start_year\": 2019, \"stop_year\": 2024},\n",
    ")"
   ]
  }
 ],
 "metadata": {
  "kernelspec": {
   "display_name": "rioxarray_env",
   "language": "python",
   "name": "python3"
  },
  "language_info": {
   "codemirror_mode": {
    "name": "ipython",
    "version": 3
   },
   "file_extension": ".py",
   "mimetype": "text/x-python",
   "name": "python",
   "nbconvert_exporter": "python",
   "pygments_lexer": "ipython3",
   "version": "3.11.5"
  }
 },
 "nbformat": 4,
 "nbformat_minor": 5
}
