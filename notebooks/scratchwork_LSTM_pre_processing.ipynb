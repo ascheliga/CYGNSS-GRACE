{
 "cells": [
  {
   "cell_type": "code",
   "execution_count": 215,
   "id": "be47de7c",
   "metadata": {},
   "outputs": [],
   "source": [
    "import numpy as np\n",
    "import pandas as pd\n",
    "import geopandas as gpd\n",
    "from datetime import date\n",
    "from statistics import mode\n",
    "import codebase"
   ]
  },
  {
   "cell_type": "markdown",
   "id": "31fdc9ec",
   "metadata": {},
   "source": [
    "- below Hoover Dam: 4152103\n",
    "- Lee's Ferry: 4152450\n",
    "- US-Mexico border: 4152050\n",
    "- upstream of Lake Powell (San Juan River trib): 4152600"
   ]
  },
  {
   "cell_type": "code",
   "execution_count": 55,
   "id": "c2359488",
   "metadata": {},
   "outputs": [],
   "source": [
    "## define experimental set-up\n",
    "\n",
    "# grdc stored as floats in the downlaod jsons\n",
    "grdc_id = 4152450\n",
    "grdc_sub_ids = [4152600]\n",
    "dam_name = 'glen canyon'\n",
    "start_year = 2018\n",
    "stop_year_ex = 2024"
   ]
  },
  {
   "cell_type": "code",
   "execution_count": 76,
   "id": "5d728442",
   "metadata": {},
   "outputs": [],
   "source": [
    "## Other variables and filepaths\n",
    "grdc_dir = \"/global/scratch/users/ann_scheliga/aux_dam_datasets/GRDC_CRB/\"\n",
    "met_dir = \"/global/scratch/users/ann_scheliga/era5_data/\"\n",
    "res_dir = \"/global/scratch/users/ann_scheliga/CYGNSS_daily/\""
   ]
  },
  {
   "cell_type": "code",
   "execution_count": null,
   "id": "c4a8ffd7",
   "metadata": {},
   "outputs": [],
   "source": [
    "# For debugging\n",
    "def check_data_format(df):\n",
    "    print(df.head(2))\n",
    "    print(df.tail(2))\n",
    "    print('structure type:',type(df))\n",
    "    print('index type:',type(df.index))\n",
    "    print('first index:',df.index[0])\n",
    "    print('Inferred frequency:',df.index.inferred_freq)\n"
   ]
  },
  {
   "cell_type": "code",
   "execution_count": 153,
   "id": "b1cdffa4",
   "metadata": {},
   "outputs": [],
   "source": [
    "# Create output dataframe\n",
    "full_time = pd.date_range(start=date(start_year,1,1), end=date(stop_year_ex,1,1),freq='D')\n",
    "output_df = pd.DataFrame(index = full_time)"
   ]
  },
  {
   "cell_type": "code",
   "execution_count": 154,
   "id": "f7096666",
   "metadata": {},
   "outputs": [
    {
     "name": "stdout",
     "output_type": "stream",
     "text": [
      "2019-01-01    380.752060\n",
      "2019-01-02    362.621009\n",
      "Name: Area km2, dtype: float64\n",
      "2023-12-31    298.685200\n",
      "2024-01-01    293.913871\n",
      "Name: Area km2, dtype: float64\n",
      "structure type: <class 'pandas.core.series.Series'>\n",
      "index type: <class 'pandas.core.indexes.datetimes.DatetimeIndex'>\n",
      "first index: 2019-01-01 00:00:00\n",
      "Inferred frequency: D\n"
     ]
    }
   ],
   "source": [
    "## import sw_area\n",
    "sw_area = codebase.load_data.load_daily_reservoir_CYGNSS_area(\n",
    "    dam_name, filepath=res_dir\n",
    ")\n",
    "\n",
    "output_df['SW_area'] = sw_area\n",
    "check_data_format(sw_area)"
   ]
  },
  {
   "cell_type": "code",
   "execution_count": 155,
   "id": "f37cd047",
   "metadata": {},
   "outputs": [
    {
     "name": "stdout",
     "output_type": "stream",
     "text": [
      "2018-01-01    0\n",
      "2018-01-02    0\n",
      "Freq: D, Name: SW_flag, dtype: int64\n",
      "2023-12-31    1\n",
      "2024-01-01    1\n",
      "Freq: D, Name: SW_flag, dtype: int64\n",
      "structure type: <class 'pandas.core.series.Series'>\n",
      "index type: <class 'pandas.core.indexes.datetimes.DatetimeIndex'>\n",
      "first index: 2018-01-01 00:00:00\n",
      "Inferred frequency: D\n"
     ]
    }
   ],
   "source": [
    "## Calculate SW_flag\n",
    "output_df['SW_flag'] = 0\n",
    "# where SW_area has a value, SW_flag is true\n",
    "output_df.loc[~output_df['SW_area'].isna(),'SW_flag'] = 1 \n",
    "\n",
    "check_data_format(output_df['SW_flag'])"
   ]
  },
  {
   "cell_type": "code",
   "execution_count": 156,
   "id": "83b3bcf9",
   "metadata": {},
   "outputs": [
    {
     "name": "stdout",
     "output_type": "stream",
     "text": [
      "              Q m3s\n",
      "Date               \n",
      "2018-01-01  356.792\n",
      "2018-01-02  396.435\n",
      "              Q m3s\n",
      "Date               \n",
      "2023-12-03  252.303\n",
      "2023-12-04  288.831\n",
      "structure type: <class 'pandas.core.frame.DataFrame'>\n",
      "index type: <class 'pandas.core.indexes.datetimes.DatetimeIndex'>\n",
      "first index: 2018-01-01 00:00:00\n",
      "Inferred frequency: D\n"
     ]
    }
   ],
   "source": [
    "## import GRDC\n",
    "watershed_gpd, grdc_Q = codebase.load_data.load_GRDC_station_data_by_ID(\n",
    "    grdc_id,\n",
    "    filepath=grdc_dir,\n",
    "    timeseries_dict={\"start_year\": start_year, \"stop_year\": stop_year_ex},\n",
    ")\n",
    "\n",
    "output_df['Q'] = grdc_Q\n",
    "check_data_format(grdc_Q)"
   ]
  },
  {
   "cell_type": "code",
   "execution_count": 96,
   "id": "cee45fba",
   "metadata": {},
   "outputs": [],
   "source": [
    "## Can't get mode function to work easily.\n",
    "# Tried scipy and statistics modules\n",
    "# type_precip_test = codebase.area_subsets.era5_shape_subset_and_concat_from_file_pattern(\n",
    "#     filepath = met_dir,\n",
    "#     input_pattern = r'daily_precip_type',\n",
    "#     subset_gpd = watershed_gpd,\n",
    "#     concat_dict = concat_dict,\n",
    "#     agg_function = mode\n",
    "# )"
   ]
  },
  {
   "cell_type": "code",
   "execution_count": 118,
   "id": "d0f16d02",
   "metadata": {},
   "outputs": [],
   "source": [
    "def add_era5_met_data_by_shp(input_gpd):\n",
    "    \n",
    "    concat_dict = {\"dim\": \"valid_time\"}\n",
    "\n",
    "    __ , tempK_1dim = codebase.area_subsets.era5_shape_subset_and_concat_from_file_pattern(\n",
    "        filepath = met_dir,\n",
    "        input_pattern = r'daily_tempK',\n",
    "        subset_gpd = input_gpd,\n",
    "        concat_dict = concat_dict,\n",
    "        agg_function = np.nanmean\n",
    "    )\n",
    "    tempK_1dim.rename('tempK',inplace=True)\n",
    "\n",
    "    __ , precip_1dim = codebase.area_subsets.era5_shape_subset_and_concat_from_file_pattern(\n",
    "        filepath = met_dir,\n",
    "        input_pattern = r'daily_tot_precip',\n",
    "        subset_gpd = input_gpd,\n",
    "        concat_dict = concat_dict,\n",
    "        agg_function = np.nansum\n",
    "    )\n",
    "    precip_1dim.rename('precipm',inplace=True)\n",
    "    met_df = pd.concat([tempK_1dim, precip_1dim],axis=1)\n",
    "    return met_df"
   ]
  },
  {
   "cell_type": "code",
   "execution_count": null,
   "id": "cfe46849",
   "metadata": {},
   "outputs": [],
   "source": [
    "sub_extension = '_tot0'\n",
    "met_df = add_era5_met_data_by_shp(watershed_gpd).add_suffix(sub_extension)\n",
    "output_df = output_df.join(met_df, how='left')"
   ]
  },
  {
   "cell_type": "code",
   "execution_count": 164,
   "id": "ad989d39",
   "metadata": {},
   "outputs": [
    {
     "data": {
      "text/html": [
       "<div>\n",
       "<style scoped>\n",
       "    .dataframe tbody tr th:only-of-type {\n",
       "        vertical-align: middle;\n",
       "    }\n",
       "\n",
       "    .dataframe tbody tr th {\n",
       "        vertical-align: top;\n",
       "    }\n",
       "\n",
       "    .dataframe thead th {\n",
       "        text-align: right;\n",
       "    }\n",
       "</style>\n",
       "<table border=\"1\" class=\"dataframe\">\n",
       "  <thead>\n",
       "    <tr style=\"text-align: right;\">\n",
       "      <th></th>\n",
       "      <th>SW_area</th>\n",
       "      <th>SW_flag</th>\n",
       "      <th>Q</th>\n",
       "      <th>tempK_tot00</th>\n",
       "      <th>precipm_tot00</th>\n",
       "    </tr>\n",
       "  </thead>\n",
       "  <tbody>\n",
       "    <tr>\n",
       "      <th>2018-01-01</th>\n",
       "      <td>NaN</td>\n",
       "      <td>0</td>\n",
       "      <td>356.792</td>\n",
       "      <td>NaN</td>\n",
       "      <td>1.053810e-04</td>\n",
       "    </tr>\n",
       "    <tr>\n",
       "      <th>2018-01-02</th>\n",
       "      <td>NaN</td>\n",
       "      <td>0</td>\n",
       "      <td>396.435</td>\n",
       "      <td>NaN</td>\n",
       "      <td>4.053116e-05</td>\n",
       "    </tr>\n",
       "    <tr>\n",
       "      <th>2018-01-03</th>\n",
       "      <td>NaN</td>\n",
       "      <td>0</td>\n",
       "      <td>413.425</td>\n",
       "      <td>NaN</td>\n",
       "      <td>9.536743e-07</td>\n",
       "    </tr>\n",
       "    <tr>\n",
       "      <th>2018-01-04</th>\n",
       "      <td>NaN</td>\n",
       "      <td>0</td>\n",
       "      <td>402.099</td>\n",
       "      <td>NaN</td>\n",
       "      <td>4.768372e-07</td>\n",
       "    </tr>\n",
       "    <tr>\n",
       "      <th>2018-01-05</th>\n",
       "      <td>NaN</td>\n",
       "      <td>0</td>\n",
       "      <td>407.762</td>\n",
       "      <td>NaN</td>\n",
       "      <td>0.000000e+00</td>\n",
       "    </tr>\n",
       "    <tr>\n",
       "      <th>...</th>\n",
       "      <td>...</td>\n",
       "      <td>...</td>\n",
       "      <td>...</td>\n",
       "      <td>...</td>\n",
       "      <td>...</td>\n",
       "    </tr>\n",
       "    <tr>\n",
       "      <th>2023-12-28</th>\n",
       "      <td>311.090655</td>\n",
       "      <td>1</td>\n",
       "      <td>NaN</td>\n",
       "      <td>NaN</td>\n",
       "      <td>2.384186e-06</td>\n",
       "    </tr>\n",
       "    <tr>\n",
       "      <th>2023-12-29</th>\n",
       "      <td>293.913871</td>\n",
       "      <td>1</td>\n",
       "      <td>NaN</td>\n",
       "      <td>NaN</td>\n",
       "      <td>4.768372e-06</td>\n",
       "    </tr>\n",
       "    <tr>\n",
       "      <th>2023-12-30</th>\n",
       "      <td>298.685200</td>\n",
       "      <td>1</td>\n",
       "      <td>NaN</td>\n",
       "      <td>NaN</td>\n",
       "      <td>1.359463e-03</td>\n",
       "    </tr>\n",
       "    <tr>\n",
       "      <th>2023-12-31</th>\n",
       "      <td>298.685200</td>\n",
       "      <td>1</td>\n",
       "      <td>NaN</td>\n",
       "      <td>NaN</td>\n",
       "      <td>1.325607e-03</td>\n",
       "    </tr>\n",
       "    <tr>\n",
       "      <th>2024-01-01</th>\n",
       "      <td>293.913871</td>\n",
       "      <td>1</td>\n",
       "      <td>NaN</td>\n",
       "      <td>NaN</td>\n",
       "      <td>NaN</td>\n",
       "    </tr>\n",
       "  </tbody>\n",
       "</table>\n",
       "<p>2192 rows × 5 columns</p>\n",
       "</div>"
      ],
      "text/plain": [
       "               SW_area  SW_flag        Q  tempK_tot00  precipm_tot00\n",
       "2018-01-01         NaN        0  356.792          NaN   1.053810e-04\n",
       "2018-01-02         NaN        0  396.435          NaN   4.053116e-05\n",
       "2018-01-03         NaN        0  413.425          NaN   9.536743e-07\n",
       "2018-01-04         NaN        0  402.099          NaN   4.768372e-07\n",
       "2018-01-05         NaN        0  407.762          NaN   0.000000e+00\n",
       "...                ...      ...      ...          ...            ...\n",
       "2023-12-28  311.090655        1      NaN          NaN   2.384186e-06\n",
       "2023-12-29  293.913871        1      NaN          NaN   4.768372e-06\n",
       "2023-12-30  298.685200        1      NaN          NaN   1.359463e-03\n",
       "2023-12-31  298.685200        1      NaN          NaN   1.325607e-03\n",
       "2024-01-01  293.913871        1      NaN          NaN            NaN\n",
       "\n",
       "[2192 rows x 5 columns]"
      ]
     },
     "execution_count": 164,
     "metadata": {},
     "output_type": "execute_result"
    }
   ],
   "source": [
    "output_df"
   ]
  },
  {
   "cell_type": "code",
   "execution_count": 204,
   "id": "9a785af3",
   "metadata": {},
   "outputs": [],
   "source": [
    "# Given that sub-basins exist\n",
    "subbasins_GRDC = list(map(\n",
    "    lambda id: codebase.load_data.load_GRDC_station_data_by_ID(\n",
    "        id,filepath=grdc_dir,\n",
    "        timeseries_dict={\"start_year\": start_year, \"stop_year\": stop_year_ex}\n",
    "        ),\n",
    "    grdc_sub_ids))\n",
    "# subbasin_zipped = list(zip(grdc_sub_ids,subbasins_GRDC))\n",
    "# drop flow timeseries from loaded into dict, leave just the geoDataFrame\n",
    "subbasin_shps = [output[0] for output in subbasins_GRDC] "
   ]
  },
  {
   "cell_type": "code",
   "execution_count": null,
   "id": "11a30763",
   "metadata": {},
   "outputs": [
    {
     "data": {
      "text/html": [
       "<div>\n",
       "<style scoped>\n",
       "    .dataframe tbody tr th:only-of-type {\n",
       "        vertical-align: middle;\n",
       "    }\n",
       "\n",
       "    .dataframe tbody tr th {\n",
       "        vertical-align: top;\n",
       "    }\n",
       "\n",
       "    .dataframe thead th {\n",
       "        text-align: right;\n",
       "    }\n",
       "</style>\n",
       "<table border=\"1\" class=\"dataframe\">\n",
       "  <thead>\n",
       "    <tr style=\"text-align: right;\">\n",
       "      <th></th>\n",
       "      <th>grdc_no</th>\n",
       "      <th>river</th>\n",
       "      <th>station</th>\n",
       "      <th>area</th>\n",
       "      <th>altitude</th>\n",
       "      <th>lat_org</th>\n",
       "      <th>long_org</th>\n",
       "      <th>lat_pp</th>\n",
       "      <th>long_pp</th>\n",
       "      <th>dist_km</th>\n",
       "      <th>area_calc</th>\n",
       "      <th>quality</th>\n",
       "      <th>type</th>\n",
       "      <th>comment</th>\n",
       "      <th>source</th>\n",
       "      <th>geometry</th>\n",
       "    </tr>\n",
       "  </thead>\n",
       "  <tbody>\n",
       "    <tr>\n",
       "      <th>11</th>\n",
       "      <td>4152450.0</td>\n",
       "      <td>COLORADO RIVER</td>\n",
       "      <td>LEES FERRY, ARIZ.</td>\n",
       "      <td>289562.0</td>\n",
       "      <td>946.76</td>\n",
       "      <td>36.8647</td>\n",
       "      <td>-111.5882</td>\n",
       "      <td>36.8646</td>\n",
       "      <td>-111.5896</td>\n",
       "      <td>0.1</td>\n",
       "      <td>279509.1</td>\n",
       "      <td>High</td>\n",
       "      <td>Automatic</td>\n",
       "      <td>Area difference &lt;= 5% and distance &lt;= 5 km</td>\n",
       "      <td>hydrosheds</td>\n",
       "      <td>MULTIPOLYGON (((-110.90830 41.35830, -110.9042...</td>\n",
       "    </tr>\n",
       "  </tbody>\n",
       "</table>\n",
       "</div>"
      ],
      "text/plain": [
       "      grdc_no           river            station      area  altitude  lat_org  \\\n",
       "11  4152450.0  COLORADO RIVER  LEES FERRY, ARIZ.  289562.0    946.76  36.8647   \n",
       "\n",
       "    long_org   lat_pp   long_pp  dist_km  area_calc quality       type  \\\n",
       "11 -111.5882  36.8646 -111.5896      0.1   279509.1    High  Automatic   \n",
       "\n",
       "                                       comment      source  \\\n",
       "11  Area difference <= 5% and distance <= 5 km  hydrosheds   \n",
       "\n",
       "                                             geometry  \n",
       "11  MULTIPOLYGON (((-110.90830 41.35830, -110.9042...  "
      ]
     },
     "execution_count": 228,
     "metadata": {},
     "output_type": "execute_result"
    }
   ],
   "source": [
    "processed_shps = gpd.GeoDataFrame()\n",
    "processed_shps"
   ]
  },
  {
   "cell_type": "code",
   "execution_count": 221,
   "id": "1d981f1d",
   "metadata": {},
   "outputs": [],
   "source": [
    "shp_to_diff = subbasin_shps[0].iloc[0,-1]"
   ]
  },
  {
   "cell_type": "code",
   "execution_count": 223,
   "id": "425f32ab",
   "metadata": {},
   "outputs": [
    {
     "data": {
      "text/plain": [
       "11    MULTIPOLYGON (((-110.90420 41.35830, -110.9042...\n",
       "dtype: geometry"
      ]
     },
     "execution_count": 223,
     "metadata": {},
     "output_type": "execute_result"
    }
   ],
   "source": [
    "processed_shps.difference(shp_to_diff)"
   ]
  },
  {
   "cell_type": "code",
   "execution_count": 132,
   "id": "8d05715e",
   "metadata": {},
   "outputs": [
    {
     "name": "stdout",
     "output_type": "stream",
     "text": [
      "hello\n"
     ]
    }
   ],
   "source": [
    "if grdc_sub_ids:\n",
    "    print('hello')"
   ]
  }
 ],
 "metadata": {
  "kernelspec": {
   "display_name": "rioxarray_env",
   "language": "python",
   "name": "python3"
  },
  "language_info": {
   "codemirror_mode": {
    "name": "ipython",
    "version": 3
   },
   "file_extension": ".py",
   "mimetype": "text/x-python",
   "name": "python",
   "nbconvert_exporter": "python",
   "pygments_lexer": "ipython3",
   "version": "3.11.5"
  }
 },
 "nbformat": 4,
 "nbformat_minor": 5
}
