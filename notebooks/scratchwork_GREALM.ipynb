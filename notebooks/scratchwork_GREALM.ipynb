{
 "cells": [
  {
   "cell_type": "code",
   "execution_count": 1,
   "id": "02e63544-27e1-4955-8a13-fac4680a27aa",
   "metadata": {},
   "outputs": [],
   "source": [
    "import pandas as pd\n",
    "import codebase"
   ]
  },
  {
   "cell_type": "code",
   "execution_count": 2,
   "id": "6149be66-83c4-4106-a434-70d3e0113a58",
   "metadata": {},
   "outputs": [],
   "source": [
    "grealm_raw = pd.read_csv('https://ipad.fas.usda.gov/lakes/images/lake000462.10d.2.smooth.txt',header=12,sep = ' ',skipinitialspace=True)"
   ]
  },
  {
   "cell_type": "code",
   "execution_count": 3,
   "id": "c6821b7c-48d7-4ee0-85e1-8919779d39a4",
   "metadata": {},
   "outputs": [],
   "source": [
    "grealm_raw.rename(columns={ '99999999':'Date', \n",
    "                           '99':'Hour', \n",
    "                           '99.1':'Minute',\n",
    "                           '999.99':'height_var_JASON2',\n",
    "                           '9999.99':'height_mMSL'},\n",
    "                 inplace=True)"
   ]
  },
  {
   "cell_type": "code",
   "execution_count": 4,
   "id": "cbc3c31f-8f7e-412e-92d2-4423c3c8bef4",
   "metadata": {},
   "outputs": [],
   "source": [
    "grealm_nanfiltered = grealm_raw.loc[(grealm_raw['Date']!=99999999) & (grealm_raw['height_mMSL'] != 9999.99)]\n",
    "grealm_nanfiltered.index = pd.to_datetime(grealm_nanfiltered['Date'],format='%Y%m%d')"
   ]
  },
  {
   "cell_type": "code",
   "execution_count": 5,
   "id": "e176b322-fe5f-4b44-a8b3-0543f3df6aab",
   "metadata": {},
   "outputs": [],
   "source": [
    "grealm_all_heights = grealm_nanfiltered[['height_var_JASON2','height_mMSL']]"
   ]
  },
  {
   "cell_type": "code",
   "execution_count": 6,
   "id": "e20c4aa0-706c-4a7f-930b-aa8581606ce7",
   "metadata": {},
   "outputs": [
    {
     "data": {
      "text/html": [
       "<div>\n",
       "<style scoped>\n",
       "    .dataframe tbody tr th:only-of-type {\n",
       "        vertical-align: middle;\n",
       "    }\n",
       "\n",
       "    .dataframe tbody tr th {\n",
       "        vertical-align: top;\n",
       "    }\n",
       "\n",
       "    .dataframe thead th {\n",
       "        text-align: right;\n",
       "    }\n",
       "</style>\n",
       "<table border=\"1\" class=\"dataframe\">\n",
       "  <thead>\n",
       "    <tr style=\"text-align: right;\">\n",
       "      <th></th>\n",
       "      <th>height_var_JASON2</th>\n",
       "      <th>height_mMSL</th>\n",
       "    </tr>\n",
       "    <tr>\n",
       "      <th>Date</th>\n",
       "      <th></th>\n",
       "      <th></th>\n",
       "    </tr>\n",
       "  </thead>\n",
       "  <tbody>\n",
       "    <tr>\n",
       "      <th>1992-10-01</th>\n",
       "      <td>-5.155000</td>\n",
       "      <td>1102.540000</td>\n",
       "    </tr>\n",
       "    <tr>\n",
       "      <th>1992-11-01</th>\n",
       "      <td>-5.830000</td>\n",
       "      <td>1103.080000</td>\n",
       "    </tr>\n",
       "    <tr>\n",
       "      <th>1992-12-01</th>\n",
       "      <td>NaN</td>\n",
       "      <td>NaN</td>\n",
       "    </tr>\n",
       "    <tr>\n",
       "      <th>1993-01-01</th>\n",
       "      <td>-6.423333</td>\n",
       "      <td>1101.596667</td>\n",
       "    </tr>\n",
       "    <tr>\n",
       "      <th>1993-02-01</th>\n",
       "      <td>-6.630000</td>\n",
       "      <td>1101.520000</td>\n",
       "    </tr>\n",
       "    <tr>\n",
       "      <th>...</th>\n",
       "      <td>...</td>\n",
       "      <td>...</td>\n",
       "    </tr>\n",
       "    <tr>\n",
       "      <th>2024-03-01</th>\n",
       "      <td>-22.250000</td>\n",
       "      <td>1086.250000</td>\n",
       "    </tr>\n",
       "    <tr>\n",
       "      <th>2024-04-01</th>\n",
       "      <td>-22.620000</td>\n",
       "      <td>1085.475000</td>\n",
       "    </tr>\n",
       "    <tr>\n",
       "      <th>2024-05-01</th>\n",
       "      <td>-21.437500</td>\n",
       "      <td>1086.667500</td>\n",
       "    </tr>\n",
       "    <tr>\n",
       "      <th>2024-06-01</th>\n",
       "      <td>-17.126667</td>\n",
       "      <td>1091.706667</td>\n",
       "    </tr>\n",
       "    <tr>\n",
       "      <th>2024-07-01</th>\n",
       "      <td>-14.470000</td>\n",
       "      <td>1094.100000</td>\n",
       "    </tr>\n",
       "  </tbody>\n",
       "</table>\n",
       "<p>382 rows × 2 columns</p>\n",
       "</div>"
      ],
      "text/plain": [
       "            height_var_JASON2  height_mMSL\n",
       "Date                                      \n",
       "1992-10-01          -5.155000  1102.540000\n",
       "1992-11-01          -5.830000  1103.080000\n",
       "1992-12-01                NaN          NaN\n",
       "1993-01-01          -6.423333  1101.596667\n",
       "1993-02-01          -6.630000  1101.520000\n",
       "...                       ...          ...\n",
       "2024-03-01         -22.250000  1086.250000\n",
       "2024-04-01         -22.620000  1085.475000\n",
       "2024-05-01         -21.437500  1086.667500\n",
       "2024-06-01         -17.126667  1091.706667\n",
       "2024-07-01         -14.470000  1094.100000\n",
       "\n",
       "[382 rows x 2 columns]"
      ]
     },
     "execution_count": 6,
     "metadata": {},
     "output_type": "execute_result"
    }
   ],
   "source": [
    "grealm_all_heights_M = codebase.time_series_calcs.resample_to_monthly(grealm_all_heights)\n",
    "grealm_all_heights_M"
   ]
  },
  {
   "cell_type": "code",
   "execution_count": 7,
   "id": "c5e916d6-c95a-4830-a4f0-ddaa7d9ba7c1",
   "metadata": {},
   "outputs": [
    {
     "data": {
      "text/plain": [
       "Timestamp('2018-01-01 00:00:00')"
      ]
     },
     "execution_count": 7,
     "metadata": {},
     "output_type": "execute_result"
    }
   ],
   "source": [
    "pd.to_datetime('2018-01-01')"
   ]
  },
  {
   "cell_type": "code",
   "execution_count": 8,
   "id": "12b2f528-30bc-4cf7-8320-c2063a2a563a",
   "metadata": {},
   "outputs": [
    {
     "data": {
      "text/plain": [
       "<Axes: xlabel='Date'>"
      ]
     },
     "execution_count": 8,
     "metadata": {},
     "output_type": "execute_result"
    },
    {
     "data": {
      "image/png": "[encoded data removed]",
      "text/plain": [
       "<Figure size 640x480 with 1 Axes>"
      ]
     },
     "metadata": {},
     "output_type": "display_data"
    }
   ],
   "source": [
    "grealm_all_heights_M.loc[pd.to_datetime('2018-01-01'):,'height_mMSL'].plot()"
   ]
  }
 ],
 "metadata": {
  "kernelspec": {
   "display_name": "rioxarray_kernel",
   "language": "python",
   "name": "rioxarray_kernel"
  },
  "language_info": {
   "codemirror_mode": {
    "name": "ipython",
    "version": 3
   },
   "file_extension": ".py",
   "mimetype": "text/x-python",
   "name": "python",
   "nbconvert_exporter": "python",
   "pygments_lexer": "ipython3",
   "version": "3.11.5"
  }
 },
 "nbformat": 4,
 "nbformat_minor": 5
}
