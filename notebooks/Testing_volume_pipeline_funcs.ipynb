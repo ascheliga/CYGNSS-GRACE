{
 "cells": [
  {
   "cell_type": "code",
   "execution_count": 1,
   "id": "22cb3054",
   "metadata": {},
   "outputs": [],
   "source": [
    "import numpy as np\n",
    "import pandas as pd\n",
    "import xarray as xr\n",
    "import rioxarray\n",
    "from matplotlib import pyplot as plt\n",
    "import codebase"
   ]
  },
  {
   "cell_type": "code",
   "execution_count": null,
   "id": "bf1fa82d",
   "metadata": {},
   "outputs": [],
   "source": [
    "res_shp = codebase.load_data.load_GRanD()"
   ]
  },
  {
   "cell_type": "code",
   "execution_count": null,
   "id": "ec13cbcf",
   "metadata": {},
   "outputs": [],
   "source": [
    "from codebase import volume_pipeline"
   ]
  },
  {
   "cell_type": "code",
   "execution_count": null,
   "id": "f1e4fce1",
   "metadata": {},
   "outputs": [],
   "source": [
    "# Step 1 wrapper function works\n",
    "dem_DA , fw_DA = volume_pipeline.create_aligned_DEM_CYGNSS_subsets('Indirasagar',res_shp)"
   ]
  },
  {
   "cell_type": "code",
   "execution_count": null,
   "id": "ab7d61ed",
   "metadata": {},
   "outputs": [],
   "source": [
    "# Step 2 function works\n",
    "fw_diff_DA = volume_pipeline.difference_over_time(fw_DA)"
   ]
  },
  {
   "cell_type": "code",
   "execution_count": null,
   "id": "2dd73a40",
   "metadata": {},
   "outputs": [],
   "source": [
    "# Step 3 single timestep and vectorized work.\n",
    "change_cond_DA = volume_pipeline.decide_expansion_or_shrinkage_vectorize(fw_diff_DA)\n",
    "\n",
    "# Testing out vectorization of Step 3 (label as expand/shrink for each timestep)\n",
    "test_vectorized = xr.apply_ufunc(volume_pipeline.decide_expansion_or_shrinkage_timestep,\n",
    "                                 fw_diff_DA,input_core_dims=[['lat','lon']],vectorize=True)"
   ]
  },
  {
   "cell_type": "code",
   "execution_count": null,
   "id": "dadaa327",
   "metadata": {},
   "outputs": [],
   "source": [
    "# Step 4 wrapper function works\n",
    "from scipy.stats import norm\n",
    "change_cond_time0 = change_cond_DA.isel(time=0)\n",
    "fw_diff_time0 = fw_diff_DA.isel(time=0)\n",
    "fw_time0 = fw_DA.isel(time=0)\n",
    "start_params = volume_pipeline.fit_DEM_distribution_from_conditional_area(dem_DA, fw_time0, 1, norm)\n",
    "change_params = volume_pipeline.fit_DEM_distribution_from_conditional_area(dem_DA, fw_diff_time0, change_cond_time0, norm)\n",
    "print('params of start timestep:',start_params)\n",
    "print('params of change in area:',change_params)"
   ]
  },
  {
   "cell_type": "code",
   "execution_count": null,
   "id": "0253d350",
   "metadata": {},
   "outputs": [],
   "source": [
    "## Could not vectorize the Step 4 function(s). Skipped vectorization and made for loop functions :(\n",
    "\n",
    "# from xarray import DataArray\n",
    "# def grab_DEM_of_conditional_area(\n",
    "#     dem_DA: DataArray, cond_DA: DataArray, cond: int = 1\n",
    "# ) -> DataArray:\n",
    "#     print(type(dem_DA), type(cond_DA) , cond)\n",
    "#     print(dem_DA.shape)\n",
    "#     dem_cond_area = dem_DA.where(cond_DA == cond)\n",
    "#     return dem_cond_area\n",
    "\n",
    "\n",
    "# xr.apply_ufunc(grab_DEM_of_conditional_area,\n",
    "#                fw_DA,input_core_dims=[['lat','lon']],kwargs={'dem_DA':dem_DA},\n",
    "#               vectorize=True, output_core_dims=['time'])\n",
    "\n",
    "# xr.apply_ufunc(volume_pipeline.fit_DEM_distribution_from_conditional_area,\n",
    "#                dem_DA,fw_DA[:-1,:,:],change_cond_DA,norm,\n",
    "#               input_core_dims=[['lat','lon'],['lat','lon'],[],[]],\n",
    "#               vectorize=True, join='right')"
   ]
  },
  {
   "cell_type": "code",
   "execution_count": null,
   "id": "b694d351",
   "metadata": {},
   "outputs": [],
   "source": []
  },
  {
   "cell_type": "code",
   "execution_count": null,
   "id": "9d85151c",
   "metadata": {},
   "outputs": [],
   "source": [
    "test_params = volume_pipeline.loop_through_time_series_to_get_fit_params(dem_DA,fw_diff_DA,change_cond_DA,norm)"
   ]
  },
  {
   "cell_type": "code",
   "execution_count": null,
   "id": "d841773e",
   "metadata": {},
   "outputs": [],
   "source": [
    "test_heights = volume_pipeline.calculate_height_time_series_from_start_and_change_in_DEM(dem_DA,fw_DA,fw_diff_DA,change_cond_DA)"
   ]
  },
  {
   "cell_type": "code",
   "execution_count": null,
   "id": "bfba9f0a",
   "metadata": {},
   "outputs": [],
   "source": [
    "test_heights"
   ]
  },
  {
   "cell_type": "code",
   "execution_count": null,
   "id": "874eb8d4",
   "metadata": {},
   "outputs": [],
   "source": [
    "fw_diff_DA.isel(time=-1).plot(cmap='RdBu')"
   ]
  },
  {
   "cell_type": "code",
   "execution_count": null,
   "id": "14ae21cf",
   "metadata": {},
   "outputs": [],
   "source": [
    "test_params[0]"
   ]
  },
  {
   "cell_type": "code",
   "execution_count": null,
   "id": "9dbd5aef",
   "metadata": {},
   "outputs": [],
   "source": [
    "def calculate_rough_area(input_DA):\n",
    "    \"\"\"\n",
    "    Placeholder function while I get the pipeline up and running.\n",
    "    Should replace with function(s) project into 2D space.\n",
    "    \"\"\"\n",
    "    pixel_count = input_DA.sum()\n",
    "    area_deg2 = 0.01 *0.01 * pixel_count\n",
    "    return area_deg2"
   ]
  },
  {
   "cell_type": "code",
   "execution_count": null,
   "id": "8765d593",
   "metadata": {},
   "outputs": [],
   "source": [
    "volume_pipeline.calculate_rough_area_vectorize(fw_DA)"
   ]
  },
  {
   "cell_type": "code",
   "execution_count": null,
   "id": "ab2a16f8",
   "metadata": {},
   "outputs": [],
   "source": [
    "test_reproj = fw_DA.rio.reproject(\"ESRI:54017\")"
   ]
  }
 ],
 "metadata": {
  "kernelspec": {
   "display_name": "rioxarray_kernel",
   "language": "python",
   "name": "rioxarray_kernel"
  },
  "language_info": {
   "codemirror_mode": {
    "name": "ipython",
    "version": 3
   },
   "file_extension": ".py",
   "mimetype": "text/x-python",
   "name": "python",
   "nbconvert_exporter": "python",
   "pygments_lexer": "ipython3",
   "version": "3.11.5"
  }
 },
 "nbformat": 4,
 "nbformat_minor": 5
}
