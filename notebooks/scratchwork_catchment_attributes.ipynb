{
 "cells": [
  {
   "cell_type": "code",
   "execution_count": 39,
   "id": "d2074f8a",
   "metadata": {},
   "outputs": [],
   "source": [
    "import numpy as np\n",
    "import pandas as pd\n",
    "import os\n",
    "import geopandas as gpd\n",
    "from datetime import date\n",
    "from pathlib import Path\n",
    "import pickle\n",
    "import codebase\n",
    "from codebase import ml_pipeline"
   ]
  },
  {
   "cell_type": "markdown",
   "id": "d9975083",
   "metadata": {
    "vscode": {
     "languageId": "plaintext"
    }
   },
   "source": [
    "topo_vars: gauge_id;gauge_lat;gauge_lon;elev_mean;slope_mean;area_gages2;\n",
    "\n",
    "| topo_vars    | GRDC eq.  | Notes      |\n",
    "|--------------|-----------|------------|\n",
    "| gauge_id     | grdc_no   |            |\n",
    "| gauge_lat    | lat_pp    | from Google Maps inspection, more accurate than lat_org   |\n",
    "| gauge_lon    | long_pp   | from Google Maps inspection, more accurate than long_org  |\n",
    "| elev_mean    |           |            |\n",
    "| slope_mean   |           |            |\n",
    "| area_gages2  | area_calc | some 'area' columns have -999, so using 'area_calc'       |\n",
    "\n",
    "All subregion files are the same."
   ]
  },
  {
   "cell_type": "code",
   "execution_count": 28,
   "id": "a0d7a3ad",
   "metadata": {},
   "outputs": [],
   "source": [
    "## define experimental set-up\n",
    "\n",
    "# grdc stored as floats in the downlaod jsons\n",
    "grdc_id = 1834101\n",
    "basin_str = 'magdalena'"
   ]
  },
  {
   "cell_type": "code",
   "execution_count": 3,
   "id": "d9a63643",
   "metadata": {},
   "outputs": [],
   "source": [
    "## Other variables and filepaths\n",
    "grdc_dir = \"/global/scratch/users/ann_scheliga/aux_dam_datasets/GRDC_CRB/\"\n",
    "met_dir = \"/global/scratch/users/ann_scheliga/era5_data/\"\n",
    "res_dir = \"/global/scratch/users/ann_scheliga/CYGNSS_daily/time_series/\"\n",
    "basin_data_dir = \"/global/scratch/users/ann_scheliga/basin_forcing_processed/\""
   ]
  },
  {
   "cell_type": "code",
   "execution_count": 29,
   "id": "ca00e366",
   "metadata": {},
   "outputs": [],
   "source": [
    "subregions_meta = gpd.read_file(grdc_dir + basin_str + '_subregions.geojson')\n",
    "stations_meta = gpd.read_file(grdc_dir + basin_str + '_stationbasins.geojson')"
   ]
  },
  {
   "cell_type": "code",
   "execution_count": 8,
   "id": "3e2008ea",
   "metadata": {},
   "outputs": [],
   "source": [
    "test_subregion = gpd.read_file(grdc_dir + 'colorado' + '_subregions.geojson')"
   ]
  },
  {
   "cell_type": "code",
   "execution_count": 30,
   "id": "2deebc99",
   "metadata": {},
   "outputs": [
    {
     "name": "stdout",
     "output_type": "stream",
     "text": [
      "(841, 14) (841, 14)\n"
     ]
    }
   ],
   "source": [
    "print(test_subregion.shape, subregions_meta.shape)"
   ]
  },
  {
   "cell_type": "code",
   "execution_count": 31,
   "id": "2396aa76",
   "metadata": {},
   "outputs": [
    {
     "data": {
      "text/plain": [
       "GmlID         841\n",
       "FID           841\n",
       "OBJECTID      841\n",
       "WMOBB         841\n",
       "SUBREGNUM     841\n",
       "SUBREGNAME    841\n",
       "SUBREG_DES    841\n",
       "SUM_SUB_AR    841\n",
       "REGNUM        841\n",
       "REGNAME       841\n",
       "RIVERBASIN    841\n",
       "OCEANNUM      841\n",
       "OCEAN         841\n",
       "geometry      841\n",
       "dtype: int64"
      ]
     },
     "execution_count": 31,
     "metadata": {},
     "output_type": "execute_result"
    }
   ],
   "source": [
    "(test_subregion == subregions_meta).sum()"
   ]
  },
  {
   "cell_type": "code",
   "execution_count": 32,
   "id": "536b5e02",
   "metadata": {},
   "outputs": [],
   "source": [
    "stations_meta['lat_lon_pp'] = gpd.points_from_xy(y =stations_meta['lat_pp'], x =  stations_meta['long_pp'])\n",
    "pp_points = stations_meta.set_geometry('lat_lon_pp', crs = \"EPSG:4326\")"
   ]
  },
  {
   "cell_type": "code",
   "execution_count": 33,
   "id": "7eedeac2",
   "metadata": {},
   "outputs": [],
   "source": [
    "stations_meta['lat_lon'] = gpd.points_from_xy(y =stations_meta['lat_org'], x =  stations_meta['long_org'])\n",
    "org_points = stations_meta.set_geometry('lat_lon', crs = \"EPSG:4326\")"
   ]
  },
  {
   "cell_type": "code",
   "execution_count": 60,
   "id": "376ea29a",
   "metadata": {},
   "outputs": [],
   "source": [
    "# m = org_points.explore(style_kwds=dict(color='red'),tooltip=['grdc_no','station','river','quality'])\n",
    "# pp_points.explore(m=m,style_kwds=dict(color='blue'),tooltip=['grdc_no','station','river','quality'])\n",
    "# m"
   ]
  },
  {
   "cell_type": "code",
   "execution_count": 67,
   "id": "4634d739",
   "metadata": {},
   "outputs": [],
   "source": [
    "def write_topo_features(stations_meta, output_path):\n",
    "    if isinstance(stations_meta, (Path, str)):\n",
    "        stations_meta = gpd.read_file(stations_meta)\n",
    "    topo_df = stations_meta[['grdc_no','lat_pp','long_pp','area_calc']]\n",
    "    topo_df.to_csv(output_path, mode='a', header=not os.path.exists(output_path),sep=';',index=False)\n",
    "    print('Saved to',output_path)"
   ]
  },
  {
   "cell_type": "code",
   "execution_count": null,
   "id": "d7fe687c",
   "metadata": {},
   "outputs": [],
   "source": [
    "station_fns = [Path(grdc_dir) / f for f in os.listdir(grdc_dir) if 'stationbasins' in f]\n",
    "\n",
    "output_path = Path(basin_data_dir)/'basin_attributes' / 'topo_attr.txt'\n",
    "# [write_topo_features(fn,output_path) for fn in station_fns]"
   ]
  },
  {
   "cell_type": "code",
   "execution_count": null,
   "id": "cf03b349",
   "metadata": {},
   "outputs": [],
   "source": []
  },
  {
   "cell_type": "code",
   "execution_count": 75,
   "id": "af14fb06",
   "metadata": {},
   "outputs": [],
   "source": [
    "full_df = pd.read_csv(output_path,sep=';')\n"
   ]
  },
  {
   "cell_type": "code",
   "execution_count": 77,
   "id": "68e154fa",
   "metadata": {},
   "outputs": [],
   "source": [
    "sorted_df = full_df.sort_values(by='grdc_no')\n",
    "sorted_df.to_csv(output_path, header=True,sep=';',index=False)"
   ]
  }
 ],
 "metadata": {
  "kernelspec": {
   "display_name": "rioxarray_env",
   "language": "python",
   "name": "python3"
  },
  "language_info": {
   "codemirror_mode": {
    "name": "ipython",
    "version": 3
   },
   "file_extension": ".py",
   "mimetype": "text/x-python",
   "name": "python",
   "nbconvert_exporter": "python",
   "pygments_lexer": "ipython3",
   "version": "3.11.5"
  }
 },
 "nbformat": 4,
 "nbformat_minor": 5
}
