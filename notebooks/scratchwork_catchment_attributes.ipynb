{
 "cells": [
  {
   "cell_type": "code",
   "execution_count": 1,
   "id": "d2074f8a",
   "metadata": {},
   "outputs": [],
   "source": [
    "import numpy as np\n",
    "import pandas as pd\n",
    "import os\n",
    "import geopandas as gpd\n",
    "from datetime import date\n",
    "from pathlib import Path\n",
    "import pickle\n",
    "import codebase\n",
    "from codebase import ml_pipeline"
   ]
  },
  {
   "cell_type": "markdown",
   "id": "0b1a8df1",
   "metadata": {},
   "source": [
    "All subregion files are the same."
   ]
  },
  {
   "cell_type": "markdown",
   "id": "97fd0114",
   "metadata": {},
   "source": []
  },
  {
   "cell_type": "code",
   "execution_count": 2,
   "id": "a0d7a3ad",
   "metadata": {},
   "outputs": [],
   "source": [
    "## define experimental set-up\n",
    "\n",
    "# grdc stored as floats in the downlaod jsons\n",
    "grdc_id = 4150600\n",
    "basin_str = 'east_texas'"
   ]
  },
  {
   "cell_type": "code",
   "execution_count": 3,
   "id": "d9a63643",
   "metadata": {},
   "outputs": [],
   "source": [
    "## Other variables and filepaths\n",
    "grdc_dir = \"/global/scratch/users/ann_scheliga/aux_dam_datasets/GRDC_CRB/\"\n",
    "met_dir = \"/global/scratch/users/ann_scheliga/era5_data/\"\n",
    "res_dir = \"/global/scratch/users/ann_scheliga/CYGNSS_daily/time_series/\"\n",
    "basin_data_dir = \"/global/scratch/users/ann_scheliga/basin_forcing_processed/\""
   ]
  },
  {
   "cell_type": "code",
   "execution_count": 5,
   "id": "ca00e366",
   "metadata": {},
   "outputs": [],
   "source": [
    "subregions_meta = gpd.read_file(grdc_dir + 'subregions.geojson')\n",
    "stations_meta = gpd.read_file(grdc_dir + basin_str + '_stationbasins.geojson')"
   ]
  },
  {
   "cell_type": "markdown",
   "id": "28f4186f",
   "metadata": {},
   "source": [
    "## TOPO_VARS\n",
    "topo_vars: gauge_id;gauge_lat;gauge_lon;elev_mean;slope_mean;area_gages2;\n",
    "\n",
    "| topo_vars    | GRDC eq.  | Notes      |\n",
    "|--------------|-----------|------------|\n",
    "| gauge_id     | grdc_no   |            |\n",
    "| gauge_lat    | lat_pp    | from Google Maps inspection, more accurate than lat_org   |\n",
    "| gauge_lon    | long_pp   | from Google Maps inspection, more accurate than long_org  |\n",
    "| elev_mean    |           |            |\n",
    "| slope_mean   |           |            |\n",
    "| area_gages2  | area_calc | some 'area' columns have -999, so using 'area_calc'       |\n"
   ]
  },
  {
   "cell_type": "code",
   "execution_count": 32,
   "id": "536b5e02",
   "metadata": {},
   "outputs": [],
   "source": [
    "stations_meta['lat_lon_pp'] = gpd.points_from_xy(y =stations_meta['lat_pp'], x =  stations_meta['long_pp'])\n",
    "pp_points = stations_meta.set_geometry('lat_lon_pp', crs = \"EPSG:4326\")"
   ]
  },
  {
   "cell_type": "code",
   "execution_count": 33,
   "id": "7eedeac2",
   "metadata": {},
   "outputs": [],
   "source": [
    "stations_meta['lat_lon'] = gpd.points_from_xy(y =stations_meta['lat_org'], x =  stations_meta['long_org'])\n",
    "org_points = stations_meta.set_geometry('lat_lon', crs = \"EPSG:4326\")"
   ]
  },
  {
   "cell_type": "code",
   "execution_count": 60,
   "id": "376ea29a",
   "metadata": {},
   "outputs": [],
   "source": [
    "# m = org_points.explore(style_kwds=dict(color='red'),tooltip=['grdc_no','station','river','quality'])\n",
    "# pp_points.explore(m=m,style_kwds=dict(color='blue'),tooltip=['grdc_no','station','river','quality'])\n",
    "# m"
   ]
  },
  {
   "cell_type": "code",
   "execution_count": 67,
   "id": "4634d739",
   "metadata": {},
   "outputs": [],
   "source": [
    "def write_topo_features(stations_meta, output_path):\n",
    "    if isinstance(stations_meta, (Path, str)):\n",
    "        stations_meta = gpd.read_file(stations_meta)\n",
    "    topo_df = stations_meta[['grdc_no','lat_pp','long_pp','area_calc']]\n",
    "    topo_df.to_csv(output_path, mode='a', header=not os.path.exists(output_path),sep=';',index=False)\n",
    "    print('Saved to',output_path)"
   ]
  },
  {
   "cell_type": "code",
   "execution_count": 12,
   "id": "265ba061",
   "metadata": {},
   "outputs": [],
   "source": [
    "basins = ['']"
   ]
  },
  {
   "cell_type": "code",
   "execution_count": 13,
   "id": "d7fe687c",
   "metadata": {},
   "outputs": [
    {
     "data": {
      "text/plain": [
       "[PosixPath('/global/scratch/users/ann_scheliga/aux_dam_datasets/GRDC_CRB/ord_stationbasins.geojson'),\n",
       " PosixPath('/global/scratch/users/ann_scheliga/aux_dam_datasets/GRDC_CRB/santee_stationbasins.geojson'),\n",
       " PosixPath('/global/scratch/users/ann_scheliga/aux_dam_datasets/GRDC_CRB/east_texas_stationbasins.geojson'),\n",
       " PosixPath('/global/scratch/users/ann_scheliga/aux_dam_datasets/GRDC_CRB/shire_stationbasins.geojson'),\n",
       " PosixPath('/global/scratch/users/ann_scheliga/aux_dam_datasets/GRDC_CRB/narmada_stationbasins.geojson'),\n",
       " PosixPath('/global/scratch/users/ann_scheliga/aux_dam_datasets/GRDC_CRB/zambezi_stationbasins.geojson'),\n",
       " PosixPath('/global/scratch/users/ann_scheliga/aux_dam_datasets/GRDC_CRB/colorado_stationbasins.geojson'),\n",
       " PosixPath('/global/scratch/users/ann_scheliga/aux_dam_datasets/GRDC_CRB/magdalena_stationbasins.geojson'),\n",
       " PosixPath('/global/scratch/users/ann_scheliga/aux_dam_datasets/GRDC_CRB/niger_stationbasins.geojson'),\n",
       " PosixPath('/global/scratch/users/ann_scheliga/aux_dam_datasets/GRDC_CRB/ne_aus_coast_stationbasins.geojson'),\n",
       " PosixPath('/global/scratch/users/ann_scheliga/aux_dam_datasets/GRDC_CRB/orange_stationbasins.geojson')]"
      ]
     },
     "execution_count": 13,
     "metadata": {},
     "output_type": "execute_result"
    }
   ],
   "source": [
    "station_fns = [Path(grdc_dir) / f for f in os.listdir(grdc_dir) if any(basin +'_stationbasins' in f for basin in basins)]\n",
    "\n",
    "output_path = Path(basin_data_dir)/'attributes' / 'topo_attr.csv'\n",
    "# [write_topo_features(fn,output_path) for fn in station_fns]\n",
    "\n",
    "station_fns"
   ]
  },
  {
   "cell_type": "code",
   "execution_count": 4,
   "id": "af14fb06",
   "metadata": {},
   "outputs": [],
   "source": [
    "full_df = pd.read_csv(output_path)\n"
   ]
  },
  {
   "cell_type": "code",
   "execution_count": null,
   "id": "c702052d",
   "metadata": {},
   "outputs": [],
   "source": []
  },
  {
   "cell_type": "markdown",
   "id": "20299d8f",
   "metadata": {},
   "source": [
    "## CLIM_VARS\n",
    "clim_vars: gauge_id;p_mean;pet_mean;p_seasonality;frac_snow;aridity;high_prec_freq;high_prec_dur;high_prec_timing;low_prec_freq;low_prec_dur;low_prec_timing\n",
    "| clim_vars       | GRDC eq.  | Notes      |\n",
    "|-----------------|-----------|------------|\n",
    "| gauge_id        | grdc_no   |            |\n",
    "| p_mean          |           |            |\n",
    "| pet_mean        |           |            |\n",
    "| p_seasonality   |           |            |\n",
    "| frac_snow       |           |            |\n",
    "| aridity         |           |            |\n",
    "| high_prec_freq  |           |            |\n",
    "| high_prec_dur   |           |            |\n",
    "| high_prec_timing|           |            |\n",
    "| low_prec_freq   |           |            |\n",
    "| low_prec_dur    |           |            |\n",
    "| low_prec_timing |           |            |"
   ]
  },
  {
   "cell_type": "code",
   "execution_count": 28,
   "id": "bd7216d5",
   "metadata": {},
   "outputs": [],
   "source": [
    "stations_to_run = ['4150600','4150680']"
   ]
  },
  {
   "cell_type": "code",
   "execution_count": 29,
   "id": "3b1629a9",
   "metadata": {},
   "outputs": [
    {
     "data": {
      "text/plain": [
       "['4150600_livingston_dam.pkl', '4150680_sam_rayburn_dam_and_reservoir.pkl']"
      ]
     },
     "execution_count": 29,
     "metadata": {},
     "output_type": "execute_result"
    }
   ],
   "source": [
    "all_pkls = [fn for fn in os.listdir(basin_data_dir) if any((station in fn) and ('.pkl' in fn) for station in stations_to_run)]\n",
    "all_pkls.sort()\n",
    "all_pkls"
   ]
  },
  {
   "cell_type": "code",
   "execution_count": 44,
   "id": "6892dc4b",
   "metadata": {},
   "outputs": [
    {
     "name": "stdout",
     "output_type": "stream",
     "text": [
      "GRDC ID: 1159302\n"
     ]
    }
   ],
   "source": [
    "fn = all_pkls[0]\n",
    "test_read = pickle.load(open(basin_data_dir+fn, 'rb'))\n",
    "grdc_id = list(test_read.keys())[0]\n",
    "print('GRDC ID:',grdc_id)\n",
    "basin_df = test_read[grdc_id]"
   ]
  },
  {
   "cell_type": "code",
   "execution_count": 37,
   "id": "e42e2e13",
   "metadata": {},
   "outputs": [],
   "source": [
    "output_path = Path(basin_data_dir)/'attributes' / 'clim_attr.csv'"
   ]
  },
  {
   "cell_type": "code",
   "execution_count": 89,
   "id": "2a5dad5f",
   "metadata": {},
   "outputs": [],
   "source": [
    "precip_ts = basin_df['precipm_tot0'].loc[(basin_df['precipm_tot0'].index.date >= date(2000,1,1)) * (basin_df['precipm_tot0'].index.date < date(2024,1,1))]\n",
    "\n",
    "p_test = precip_ts.mean()"
   ]
  },
  {
   "cell_type": "code",
   "execution_count": 62,
   "id": "82b6af7b",
   "metadata": {},
   "outputs": [
    {
     "data": {
      "text/plain": [
       "(1, 2)"
      ]
     },
     "execution_count": 62,
     "metadata": {},
     "output_type": "execute_result"
    }
   ],
   "source": [
    "np.array([[grdc_id,p_test]]).shape"
   ]
  },
  {
   "cell_type": "code",
   "execution_count": 72,
   "id": "06fbef37",
   "metadata": {},
   "outputs": [],
   "source": [
    "test_df = pd.DataFrame(columns=['grdc_no','p_mean'],data=np.array([[grdc_id,p_test]]))"
   ]
  },
  {
   "cell_type": "code",
   "execution_count": null,
   "id": "185e32f4",
   "metadata": {},
   "outputs": [],
   "source": []
  },
  {
   "cell_type": "code",
   "execution_count": 90,
   "id": "1aea44c9",
   "metadata": {},
   "outputs": [],
   "source": [
    "cats_to_run = ['clim','topo']"
   ]
  },
  {
   "cell_type": "code",
   "execution_count": 92,
   "id": "c11182bd",
   "metadata": {},
   "outputs": [
    {
     "data": {
      "text/plain": [
       "False"
      ]
     },
     "execution_count": 92,
     "metadata": {},
     "output_type": "execute_result"
    }
   ],
   "source": [
    "'vege' in cats_to_run"
   ]
  },
  {
   "cell_type": "code",
   "execution_count": 85,
   "id": "6b6eb455",
   "metadata": {},
   "outputs": [],
   "source": [
    "from codebase.dataprocessing import standard_precip_mean\n",
    "def write_clim_features(basin_clim, output_path,grdc_id=''):\n",
    "    if isinstance(stations_meta, (Path, str)):\n",
    "        data_dict = pickle.load(open(basin_clim, 'rb'))\n",
    "        grdc_id = list(data_dict.keys())[0]\n",
    "        print('GRDC ID:',grdc_id)\n",
    "        basin_clim = data_dict[grdc_id]\n",
    "    # precip_ts = basin_clim['precipm_tot0'].loc[(basin_clim['precipm_tot0'].index.date >= date(2000,1,1)) * (basin_clim['precipm_tot0'].index.date < date(2024,1,1))]\n",
    "    p_mean = standard_precip_mean(basin_clim)\n",
    "\n",
    "    clim_df = pd.DataFrame(columns=['grdc_no','p_mean'],data=np.array([[grdc_id,p_mean]]))\n",
    "    clim_df['grdc_no'] = clim_df['grdc_no'].astype(int)\n",
    "\n",
    "    print(clim_df)\n",
    "    clim_df.to_csv(output_path, mode='a', header=not os.path.exists(output_path),sep=';',index=False)\n",
    "    print('Saved to',output_path)"
   ]
  },
  {
   "cell_type": "code",
   "execution_count": 86,
   "id": "796663dd",
   "metadata": {},
   "outputs": [
    {
     "name": "stdout",
     "output_type": "stream",
     "text": [
      "   grdc_no    p_mean\n",
      "0  1159302  0.050178\n",
      "Saved to /global/scratch/users/ann_scheliga/basin_forcing_processed/attributes/clim_attr.csv\n"
     ]
    }
   ],
   "source": [
    "write_clim_features(basin_df,output_path,grdc_id)"
   ]
  },
  {
   "cell_type": "code",
   "execution_count": null,
   "id": "fbcaec46",
   "metadata": {},
   "outputs": [],
   "source": []
  }
 ],
 "metadata": {
  "kernelspec": {
   "display_name": "rioxarray_env",
   "language": "python",
   "name": "python3"
  },
  "language_info": {
   "codemirror_mode": {
    "name": "ipython",
    "version": 3
   },
   "file_extension": ".py",
   "mimetype": "text/x-python",
   "name": "python",
   "nbconvert_exporter": "python",
   "pygments_lexer": "ipython3",
   "version": "3.11.5"
  }
 },
 "nbformat": 4,
 "nbformat_minor": 5
}
