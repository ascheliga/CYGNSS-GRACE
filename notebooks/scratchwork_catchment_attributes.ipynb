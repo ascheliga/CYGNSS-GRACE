{
 "cells": [
  {
   "cell_type": "code",
   "execution_count": 1,
   "id": "d2074f8a",
   "metadata": {},
   "outputs": [],
   "source": [
    "import numpy as np\n",
    "import pandas as pd\n",
    "import os\n",
    "import geopandas as gpd\n",
    "from datetime import date\n",
    "from pathlib import Path\n",
    "import pickle\n",
    "import codebase\n",
    "from codebase import ml_pipeline"
   ]
  },
  {
   "cell_type": "markdown",
   "id": "d9975083",
   "metadata": {
    "vscode": {
     "languageId": "plaintext"
    }
   },
   "source": [
    "topo_vars: gauge_id;gauge_lat;gauge_lon;elev_mean;slope_mean;area_gages2;\n",
    "\n",
    "| topo_vars    | GRDC eq.  | Notes      |\n",
    "|--------------|-----------|------------|\n",
    "| gauge_id     | grdc_no   |            |\n",
    "| gauge_lat    | lat_pp    | from Google Maps inspection, more accurate than lat_org   |\n",
    "| gauge_lon    | long_pp   | from Google Maps inspection, more accurate than long_org  |\n",
    "| elev_mean    |           |            |\n",
    "| slope_mean   |           |            |\n",
    "| area_gages2  | area_calc | some 'area' columns have -999, so using 'area_calc'       |\n",
    "\n",
    "All subregion files are the same."
   ]
  },
  {
   "cell_type": "code",
   "execution_count": 28,
   "id": "a0d7a3ad",
   "metadata": {},
   "outputs": [],
   "source": [
    "## define experimental set-up\n",
    "\n",
    "# grdc stored as floats in the downlaod jsons\n",
    "grdc_id = 1834101\n",
    "basin_str = 'magdalena'"
   ]
  },
  {
   "cell_type": "code",
   "execution_count": 2,
   "id": "d9a63643",
   "metadata": {},
   "outputs": [],
   "source": [
    "## Other variables and filepaths\n",
    "grdc_dir = \"/global/scratch/users/ann_scheliga/aux_dam_datasets/GRDC_CRB/\"\n",
    "met_dir = \"/global/scratch/users/ann_scheliga/era5_data/\"\n",
    "res_dir = \"/global/scratch/users/ann_scheliga/CYGNSS_daily/time_series/\"\n",
    "basin_data_dir = \"/global/scratch/users/ann_scheliga/basin_forcing_processed/\""
   ]
  },
  {
   "cell_type": "code",
   "execution_count": 29,
   "id": "ca00e366",
   "metadata": {},
   "outputs": [],
   "source": [
    "subregions_meta = gpd.read_file(grdc_dir + basin_str + '_subregions.geojson')\n",
    "stations_meta = gpd.read_file(grdc_dir + basin_str + '_stationbasins.geojson')"
   ]
  },
  {
   "cell_type": "code",
   "execution_count": 8,
   "id": "3e2008ea",
   "metadata": {},
   "outputs": [],
   "source": [
    "test_subregion = gpd.read_file(grdc_dir + 'colorado' + '_subregions.geojson')"
   ]
  },
  {
   "cell_type": "code",
   "execution_count": 30,
   "id": "2deebc99",
   "metadata": {},
   "outputs": [
    {
     "name": "stdout",
     "output_type": "stream",
     "text": [
      "(841, 14) (841, 14)\n"
     ]
    }
   ],
   "source": [
    "print(test_subregion.shape, subregions_meta.shape)"
   ]
  },
  {
   "cell_type": "code",
   "execution_count": 31,
   "id": "2396aa76",
   "metadata": {},
   "outputs": [
    {
     "data": {
      "text/plain": [
       "GmlID         841\n",
       "FID           841\n",
       "OBJECTID      841\n",
       "WMOBB         841\n",
       "SUBREGNUM     841\n",
       "SUBREGNAME    841\n",
       "SUBREG_DES    841\n",
       "SUM_SUB_AR    841\n",
       "REGNUM        841\n",
       "REGNAME       841\n",
       "RIVERBASIN    841\n",
       "OCEANNUM      841\n",
       "OCEAN         841\n",
       "geometry      841\n",
       "dtype: int64"
      ]
     },
     "execution_count": 31,
     "metadata": {},
     "output_type": "execute_result"
    }
   ],
   "source": [
    "(test_subregion == subregions_meta).sum()"
   ]
  },
  {
   "cell_type": "code",
   "execution_count": 32,
   "id": "536b5e02",
   "metadata": {},
   "outputs": [],
   "source": [
    "stations_meta['lat_lon_pp'] = gpd.points_from_xy(y =stations_meta['lat_pp'], x =  stations_meta['long_pp'])\n",
    "pp_points = stations_meta.set_geometry('lat_lon_pp', crs = \"EPSG:4326\")"
   ]
  },
  {
   "cell_type": "code",
   "execution_count": 33,
   "id": "7eedeac2",
   "metadata": {},
   "outputs": [],
   "source": [
    "stations_meta['lat_lon'] = gpd.points_from_xy(y =stations_meta['lat_org'], x =  stations_meta['long_org'])\n",
    "org_points = stations_meta.set_geometry('lat_lon', crs = \"EPSG:4326\")"
   ]
  },
  {
   "cell_type": "code",
   "execution_count": 60,
   "id": "376ea29a",
   "metadata": {},
   "outputs": [],
   "source": [
    "# m = org_points.explore(style_kwds=dict(color='red'),tooltip=['grdc_no','station','river','quality'])\n",
    "# pp_points.explore(m=m,style_kwds=dict(color='blue'),tooltip=['grdc_no','station','river','quality'])\n",
    "# m"
   ]
  },
  {
   "cell_type": "code",
   "execution_count": 67,
   "id": "4634d739",
   "metadata": {},
   "outputs": [],
   "source": [
    "def write_topo_features(stations_meta, output_path):\n",
    "    if isinstance(stations_meta, (Path, str)):\n",
    "        stations_meta = gpd.read_file(stations_meta)\n",
    "    topo_df = stations_meta[['grdc_no','lat_pp','long_pp','area_calc']]\n",
    "    topo_df.to_csv(output_path, mode='a', header=not os.path.exists(output_path),sep=';',index=False)\n",
    "    print('Saved to',output_path)"
   ]
  },
  {
   "cell_type": "code",
   "execution_count": 3,
   "id": "d7fe687c",
   "metadata": {},
   "outputs": [],
   "source": [
    "station_fns = [Path(grdc_dir) / f for f in os.listdir(grdc_dir) if 'stationbasins' in f]\n",
    "\n",
    "output_path = Path(basin_data_dir)/'attributes' / 'topo_attr.csv'\n",
    "# [write_topo_features(fn,output_path) for fn in station_fns]"
   ]
  },
  {
   "cell_type": "code",
   "execution_count": null,
   "id": "c8b42ba3",
   "metadata": {},
   "outputs": [
    {
     "data": {
      "text/plain": [
       "0      1134020\n",
       "1      1134030\n",
       "2      1134040\n",
       "3      1134050\n",
       "4      1134060\n",
       "        ...   \n",
       "533    5608093\n",
       "534    5608095\n",
       "535    5608096\n",
       "536    5608098\n",
       "537    5708094\n",
       "Name: grdc_no, Length: 538, dtype: int64"
      ]
     },
     "execution_count": 8,
     "metadata": {},
     "output_type": "execute_result"
    }
   ],
   "source": [
    "full_df['grdc_no'].astype(int)\n"
   ]
  },
  {
   "cell_type": "code",
   "execution_count": 9,
   "id": "cf03b349",
   "metadata": {},
   "outputs": [
    {
     "data": {
      "text/html": [
       "<div>\n",
       "<style scoped>\n",
       "    .dataframe tbody tr th:only-of-type {\n",
       "        vertical-align: middle;\n",
       "    }\n",
       "\n",
       "    .dataframe tbody tr th {\n",
       "        vertical-align: top;\n",
       "    }\n",
       "\n",
       "    .dataframe thead th {\n",
       "        text-align: right;\n",
       "    }\n",
       "</style>\n",
       "<table border=\"1\" class=\"dataframe\">\n",
       "  <thead>\n",
       "    <tr style=\"text-align: right;\">\n",
       "      <th></th>\n",
       "      <th>grdc_no</th>\n",
       "      <th>lat_pp</th>\n",
       "      <th>long_pp</th>\n",
       "      <th>area_calc</th>\n",
       "    </tr>\n",
       "  </thead>\n",
       "  <tbody>\n",
       "    <tr>\n",
       "      <th>0</th>\n",
       "      <td>1134020</td>\n",
       "      <td>11.15083</td>\n",
       "      <td>-8.55417</td>\n",
       "      <td>23585.0</td>\n",
       "    </tr>\n",
       "    <tr>\n",
       "      <th>1</th>\n",
       "      <td>1134030</td>\n",
       "      <td>11.68120</td>\n",
       "      <td>-8.66460</td>\n",
       "      <td>70767.7</td>\n",
       "    </tr>\n",
       "    <tr>\n",
       "      <th>2</th>\n",
       "      <td>1134040</td>\n",
       "      <td>11.96880</td>\n",
       "      <td>-8.23120</td>\n",
       "      <td>33038.4</td>\n",
       "    </tr>\n",
       "    <tr>\n",
       "      <th>3</th>\n",
       "      <td>1134050</td>\n",
       "      <td>11.58000</td>\n",
       "      <td>-8.17833</td>\n",
       "      <td>31901.0</td>\n",
       "    </tr>\n",
       "    <tr>\n",
       "      <th>4</th>\n",
       "      <td>1134060</td>\n",
       "      <td>11.12458</td>\n",
       "      <td>-8.19958</td>\n",
       "      <td>4018.3</td>\n",
       "    </tr>\n",
       "    <tr>\n",
       "      <th>...</th>\n",
       "      <td>...</td>\n",
       "      <td>...</td>\n",
       "      <td>...</td>\n",
       "      <td>...</td>\n",
       "    </tr>\n",
       "    <tr>\n",
       "      <th>533</th>\n",
       "      <td>5608093</td>\n",
       "      <td>-16.64750</td>\n",
       "      <td>128.09250</td>\n",
       "      <td>2529.5</td>\n",
       "    </tr>\n",
       "    <tr>\n",
       "      <th>534</th>\n",
       "      <td>5608095</td>\n",
       "      <td>-17.37375</td>\n",
       "      <td>128.85375</td>\n",
       "      <td>19404.0</td>\n",
       "    </tr>\n",
       "    <tr>\n",
       "      <th>535</th>\n",
       "      <td>5608096</td>\n",
       "      <td>-15.57290</td>\n",
       "      <td>128.69370</td>\n",
       "      <td>51205.5</td>\n",
       "    </tr>\n",
       "    <tr>\n",
       "      <th>536</th>\n",
       "      <td>5608098</td>\n",
       "      <td>-16.18667</td>\n",
       "      <td>128.29917</td>\n",
       "      <td>1630.0</td>\n",
       "    </tr>\n",
       "    <tr>\n",
       "      <th>537</th>\n",
       "      <td>5708094</td>\n",
       "      <td>-17.17708</td>\n",
       "      <td>129.09292</td>\n",
       "      <td>7490.9</td>\n",
       "    </tr>\n",
       "  </tbody>\n",
       "</table>\n",
       "<p>538 rows × 4 columns</p>\n",
       "</div>"
      ],
      "text/plain": [
       "     grdc_no    lat_pp    long_pp  area_calc\n",
       "0    1134020  11.15083   -8.55417    23585.0\n",
       "1    1134030  11.68120   -8.66460    70767.7\n",
       "2    1134040  11.96880   -8.23120    33038.4\n",
       "3    1134050  11.58000   -8.17833    31901.0\n",
       "4    1134060  11.12458   -8.19958     4018.3\n",
       "..       ...       ...        ...        ...\n",
       "533  5608093 -16.64750  128.09250     2529.5\n",
       "534  5608095 -17.37375  128.85375    19404.0\n",
       "535  5608096 -15.57290  128.69370    51205.5\n",
       "536  5608098 -16.18667  128.29917     1630.0\n",
       "537  5708094 -17.17708  129.09292     7490.9\n",
       "\n",
       "[538 rows x 4 columns]"
      ]
     },
     "execution_count": 9,
     "metadata": {},
     "output_type": "execute_result"
    }
   ],
   "source": [
    "pd.read_csv(output_path, dtype={0: str})"
   ]
  },
  {
   "cell_type": "code",
   "execution_count": 4,
   "id": "af14fb06",
   "metadata": {},
   "outputs": [],
   "source": [
    "full_df = pd.read_csv(output_path)\n"
   ]
  },
  {
   "cell_type": "code",
   "execution_count": 77,
   "id": "68e154fa",
   "metadata": {},
   "outputs": [],
   "source": [
    "sorted_df = full_df.sort_values(by='grdc_no')\n",
    "sorted_df.to_csv(output_path, header=True,sep=';',index=False)"
   ]
  }
 ],
 "metadata": {
  "kernelspec": {
   "display_name": "rioxarray_env",
   "language": "python",
   "name": "python3"
  },
  "language_info": {
   "codemirror_mode": {
    "name": "ipython",
    "version": 3
   },
   "file_extension": ".py",
   "mimetype": "text/x-python",
   "name": "python",
   "nbconvert_exporter": "python",
   "pygments_lexer": "ipython3",
   "version": "3.11.5"
  }
 },
 "nbformat": 4,
 "nbformat_minor": 5
}
