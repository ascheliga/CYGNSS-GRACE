{
 "cells": [
  {
   "cell_type": "markdown",
   "id": "3473e833-e700-4b57-a716-aaee2766d2e3",
   "metadata": {},
   "source": [
    "Global Runoff Data Center (GRDC) https://portal.grdc.bafg.de/\n",
    "\n",
    "Download process:\n",
    "1. Pick sub-region(s) or station(s) of interest.\n",
    "2. Submit data request form. Select to include watershed boundaries.\n",
    "3. Download zip file from request email response.\n",
    "\n",
    "Download components:\n",
    "- stationbasins.geojson: metadata and geoemetry of the watershed upstream of the gauge.\n",
    "- subregions.geojson: global geodataframe of subregions\n",
    "- stationID_Q_.txt: time series of Q (m3/s) for each station"
   ]
  },
  {
   "cell_type": "code",
   "execution_count": 3,
   "id": "7a06be79-c3e2-4f86-8042-1f42583be79e",
   "metadata": {},
   "outputs": [],
   "source": [
    "import pandas as pd\n",
    "import geopandas as gpd\n",
    "import numpy as np\n",
    "import xarray as xr\n",
    "import rioxarray as rxr\n",
    "import codebase"
   ]
  },
  {
   "cell_type": "code",
   "execution_count": 4,
   "id": "400250d3-ba63-4a4d-8c3c-fd00a5afa9b1",
   "metadata": {},
   "outputs": [],
   "source": [
    "datadir = '/global/scratch/users/ann_scheliga/aux_dam_datasets/GRDC_CRB/'"
   ]
  },
  {
   "cell_type": "code",
   "execution_count": 5,
   "id": "941e8c27-886c-4613-a141-cb93280deab8",
   "metadata": {},
   "outputs": [],
   "source": [
    "subregions_meta = gpd.read_file(datadir + 'subregions.geojson')\n",
    "stations_meta = gpd.read_file(datadir + 'stationbasins.geojson')"
   ]
  },
  {
   "cell_type": "code",
   "execution_count": 21,
   "id": "d14cbc76-e823-4ea0-b15c-0cbd1a329df2",
   "metadata": {},
   "outputs": [],
   "source": [
    "def load_station_metadata(id_no,filepath):\n",
    "    stations_meta = gpd.read_file(filepath + 'stationbasins.geojson')\n",
    "    station_meta = stations_meta.loc[stations_meta['grdc_no'] == id_no]\n",
    "    return station_meta"
   ]
  },
  {
   "cell_type": "code",
   "execution_count": 24,
   "id": "5f7195cd-734f-4873-9e86-4ec453a0d0d1",
   "metadata": {},
   "outputs": [],
   "source": [
    "def load_station_data_by_ID(id_no,filepath, timeseries_dict={},filename_str = '_Q_Day.Cmd.txt'):\n",
    "    station_gpd = load_station_metadata(id_no,filepath)\n",
    "    filename = str(int(id_no))+ filename_str\n",
    "    station_timeseries = codebase.load_data.load_GRDC_timeseries(\n",
    "    filename,\n",
    "    filepath,\n",
    "    **timeseries_dict)\n",
    "    return station_gpd, station_timeseries"
   ]
  },
  {
   "cell_type": "code",
   "execution_count": 26,
   "id": "f7f64738-5596-47ce-b804-e451d916ec37",
   "metadata": {},
   "outputs": [
    {
     "data": {
      "text/plain": [
       "(     grdc_no           river                              station      area  \\\n",
       " 0  4152050.0  COLORADO RIVER  BELOW YUMA MAIN CANAL WW AT YUMA,AZ  618715.0   \n",
       " \n",
       "    altitude  lat_org  long_org   lat_pp   long_pp  dist_km  area_calc quality  \\\n",
       " 0     31.09  32.7317 -114.6319  32.7313 -114.6312      0.1   615846.2    High   \n",
       " \n",
       "         type                                     comment      source  \\\n",
       " 0  Automatic  Area difference <= 5% and distance <= 5 km  hydrosheds   \n",
       " \n",
       "                                             geometry  \n",
       " 0  MULTIPOLYGON (((-110.90830 41.35830, -110.9042...  ,\n",
       "              Q m3s\n",
       " Date              \n",
       " 2000-01-01  24.777\n",
       " 2000-01-02  30.016\n",
       " 2000-01-03  37.661\n",
       " 2000-01-04  24.749\n",
       " 2000-01-05  23.107\n",
       " ...            ...\n",
       " 2024-01-27  45.024\n",
       " 2024-01-28  36.246\n",
       " 2024-01-29  33.697\n",
       " 2024-01-30  32.564\n",
       " 2024-01-31  33.414\n",
       " \n",
       " [8797 rows x 1 columns])"
      ]
     },
     "execution_count": 26,
     "metadata": {},
     "output_type": "execute_result"
    }
   ],
   "source": [
    "load_station_data_by_ID(4152050,filepath=datadir)"
   ]
  },
  {
   "cell_type": "code",
   "execution_count": 16,
   "id": "3e5cc545-46bf-441d-be2f-cc47dc9f8c4d",
   "metadata": {},
   "outputs": [
    {
     "data": {
      "text/html": [
       "<div>\n",
       "<style scoped>\n",
       "    .dataframe tbody tr th:only-of-type {\n",
       "        vertical-align: middle;\n",
       "    }\n",
       "\n",
       "    .dataframe tbody tr th {\n",
       "        vertical-align: top;\n",
       "    }\n",
       "\n",
       "    .dataframe thead th {\n",
       "        text-align: right;\n",
       "    }\n",
       "</style>\n",
       "<table border=\"1\" class=\"dataframe\">\n",
       "  <thead>\n",
       "    <tr style=\"text-align: right;\">\n",
       "      <th></th>\n",
       "      <th>grdc_no</th>\n",
       "      <th>river</th>\n",
       "      <th>station</th>\n",
       "      <th>area</th>\n",
       "      <th>altitude</th>\n",
       "      <th>lat_org</th>\n",
       "      <th>long_org</th>\n",
       "      <th>lat_pp</th>\n",
       "      <th>long_pp</th>\n",
       "      <th>dist_km</th>\n",
       "      <th>area_calc</th>\n",
       "      <th>quality</th>\n",
       "      <th>type</th>\n",
       "      <th>comment</th>\n",
       "      <th>source</th>\n",
       "      <th>geometry</th>\n",
       "    </tr>\n",
       "  </thead>\n",
       "  <tbody>\n",
       "    <tr>\n",
       "      <th>0</th>\n",
       "      <td>4152050.0</td>\n",
       "      <td>COLORADO RIVER</td>\n",
       "      <td>BELOW YUMA MAIN CANAL WW AT YUMA,AZ</td>\n",
       "      <td>618715.0</td>\n",
       "      <td>31.09</td>\n",
       "      <td>32.7317</td>\n",
       "      <td>-114.6319</td>\n",
       "      <td>32.7313</td>\n",
       "      <td>-114.6312</td>\n",
       "      <td>0.1</td>\n",
       "      <td>615846.2</td>\n",
       "      <td>High</td>\n",
       "      <td>Automatic</td>\n",
       "      <td>Area difference &lt;= 5% and distance &lt;= 5 km</td>\n",
       "      <td>hydrosheds</td>\n",
       "      <td>MULTIPOLYGON (((-110.90830 41.35830, -110.9042...</td>\n",
       "    </tr>\n",
       "  </tbody>\n",
       "</table>\n",
       "</div>"
      ],
      "text/plain": [
       "     grdc_no           river                              station      area  \\\n",
       "0  4152050.0  COLORADO RIVER  BELOW YUMA MAIN CANAL WW AT YUMA,AZ  618715.0   \n",
       "\n",
       "   altitude  lat_org  long_org   lat_pp   long_pp  dist_km  area_calc quality  \\\n",
       "0     31.09  32.7317 -114.6319  32.7313 -114.6312      0.1   615846.2    High   \n",
       "\n",
       "        type                                     comment      source  \\\n",
       "0  Automatic  Area difference <= 5% and distance <= 5 km  hydrosheds   \n",
       "\n",
       "                                            geometry  \n",
       "0  MULTIPOLYGON (((-110.90830 41.35830, -110.9042...  "
      ]
     },
     "execution_count": 16,
     "metadata": {},
     "output_type": "execute_result"
    }
   ],
   "source": [
    "stations_meta.loc[stations_meta['grdc_no'] == 4152050]"
   ]
  },
  {
   "cell_type": "code",
   "execution_count": 9,
   "id": "f033c266-b9b0-4606-80f7-3fbadcd0eec9",
   "metadata": {},
   "outputs": [
    {
     "data": {
      "text/html": [
       "<div>\n",
       "<style scoped>\n",
       "    .dataframe tbody tr th:only-of-type {\n",
       "        vertical-align: middle;\n",
       "    }\n",
       "\n",
       "    .dataframe tbody tr th {\n",
       "        vertical-align: top;\n",
       "    }\n",
       "\n",
       "    .dataframe thead th {\n",
       "        text-align: right;\n",
       "    }\n",
       "</style>\n",
       "<table border=\"1\" class=\"dataframe\">\n",
       "  <thead>\n",
       "    <tr style=\"text-align: right;\">\n",
       "      <th></th>\n",
       "      <th>Q m3s</th>\n",
       "    </tr>\n",
       "    <tr>\n",
       "      <th>Date</th>\n",
       "      <th></th>\n",
       "    </tr>\n",
       "  </thead>\n",
       "  <tbody>\n",
       "    <tr>\n",
       "      <th>2018-01-01</th>\n",
       "      <td>25.542</td>\n",
       "    </tr>\n",
       "    <tr>\n",
       "      <th>2018-01-02</th>\n",
       "      <td>28.600</td>\n",
       "    </tr>\n",
       "    <tr>\n",
       "      <th>2018-01-03</th>\n",
       "      <td>27.920</td>\n",
       "    </tr>\n",
       "    <tr>\n",
       "      <th>2018-01-04</th>\n",
       "      <td>38.794</td>\n",
       "    </tr>\n",
       "    <tr>\n",
       "      <th>2018-01-05</th>\n",
       "      <td>39.927</td>\n",
       "    </tr>\n",
       "    <tr>\n",
       "      <th>...</th>\n",
       "      <td>...</td>\n",
       "    </tr>\n",
       "    <tr>\n",
       "      <th>2023-12-27</th>\n",
       "      <td>22.512</td>\n",
       "    </tr>\n",
       "    <tr>\n",
       "      <th>2023-12-28</th>\n",
       "      <td>19.624</td>\n",
       "    </tr>\n",
       "    <tr>\n",
       "      <th>2023-12-29</th>\n",
       "      <td>19.057</td>\n",
       "    </tr>\n",
       "    <tr>\n",
       "      <th>2023-12-30</th>\n",
       "      <td>18.548</td>\n",
       "    </tr>\n",
       "    <tr>\n",
       "      <th>2023-12-31</th>\n",
       "      <td>19.029</td>\n",
       "    </tr>\n",
       "  </tbody>\n",
       "</table>\n",
       "<p>2191 rows × 1 columns</p>\n",
       "</div>"
      ],
      "text/plain": [
       "             Q m3s\n",
       "Date              \n",
       "2018-01-01  25.542\n",
       "2018-01-02  28.600\n",
       "2018-01-03  27.920\n",
       "2018-01-04  38.794\n",
       "2018-01-05  39.927\n",
       "...            ...\n",
       "2023-12-27  22.512\n",
       "2023-12-28  19.624\n",
       "2023-12-29  19.057\n",
       "2023-12-30  18.548\n",
       "2023-12-31  19.029\n",
       "\n",
       "[2191 rows x 1 columns]"
      ]
     },
     "execution_count": 9,
     "metadata": {},
     "output_type": "execute_result"
    }
   ],
   "source": [
    "codebase.load_data.load_GRDC_timeseries('4152050_Q_Day.Cmd.txt', start_year=2018,stop_year = 2024)"
   ]
  },
  {
   "cell_type": "code",
   "execution_count": null,
   "id": "c8b7100d-35bf-4097-a60a-d7da2ebeb75b",
   "metadata": {},
   "outputs": [],
   "source": []
  }
 ],
 "metadata": {
  "kernelspec": {
   "display_name": "rio_keras",
   "language": "python",
   "name": "rio_keras"
  },
  "language_info": {
   "codemirror_mode": {
    "name": "ipython",
    "version": 3
   },
   "file_extension": ".py",
   "mimetype": "text/x-python",
   "name": "python",
   "nbconvert_exporter": "python",
   "pygments_lexer": "ipython3",
   "version": "3.11.5"
  }
 },
 "nbformat": 4,
 "nbformat_minor": 5
}
