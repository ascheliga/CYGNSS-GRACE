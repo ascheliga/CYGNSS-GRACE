{
 "cells": [
  {
   "cell_type": "markdown",
   "id": "3473e833-e700-4b57-a716-aaee2766d2e3",
   "metadata": {},
   "source": [
    "Global Runoff Data Center (GRDC) https://portal.grdc.bafg.de/\n",
    "\n",
    "Download process:\n",
    "1. Pick sub-region(s) or station(s) of interest.\n",
    "2. Submit data request form. Select to include watershed boundaries.\n",
    "3. Download zip file from request email response.\n",
    "\n",
    "Download components:\n",
    "- stationbasins.geojson: metadata and geoemetry of the watershed upstream of the gauge.\n",
    "- subregions.geojson: global geodataframe of subregions\n",
    "- stationID_Q_.txt: time series of Q (m3/s) for each station"
   ]
  },
  {
   "cell_type": "code",
   "execution_count": 38,
   "id": "7a06be79-c3e2-4f86-8042-1f42583be79e",
   "metadata": {},
   "outputs": [],
   "source": [
    "import pandas as pd\n",
    "import geopandas as gpd\n",
    "import numpy as np\n",
    "import xarray as xr\n",
    "import rioxarray as rxr\n",
    "import codebase\n",
    "from multiprocessing import Pool"
   ]
  },
  {
   "cell_type": "code",
   "execution_count": 2,
   "id": "400250d3-ba63-4a4d-8c3c-fd00a5afa9b1",
   "metadata": {},
   "outputs": [],
   "source": [
    "datadir = '/global/scratch/users/ann_scheliga/aux_dam_datasets/GRDC_CRB/'\n",
    "basin = 'niger'"
   ]
  },
  {
   "cell_type": "code",
   "execution_count": 3,
   "id": "941e8c27-886c-4613-a141-cb93280deab8",
   "metadata": {},
   "outputs": [],
   "source": [
    "subregions_meta = gpd.read_file(datadir + basin + '_subregions.geojson')\n",
    "stations_meta = gpd.read_file(datadir + basin + '_stationbasins.geojson')"
   ]
  },
  {
   "cell_type": "code",
   "execution_count": 9,
   "id": "d24b9802",
   "metadata": {},
   "outputs": [],
   "source": [
    "grdc_ids = stations_meta['grdc_no']"
   ]
  },
  {
   "cell_type": "code",
   "execution_count": 57,
   "id": "6abd5a99-a515-46cb-a19b-988c7334f959",
   "metadata": {},
   "outputs": [
    {
     "name": "stdout",
     "output_type": "stream",
     "text": [
      "1634400.0\n"
     ]
    },
    {
     "data": {
      "text/html": [
       "<div>\n",
       "<style scoped>\n",
       "    .dataframe tbody tr th:only-of-type {\n",
       "        vertical-align: middle;\n",
       "    }\n",
       "\n",
       "    .dataframe tbody tr th {\n",
       "        vertical-align: top;\n",
       "    }\n",
       "\n",
       "    .dataframe thead th {\n",
       "        text-align: right;\n",
       "    }\n",
       "</style>\n",
       "<table border=\"1\" class=\"dataframe\">\n",
       "  <thead>\n",
       "    <tr style=\"text-align: right;\">\n",
       "      <th></th>\n",
       "      <th>Q m3s</th>\n",
       "    </tr>\n",
       "    <tr>\n",
       "      <th>Date</th>\n",
       "      <th></th>\n",
       "    </tr>\n",
       "  </thead>\n",
       "  <tbody>\n",
       "    <tr>\n",
       "      <th>2000-01-01</th>\n",
       "      <td>42.7</td>\n",
       "    </tr>\n",
       "    <tr>\n",
       "      <th>2000-01-02</th>\n",
       "      <td>42.3</td>\n",
       "    </tr>\n",
       "    <tr>\n",
       "      <th>2000-01-03</th>\n",
       "      <td>42.0</td>\n",
       "    </tr>\n",
       "    <tr>\n",
       "      <th>2000-01-04</th>\n",
       "      <td>41.3</td>\n",
       "    </tr>\n",
       "    <tr>\n",
       "      <th>2000-01-05</th>\n",
       "      <td>39.8</td>\n",
       "    </tr>\n",
       "    <tr>\n",
       "      <th>...</th>\n",
       "      <td>...</td>\n",
       "    </tr>\n",
       "    <tr>\n",
       "      <th>2002-11-17</th>\n",
       "      <td>135.0</td>\n",
       "    </tr>\n",
       "    <tr>\n",
       "      <th>2002-11-18</th>\n",
       "      <td>131.0</td>\n",
       "    </tr>\n",
       "    <tr>\n",
       "      <th>2002-11-19</th>\n",
       "      <td>127.0</td>\n",
       "    </tr>\n",
       "    <tr>\n",
       "      <th>2002-11-20</th>\n",
       "      <td>123.0</td>\n",
       "    </tr>\n",
       "    <tr>\n",
       "      <th>2002-11-21</th>\n",
       "      <td>121.0</td>\n",
       "    </tr>\n",
       "  </tbody>\n",
       "</table>\n",
       "<p>1056 rows × 1 columns</p>\n",
       "</div>"
      ],
      "text/plain": [
       "            Q m3s\n",
       "Date             \n",
       "2000-01-01   42.7\n",
       "2000-01-02   42.3\n",
       "2000-01-03   42.0\n",
       "2000-01-04   41.3\n",
       "2000-01-05   39.8\n",
       "...           ...\n",
       "2002-11-17  135.0\n",
       "2002-11-18  131.0\n",
       "2002-11-19  127.0\n",
       "2002-11-20  123.0\n",
       "2002-11-21  121.0\n",
       "\n",
       "[1056 rows x 1 columns]"
      ]
     },
     "execution_count": 57,
     "metadata": {},
     "output_type": "execute_result"
    }
   ],
   "source": [
    "grdc_id_OI = grdc_ids[77]\n",
    "print(grdc_id_OI)\n",
    "test_gpd , test_data = codebase.load_data.load_GRDC_station_data_by_ID(grdc_id_OI, filepath=datadir,basin_str=basin)\n",
    "test_data"
   ]
  },
  {
   "cell_type": "code",
   "execution_count": null,
   "id": "1e5c3255",
   "metadata": {},
   "outputs": [],
   "source": []
  }
 ],
 "metadata": {
  "kernelspec": {
   "display_name": "rioxarray_env",
   "language": "python",
   "name": "python3"
  },
  "language_info": {
   "codemirror_mode": {
    "name": "ipython",
    "version": 3
   },
   "file_extension": ".py",
   "mimetype": "text/x-python",
   "name": "python",
   "nbconvert_exporter": "python",
   "pygments_lexer": "ipython3",
   "version": "3.11.5"
  }
 },
 "nbformat": 4,
 "nbformat_minor": 5
}
