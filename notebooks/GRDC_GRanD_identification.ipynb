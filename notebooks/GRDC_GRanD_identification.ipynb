{
 "cells": [
  {
   "cell_type": "code",
   "execution_count": 1,
   "id": "8d3e483c",
   "metadata": {},
   "outputs": [],
   "source": [
    "import pandas as pd\n",
    "import geopandas as gpd\n",
    "import numpy as np\n",
    "import xarray as xr\n",
    "import rioxarray as rxr\n",
    "import codebase"
   ]
  },
  {
   "cell_type": "code",
   "execution_count": 13,
   "id": "ab46c869",
   "metadata": {},
   "outputs": [],
   "source": [
    "datadir = '/global/scratch/users/ann_scheliga/aux_dam_datasets/GRDC_CRB/'\n",
    "basin = 'niger'"
   ]
  },
  {
   "cell_type": "code",
   "execution_count": 3,
   "id": "1e6d92f8",
   "metadata": {},
   "outputs": [],
   "source": [
    "res_shp = codebase.load_data.load_GRanD()"
   ]
  },
  {
   "cell_type": "code",
   "execution_count": 22,
   "id": "865fa84c",
   "metadata": {},
   "outputs": [],
   "source": [
    "niger_basin_res = res_shp.loc[res_shp['MAIN_BASIN'] =='Niger']"
   ]
  },
  {
   "cell_type": "code",
   "execution_count": 14,
   "id": "ef554e41",
   "metadata": {},
   "outputs": [],
   "source": [
    "subregions_meta = gpd.read_file(datadir + basin + '_subregions.geojson')\n",
    "stations_meta = gpd.read_file(datadir + basin + '_stationbasins.geojson')"
   ]
  },
  {
   "cell_type": "code",
   "execution_count": 33,
   "id": "e73b237c",
   "metadata": {},
   "outputs": [
    {
     "data": {
      "text/plain": [
       "Index(['GRAND_ID', 'RES_NAME', 'DAM_NAME', 'ALT_NAME', 'RIVER', 'ALT_RIVER',\n",
       "       'MAIN_BASIN', 'SUB_BASIN', 'NEAR_CITY', 'ALT_CITY', 'ADMIN_UNIT',\n",
       "       'SEC_ADMIN', 'COUNTRY', 'SEC_CNTRY', 'YEAR', 'ALT_YEAR', 'REM_YEAR',\n",
       "       'DAM_HGT_M', 'ALT_HGT_M', 'DAM_LEN_M', 'ALT_LEN_M', 'AREA_SKM',\n",
       "       'AREA_POLY', 'AREA_REP', 'AREA_MAX', 'AREA_MIN', 'CAP_MCM', 'CAP_MAX',\n",
       "       'CAP_REP', 'CAP_MIN', 'DEPTH_M', 'DIS_AVG_LS', 'DOR_PC', 'ELEV_MASL',\n",
       "       'CATCH_SKM', 'CATCH_REP', 'DATA_INFO', 'USE_IRRI', 'USE_ELEC',\n",
       "       'USE_SUPP', 'USE_FCON', 'USE_RECR', 'USE_NAVI', 'USE_FISH', 'USE_PCON',\n",
       "       'USE_LIVE', 'USE_OTHR', 'MAIN_USE', 'LAKE_CTRL', 'MULTI_DAMS',\n",
       "       'TIMELINE', 'COMMENTS', 'URL', 'QUALITY', 'EDITOR', 'LONG_DD', 'LAT_DD',\n",
       "       'POLY_SRC', 'geometry'],\n",
       "      dtype='object')"
      ]
     },
     "execution_count": 33,
     "metadata": {},
     "output_type": "execute_result"
    }
   ],
   "source": [
    "res_shp.columns"
   ]
  },
  {
   "cell_type": "code",
   "execution_count": 39,
   "id": "7bd9fa74",
   "metadata": {},
   "outputs": [
    {
     "name": "stdout",
     "output_type": "stream",
     "text": [
      "Index(['grdc_no', 'river', 'station', 'area', 'altitude', 'lat_org',\n",
      "       'long_org', 'lat_pp', 'long_pp', 'dist_km', 'area_calc', 'quality',\n",
      "       'type', 'comment', 'source', 'geometry'],\n",
      "      dtype='object')\n",
      "(110, 16)\n"
     ]
    }
   ],
   "source": [
    "print(stations_meta.columns)\n",
    "print(stations_meta.shape)"
   ]
  },
  {
   "cell_type": "code",
   "execution_count": 42,
   "id": "a89d4b1d",
   "metadata": {},
   "outputs": [
    {
     "data": {
      "text/html": [
       "<div>\n",
       "<style scoped>\n",
       "    .dataframe tbody tr th:only-of-type {\n",
       "        vertical-align: middle;\n",
       "    }\n",
       "\n",
       "    .dataframe tbody tr th {\n",
       "        vertical-align: top;\n",
       "    }\n",
       "\n",
       "    .dataframe thead th {\n",
       "        text-align: right;\n",
       "    }\n",
       "</style>\n",
       "<table border=\"1\" class=\"dataframe\">\n",
       "  <thead>\n",
       "    <tr style=\"text-align: right;\">\n",
       "      <th></th>\n",
       "      <th>grdc_no</th>\n",
       "      <th>river</th>\n",
       "      <th>station</th>\n",
       "      <th>area</th>\n",
       "      <th>altitude</th>\n",
       "      <th>lat_org</th>\n",
       "      <th>long_org</th>\n",
       "      <th>lat_pp</th>\n",
       "      <th>long_pp</th>\n",
       "      <th>dist_km</th>\n",
       "      <th>area_calc</th>\n",
       "      <th>quality</th>\n",
       "      <th>type</th>\n",
       "      <th>comment</th>\n",
       "      <th>source</th>\n",
       "      <th>geometry</th>\n",
       "      <th>lat_lon</th>\n",
       "    </tr>\n",
       "  </thead>\n",
       "  <tbody>\n",
       "    <tr>\n",
       "      <th>0</th>\n",
       "      <td>1134020.0</td>\n",
       "      <td>SANKARANI</td>\n",
       "      <td>GUELELINKORO</td>\n",
       "      <td>23300.0</td>\n",
       "      <td>-999.0</td>\n",
       "      <td>11.1500</td>\n",
       "      <td>-8.5500</td>\n",
       "      <td>11.15083</td>\n",
       "      <td>-8.55417</td>\n",
       "      <td>0.5</td>\n",
       "      <td>23585.0</td>\n",
       "      <td>High</td>\n",
       "      <td>Automatic</td>\n",
       "      <td>Area difference &lt;= 5% and distance &lt;= 5 km</td>\n",
       "      <td>merit</td>\n",
       "      <td>POLYGON ((-8.96120 9.65790, -8.96210 9.65790, ...</td>\n",
       "      <td>POINT (-8.55000 11.15000)</td>\n",
       "    </tr>\n",
       "    <tr>\n",
       "      <th>1</th>\n",
       "      <td>1134030.0</td>\n",
       "      <td>RIVER NIGER</td>\n",
       "      <td>BANANKORO</td>\n",
       "      <td>71750.0</td>\n",
       "      <td>329.0</td>\n",
       "      <td>11.6833</td>\n",
       "      <td>-8.6667</td>\n",
       "      <td>11.68120</td>\n",
       "      <td>-8.66460</td>\n",
       "      <td>0.3</td>\n",
       "      <td>70767.7</td>\n",
       "      <td>High</td>\n",
       "      <td>Automatic</td>\n",
       "      <td>Area difference &lt;= 5% and distance &lt;= 5 km</td>\n",
       "      <td>hydrosheds</td>\n",
       "      <td>POLYGON ((-10.20000 11.91670, -10.19170 11.916...</td>\n",
       "      <td>POINT (-8.66670 11.68330)</td>\n",
       "    </tr>\n",
       "  </tbody>\n",
       "</table>\n",
       "</div>"
      ],
      "text/plain": [
       "     grdc_no        river       station     area  altitude  lat_org  long_org  \\\n",
       "0  1134020.0    SANKARANI  GUELELINKORO  23300.0    -999.0  11.1500   -8.5500   \n",
       "1  1134030.0  RIVER NIGER     BANANKORO  71750.0     329.0  11.6833   -8.6667   \n",
       "\n",
       "     lat_pp  long_pp  dist_km  area_calc quality       type  \\\n",
       "0  11.15083 -8.55417      0.5    23585.0    High  Automatic   \n",
       "1  11.68120 -8.66460      0.3    70767.7    High  Automatic   \n",
       "\n",
       "                                      comment      source  \\\n",
       "0  Area difference <= 5% and distance <= 5 km       merit   \n",
       "1  Area difference <= 5% and distance <= 5 km  hydrosheds   \n",
       "\n",
       "                                            geometry  \\\n",
       "0  POLYGON ((-8.96120 9.65790, -8.96210 9.65790, ...   \n",
       "1  POLYGON ((-10.20000 11.91670, -10.19170 11.916...   \n",
       "\n",
       "                     lat_lon  \n",
       "0  POINT (-8.55000 11.15000)  \n",
       "1  POINT (-8.66670 11.68330)  "
      ]
     },
     "execution_count": 42,
     "metadata": {},
     "output_type": "execute_result"
    }
   ],
   "source": [
    "stations_meta['lat_lon'] = gpd.points_from_xy(y =stations_meta['lat_org'], x =  stations_meta['long_org'])\n",
    "stations_points = stations_meta.set_geometry('lat_lon', crs = \"EPSG:4326\")\n",
    "stations_points.head(2)"
   ]
  },
  {
   "cell_type": "code",
   "execution_count": 1,
   "id": "205634c2",
   "metadata": {},
   "outputs": [],
   "source": [
    "## Code runs, commented for file size\n",
    "# m = stations_meta.explore(style_kwds={'color':'green','fill':False})\n",
    "# niger_basin_res.explore(m=m,style_kwds=dict(color='blue'),tooltip=['DAM_NAME','RES_NAME','RIVER','AREA_SKM'])\n",
    "# stations_points.explore(m=m,style_kwds=dict(color='red'),tooltip=['grdc_no','station','river','quality'])\n",
    "# m"
   ]
  }
 ],
 "metadata": {
  "kernelspec": {
   "display_name": "rioxarray_env",
   "language": "python",
   "name": "python3"
  },
  "language_info": {
   "codemirror_mode": {
    "name": "ipython",
    "version": 3
   },
   "file_extension": ".py",
   "mimetype": "text/x-python",
   "name": "python",
   "nbconvert_exporter": "python",
   "pygments_lexer": "ipython3",
   "version": "3.11.5"
  }
 },
 "nbformat": 4,
 "nbformat_minor": 5
}
