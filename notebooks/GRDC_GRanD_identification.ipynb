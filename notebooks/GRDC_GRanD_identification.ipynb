{
 "cells": [
  {
   "cell_type": "code",
   "execution_count": 1,
   "id": "8d3e483c",
   "metadata": {},
   "outputs": [],
   "source": [
    "import pandas as pd\n",
    "import geopandas as gpd\n",
    "import numpy as np\n",
    "import xarray as xr\n",
    "import rioxarray as rxr\n",
    "import codebase"
   ]
  },
  {
   "cell_type": "code",
   "execution_count": 2,
   "id": "ab46c869",
   "metadata": {},
   "outputs": [],
   "source": [
    "datadir = '/global/scratch/users/ann_scheliga/aux_dam_datasets/GRDC_CRB/'\n",
    "basin = 'colorado'"
   ]
  },
  {
   "cell_type": "code",
   "execution_count": 3,
   "id": "1e6d92f8",
   "metadata": {},
   "outputs": [],
   "source": [
    "res_shp = codebase.load_data.load_GRanD()"
   ]
  },
  {
   "cell_type": "code",
   "execution_count": null,
   "id": "9495041b",
   "metadata": {},
   "outputs": [],
   "source": []
  },
  {
   "cell_type": "code",
   "execution_count": 4,
   "id": "865fa84c",
   "metadata": {},
   "outputs": [
    {
     "data": {
      "text/html": [
       "<div>\n",
       "<style scoped>\n",
       "    .dataframe tbody tr th:only-of-type {\n",
       "        vertical-align: middle;\n",
       "    }\n",
       "\n",
       "    .dataframe tbody tr th {\n",
       "        vertical-align: top;\n",
       "    }\n",
       "\n",
       "    .dataframe thead th {\n",
       "        text-align: right;\n",
       "    }\n",
       "</style>\n",
       "<table border=\"1\" class=\"dataframe\">\n",
       "  <thead>\n",
       "    <tr style=\"text-align: right;\">\n",
       "      <th></th>\n",
       "      <th>RES_NAME</th>\n",
       "      <th>DAM_NAME</th>\n",
       "      <th>RIVER</th>\n",
       "      <th>SUB_BASIN</th>\n",
       "      <th>ADMIN_UNIT</th>\n",
       "    </tr>\n",
       "  </thead>\n",
       "  <tbody>\n",
       "    <tr>\n",
       "      <th>486</th>\n",
       "      <td>Shadow Mountain</td>\n",
       "      <td>Shadow Mountain</td>\n",
       "      <td>Colorado River</td>\n",
       "      <td>NaN</td>\n",
       "      <td>Colorado</td>\n",
       "    </tr>\n",
       "    <tr>\n",
       "      <th>491</th>\n",
       "      <td>Lake Granby</td>\n",
       "      <td>Granby</td>\n",
       "      <td>Colorado River</td>\n",
       "      <td>NaN</td>\n",
       "      <td>Colorado</td>\n",
       "    </tr>\n",
       "    <tr>\n",
       "      <th>596</th>\n",
       "      <td>Lake Powell</td>\n",
       "      <td>Glen Canyon</td>\n",
       "      <td>Colorado River</td>\n",
       "      <td>NaN</td>\n",
       "      <td>Arizona</td>\n",
       "    </tr>\n",
       "    <tr>\n",
       "      <th>609</th>\n",
       "      <td>Lake Mead</td>\n",
       "      <td>Hoover</td>\n",
       "      <td>Colorado River</td>\n",
       "      <td>NaN</td>\n",
       "      <td>Nevada</td>\n",
       "    </tr>\n",
       "    <tr>\n",
       "      <th>615</th>\n",
       "      <td>Lake Mohave</td>\n",
       "      <td>Davis Bor</td>\n",
       "      <td>Colorado River</td>\n",
       "      <td>NaN</td>\n",
       "      <td>Arizona</td>\n",
       "    </tr>\n",
       "    <tr>\n",
       "      <th>628</th>\n",
       "      <td>Lake Havasu</td>\n",
       "      <td>Parker</td>\n",
       "      <td>Colorado River</td>\n",
       "      <td>NaN</td>\n",
       "      <td>Arizona</td>\n",
       "    </tr>\n",
       "    <tr>\n",
       "      <th>1200</th>\n",
       "      <td>Lake J.B. Thomas</td>\n",
       "      <td>Lake J.B. Thomas Dam</td>\n",
       "      <td>Colorado River</td>\n",
       "      <td>NaN</td>\n",
       "      <td>Texas</td>\n",
       "    </tr>\n",
       "    <tr>\n",
       "      <th>1242</th>\n",
       "      <td>NaN</td>\n",
       "      <td>Robert Lee Dam</td>\n",
       "      <td>Colorado River</td>\n",
       "      <td>NaN</td>\n",
       "      <td>Texas</td>\n",
       "    </tr>\n",
       "    <tr>\n",
       "      <th>1256</th>\n",
       "      <td>NaN</td>\n",
       "      <td>Simon Freese Dam</td>\n",
       "      <td>Colorado River</td>\n",
       "      <td>NaN</td>\n",
       "      <td>Texas</td>\n",
       "    </tr>\n",
       "    <tr>\n",
       "      <th>1279</th>\n",
       "      <td>Lake Buchanan</td>\n",
       "      <td>Buchanan Dam</td>\n",
       "      <td>Colorado River</td>\n",
       "      <td>NaN</td>\n",
       "      <td>Texas</td>\n",
       "    </tr>\n",
       "    <tr>\n",
       "      <th>1282</th>\n",
       "      <td>NaN</td>\n",
       "      <td>Roy Inks Dam</td>\n",
       "      <td>Colorado River</td>\n",
       "      <td>NaN</td>\n",
       "      <td>Texas</td>\n",
       "    </tr>\n",
       "    <tr>\n",
       "      <th>1290</th>\n",
       "      <td>NaN</td>\n",
       "      <td>Alvin Wirtz Dam</td>\n",
       "      <td>Colorado River</td>\n",
       "      <td>NaN</td>\n",
       "      <td>Texas</td>\n",
       "    </tr>\n",
       "    <tr>\n",
       "      <th>1291</th>\n",
       "      <td>NaN</td>\n",
       "      <td>Max Starcke Dam</td>\n",
       "      <td>Colorado River</td>\n",
       "      <td>NaN</td>\n",
       "      <td>Texas</td>\n",
       "    </tr>\n",
       "    <tr>\n",
       "      <th>1293</th>\n",
       "      <td>Lake Travis</td>\n",
       "      <td>Mansfield Dam</td>\n",
       "      <td>Colorado River</td>\n",
       "      <td>NaN</td>\n",
       "      <td>Texas</td>\n",
       "    </tr>\n",
       "    <tr>\n",
       "      <th>1296</th>\n",
       "      <td>NaN</td>\n",
       "      <td>Tom Miller Dam</td>\n",
       "      <td>Colorado River</td>\n",
       "      <td>NaN</td>\n",
       "      <td>Texas</td>\n",
       "    </tr>\n",
       "  </tbody>\n",
       "</table>\n",
       "</div>"
      ],
      "text/plain": [
       "              RES_NAME              DAM_NAME           RIVER SUB_BASIN  \\\n",
       "486    Shadow Mountain       Shadow Mountain  Colorado River       NaN   \n",
       "491        Lake Granby                Granby  Colorado River       NaN   \n",
       "596        Lake Powell           Glen Canyon  Colorado River       NaN   \n",
       "609          Lake Mead                Hoover  Colorado River       NaN   \n",
       "615        Lake Mohave             Davis Bor  Colorado River       NaN   \n",
       "628        Lake Havasu                Parker  Colorado River       NaN   \n",
       "1200  Lake J.B. Thomas  Lake J.B. Thomas Dam  Colorado River       NaN   \n",
       "1242               NaN        Robert Lee Dam  Colorado River       NaN   \n",
       "1256               NaN      Simon Freese Dam  Colorado River       NaN   \n",
       "1279     Lake Buchanan          Buchanan Dam  Colorado River       NaN   \n",
       "1282               NaN          Roy Inks Dam  Colorado River       NaN   \n",
       "1290               NaN       Alvin Wirtz Dam  Colorado River       NaN   \n",
       "1291               NaN       Max Starcke Dam  Colorado River       NaN   \n",
       "1293       Lake Travis         Mansfield Dam  Colorado River       NaN   \n",
       "1296               NaN        Tom Miller Dam  Colorado River       NaN   \n",
       "\n",
       "     ADMIN_UNIT  \n",
       "486    Colorado  \n",
       "491    Colorado  \n",
       "596     Arizona  \n",
       "609      Nevada  \n",
       "615     Arizona  \n",
       "628     Arizona  \n",
       "1200      Texas  \n",
       "1242      Texas  \n",
       "1256      Texas  \n",
       "1279      Texas  \n",
       "1282      Texas  \n",
       "1290      Texas  \n",
       "1291      Texas  \n",
       "1293      Texas  \n",
       "1296      Texas  "
      ]
     },
     "execution_count": 4,
     "metadata": {},
     "output_type": "execute_result"
    }
   ],
   "source": [
    "basin_res = res_shp.loc[res_shp['RIVER'] =='Colorado River']\n",
    "basin_res[['RES_NAME','DAM_NAME','RIVER','SUB_BASIN','ADMIN_UNIT']]"
   ]
  },
  {
   "cell_type": "code",
   "execution_count": 5,
   "id": "ef439759",
   "metadata": {},
   "outputs": [
    {
     "data": {
      "text/plain": [
       "array(['United States'], dtype=object)"
      ]
     },
     "execution_count": 5,
     "metadata": {},
     "output_type": "execute_result"
    }
   ],
   "source": [
    "country_names = basin_res['COUNTRY'].unique()\n",
    "# country_names.sort()\n",
    "country_names"
   ]
  },
  {
   "cell_type": "code",
   "execution_count": 6,
   "id": "ef554e41",
   "metadata": {},
   "outputs": [],
   "source": [
    "subregions_meta = gpd.read_file(datadir + 'subregions.geojson')\n",
    "stations_meta = gpd.read_file(datadir + basin + '_stationbasins.geojson')"
   ]
  },
  {
   "cell_type": "code",
   "execution_count": 7,
   "id": "e73b237c",
   "metadata": {},
   "outputs": [
    {
     "data": {
      "text/plain": [
       "Index(['GRAND_ID', 'RES_NAME', 'DAM_NAME', 'ALT_NAME', 'RIVER', 'ALT_RIVER',\n",
       "       'MAIN_BASIN', 'SUB_BASIN', 'NEAR_CITY', 'ALT_CITY', 'ADMIN_UNIT',\n",
       "       'SEC_ADMIN', 'COUNTRY', 'SEC_CNTRY', 'YEAR', 'ALT_YEAR', 'REM_YEAR',\n",
       "       'DAM_HGT_M', 'ALT_HGT_M', 'DAM_LEN_M', 'ALT_LEN_M', 'AREA_SKM',\n",
       "       'AREA_POLY', 'AREA_REP', 'AREA_MAX', 'AREA_MIN', 'CAP_MCM', 'CAP_MAX',\n",
       "       'CAP_REP', 'CAP_MIN', 'DEPTH_M', 'DIS_AVG_LS', 'DOR_PC', 'ELEV_MASL',\n",
       "       'CATCH_SKM', 'CATCH_REP', 'DATA_INFO', 'USE_IRRI', 'USE_ELEC',\n",
       "       'USE_SUPP', 'USE_FCON', 'USE_RECR', 'USE_NAVI', 'USE_FISH', 'USE_PCON',\n",
       "       'USE_LIVE', 'USE_OTHR', 'MAIN_USE', 'LAKE_CTRL', 'MULTI_DAMS',\n",
       "       'TIMELINE', 'COMMENTS', 'URL', 'QUALITY', 'EDITOR', 'LONG_DD', 'LAT_DD',\n",
       "       'POLY_SRC', 'geometry'],\n",
       "      dtype='object')"
      ]
     },
     "execution_count": 7,
     "metadata": {},
     "output_type": "execute_result"
    }
   ],
   "source": [
    "res_shp.columns"
   ]
  },
  {
   "cell_type": "code",
   "execution_count": 8,
   "id": "7bd9fa74",
   "metadata": {},
   "outputs": [
    {
     "name": "stdout",
     "output_type": "stream",
     "text": [
      "Index(['grdc_no', 'river', 'station', 'area', 'altitude', 'lat_org',\n",
      "       'long_org', 'lat_pp', 'long_pp', 'dist_km', 'area_calc', 'quality',\n",
      "       'type', 'comment', 'source', 'geometry'],\n",
      "      dtype='object')\n",
      "(41, 16)\n"
     ]
    }
   ],
   "source": [
    "print(stations_meta.columns)\n",
    "print(stations_meta.shape)"
   ]
  },
  {
   "cell_type": "code",
   "execution_count": 9,
   "id": "a89d4b1d",
   "metadata": {},
   "outputs": [
    {
     "data": {
      "text/html": [
       "<div>\n",
       "<style scoped>\n",
       "    .dataframe tbody tr th:only-of-type {\n",
       "        vertical-align: middle;\n",
       "    }\n",
       "\n",
       "    .dataframe tbody tr th {\n",
       "        vertical-align: top;\n",
       "    }\n",
       "\n",
       "    .dataframe thead th {\n",
       "        text-align: right;\n",
       "    }\n",
       "</style>\n",
       "<table border=\"1\" class=\"dataframe\">\n",
       "  <thead>\n",
       "    <tr style=\"text-align: right;\">\n",
       "      <th></th>\n",
       "      <th>grdc_no</th>\n",
       "      <th>river</th>\n",
       "      <th>station</th>\n",
       "      <th>area</th>\n",
       "      <th>altitude</th>\n",
       "      <th>lat_org</th>\n",
       "      <th>long_org</th>\n",
       "      <th>lat_pp</th>\n",
       "      <th>long_pp</th>\n",
       "      <th>dist_km</th>\n",
       "      <th>area_calc</th>\n",
       "      <th>quality</th>\n",
       "      <th>type</th>\n",
       "      <th>comment</th>\n",
       "      <th>source</th>\n",
       "      <th>geometry</th>\n",
       "      <th>lat_lon</th>\n",
       "    </tr>\n",
       "  </thead>\n",
       "  <tbody>\n",
       "    <tr>\n",
       "      <th>0</th>\n",
       "      <td>4152050.0</td>\n",
       "      <td>COLORADO RIVER</td>\n",
       "      <td>BELOW YUMA MAIN CANAL WW AT YUMA,AZ</td>\n",
       "      <td>618715.0</td>\n",
       "      <td>31.09</td>\n",
       "      <td>32.7317</td>\n",
       "      <td>-114.6319</td>\n",
       "      <td>32.7313</td>\n",
       "      <td>-114.6312</td>\n",
       "      <td>0.1</td>\n",
       "      <td>615846.2</td>\n",
       "      <td>High</td>\n",
       "      <td>Automatic</td>\n",
       "      <td>Area difference &lt;= 5% and distance &lt;= 5 km</td>\n",
       "      <td>hydrosheds</td>\n",
       "      <td>MULTIPOLYGON (((-110.90830 41.35830, -110.9042...</td>\n",
       "      <td>POINT (-114.63190 32.73170)</td>\n",
       "    </tr>\n",
       "    <tr>\n",
       "      <th>1</th>\n",
       "      <td>4152100.0</td>\n",
       "      <td>COLORADO RIVER</td>\n",
       "      <td>YUMA, ARIZ.</td>\n",
       "      <td>609679.0</td>\n",
       "      <td>31.35</td>\n",
       "      <td>32.7292</td>\n",
       "      <td>-114.6208</td>\n",
       "      <td>32.7313</td>\n",
       "      <td>-114.6188</td>\n",
       "      <td>0.3</td>\n",
       "      <td>615843.6</td>\n",
       "      <td>High</td>\n",
       "      <td>Automatic</td>\n",
       "      <td>Area difference &lt;= 5% and distance &lt;= 5 km</td>\n",
       "      <td>hydrosheds</td>\n",
       "      <td>MULTIPOLYGON (((-110.90830 41.35830, -110.9042...</td>\n",
       "      <td>POINT (-114.62080 32.72920)</td>\n",
       "    </tr>\n",
       "  </tbody>\n",
       "</table>\n",
       "</div>"
      ],
      "text/plain": [
       "     grdc_no           river                              station      area  \\\n",
       "0  4152050.0  COLORADO RIVER  BELOW YUMA MAIN CANAL WW AT YUMA,AZ  618715.0   \n",
       "1  4152100.0  COLORADO RIVER                          YUMA, ARIZ.  609679.0   \n",
       "\n",
       "   altitude  lat_org  long_org   lat_pp   long_pp  dist_km  area_calc quality  \\\n",
       "0     31.09  32.7317 -114.6319  32.7313 -114.6312      0.1   615846.2    High   \n",
       "1     31.35  32.7292 -114.6208  32.7313 -114.6188      0.3   615843.6    High   \n",
       "\n",
       "        type                                     comment      source  \\\n",
       "0  Automatic  Area difference <= 5% and distance <= 5 km  hydrosheds   \n",
       "1  Automatic  Area difference <= 5% and distance <= 5 km  hydrosheds   \n",
       "\n",
       "                                            geometry  \\\n",
       "0  MULTIPOLYGON (((-110.90830 41.35830, -110.9042...   \n",
       "1  MULTIPOLYGON (((-110.90830 41.35830, -110.9042...   \n",
       "\n",
       "                       lat_lon  \n",
       "0  POINT (-114.63190 32.73170)  \n",
       "1  POINT (-114.62080 32.72920)  "
      ]
     },
     "execution_count": 9,
     "metadata": {},
     "output_type": "execute_result"
    }
   ],
   "source": [
    "stations_meta['lat_lon'] = gpd.points_from_xy(y =stations_meta['lat_org'], x =  stations_meta['long_org'])\n",
    "stations_points = stations_meta.set_geometry('lat_lon', crs = \"EPSG:4326\")\n",
    "stations_points.head(2)"
   ]
  },
  {
   "cell_type": "code",
   "execution_count": 17,
   "id": "205634c2",
   "metadata": {},
   "outputs": [],
   "source": [
    "# # Code runs, commented for file size\n",
    "# m = stations_meta.explore(style_kwds={'color':'green','fill':False})\n",
    "# basin_res.explore(m=m,style_kwds=dict(color='blue'),tooltip=['DAM_NAME','RES_NAME','RIVER','AREA_SKM'])\n",
    "# stations_points.explore(m=m,style_kwds=dict(color='red'),tooltip=['grdc_no','station','river','quality'])\n",
    "# # subset_bbox.explore(m=m,style_kwds={'color':'black','fill':False})\n",
    "# m"
   ]
  },
  {
   "cell_type": "code",
   "execution_count": 11,
   "id": "aa8bfeec",
   "metadata": {},
   "outputs": [],
   "source": [
    "dam_name = 'Glen Canyon'\n",
    "subset_gpd = codebase.area_subsets.check_for_multiple_dams(dam_name, res_shp)"
   ]
  },
  {
   "cell_type": "code",
   "execution_count": 15,
   "id": "91578f5a",
   "metadata": {},
   "outputs": [
    {
     "name": "stderr",
     "output_type": "stream",
     "text": [
      "/tmp/ipykernel_2474499/2626916005.py:1: UserWarning: Geometry is in a geographic CRS. Results from 'buffer' are likely incorrect. Use 'GeoSeries.to_crs()' to re-project geometries to a projected CRS before this operation.\n",
      "\n",
      "  subset_bbox = subset_gpd.geometry.buffer(0.15)\n"
     ]
    }
   ],
   "source": [
    "subset_bbox = subset_gpd.geometry.buffer(0.15)"
   ]
  },
  {
   "cell_type": "code",
   "execution_count": 24,
   "id": "94704670",
   "metadata": {},
   "outputs": [
    {
     "data": {
      "text/plain": [
       "1865    POLYGON ((-81.66849 34.15552, -81.66041 34.153...\n",
       "dtype: geometry"
      ]
     },
     "execution_count": 24,
     "metadata": {},
     "output_type": "execute_result"
    }
   ],
   "source": [
    "subset_bbox"
   ]
  }
 ],
 "metadata": {
  "kernelspec": {
   "display_name": "rioxarray_env",
   "language": "python",
   "name": "python3"
  },
  "language_info": {
   "codemirror_mode": {
    "name": "ipython",
    "version": 3
   },
   "file_extension": ".py",
   "mimetype": "text/x-python",
   "name": "python",
   "nbconvert_exporter": "python",
   "pygments_lexer": "ipython3",
   "version": "3.11.5"
  }
 },
 "nbformat": 4,
 "nbformat_minor": 5
}
