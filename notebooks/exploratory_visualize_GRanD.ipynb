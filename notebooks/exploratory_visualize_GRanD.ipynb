{
 "cells": [
  {
   "cell_type": "code",
   "execution_count": null,
   "metadata": {},
   "outputs": [],
   "source": [
    "import pandas as pd\n",
    "import numpy as np\n",
    "import geopandas as gpd\n",
    "import xarray as xr\n",
    "import matplotlib.pyplot as plt\n",
    "\n",
    "import codebase"
   ]
  },
  {
   "cell_type": "code",
   "execution_count": null,
   "metadata": {},
   "outputs": [],
   "source": [
    "res_shp = codebase.load_data.load_GRanD()"
   ]
  },
  {
   "cell_type": "code",
   "execution_count": null,
   "metadata": {},
   "outputs": [],
   "source": [
    "test = codebase.area_subsets.reservoir_name_to_point('Pelican Lake',res_shp,idx=1)\n",
    "test"
   ]
  },
  {
   "cell_type": "code",
   "execution_count": null,
   "metadata": {},
   "outputs": [],
   "source": [
    "np.array()"
   ]
  },
  {
   "cell_type": "code",
   "execution_count": null,
   "metadata": {},
   "outputs": [],
   "source": [
    "dam_name = 'Pelican Lake'\n",
    "dam_row = (res_shp[\"DAM_NAME\"].str.lower()) == (dam_name.lower())\n",
    "coords_oi = tuple(np.array(res_shp.loc[dam_row, [\"LAT_DD\", \"LONG_DD\"]])[0])\n",
    "coords_oi"
   ]
  },
  {
   "cell_type": "code",
   "execution_count": null,
   "metadata": {},
   "outputs": [],
   "source": [
    "isinstance(np.nan, float)"
   ]
  },
  {
   "cell_type": "code",
   "execution_count": null,
   "metadata": {
    "scrolled": true
   },
   "outputs": [],
   "source": [
    "res_shp.columns"
   ]
  },
  {
   "cell_type": "code",
   "execution_count": null,
   "metadata": {},
   "outputs": [],
   "source": [
    "col_res = res_shp.loc[res_shp['MAIN_BASIN']=='Mekong',['RES_NAME','DAM_NAME','RIVER','ADMIN_UNIT','CAP_MCM','AREA_SKM','MAIN_USE','geometry']]"
   ]
  },
  {
   "cell_type": "code",
   "execution_count": null,
   "metadata": {},
   "outputs": [],
   "source": [
    "def mekong_colormap(value):  # scalar value defined in 'column'\n",
    "    if value > 10000:\n",
    "        return \"blue\"\n",
    "    return \"red\""
   ]
  },
  {
   "cell_type": "code",
   "execution_count": null,
   "metadata": {
    "scrolled": false
   },
   "outputs": [],
   "source": [
    "col_res.explore(height=500,width=450,popup='DAM_NAME',column='CAP_MCM',cmap='winter_r',\n",
    "                legend = False,scheme='NaturalBreaks')"
   ]
  },
  {
   "cell_type": "code",
   "execution_count": null,
   "metadata": {},
   "outputs": [],
   "source": [
    "col_res"
   ]
  },
  {
   "cell_type": "markdown",
   "metadata": {},
   "source": [
    "## Test types on subset functions"
   ]
  },
  {
   "cell_type": "code",
   "execution_count": null,
   "metadata": {},
   "outputs": [],
   "source": [
    "res_oi = 'Idirasagar'\n",
    "test = codebase.area_subsets.reservoir_name_to_point(res_oi,res_shp)"
   ]
  }
 ],
 "metadata": {
  "kernelspec": {
   "display_name": "rioxarray_kernel",
   "language": "python",
   "name": "rioxarray_kernel"
  },
  "language_info": {
   "codemirror_mode": {
    "name": "ipython",
    "version": 3
   },
   "file_extension": ".py",
   "mimetype": "text/x-python",
   "name": "python",
   "nbconvert_exporter": "python",
   "pygments_lexer": "ipython3",
   "version": "3.11.5"
  }
 },
 "nbformat": 4,
 "nbformat_minor": 2
}
