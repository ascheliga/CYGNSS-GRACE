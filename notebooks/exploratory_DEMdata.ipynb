{
 "cells": [
  {
   "cell_type": "code",
   "execution_count": 1,
   "id": "ebf1d953",
   "metadata": {},
   "outputs": [],
   "source": [
    "import numpy as np\n",
    "from matplotlib import pyplot as plt\n",
    "from scipy import stats\n",
    "import pandas as pd\n",
    "import xarray as xr\n",
    "import rioxarray\n",
    "\n",
    "import codebase"
   ]
  },
  {
   "cell_type": "markdown",
   "id": "beacd472",
   "metadata": {},
   "source": [
    "## Checking that load functions work\n",
    "The full load and subset load both work."
   ]
  },
  {
   "cell_type": "code",
   "execution_count": 2,
   "id": "695aaa1d",
   "metadata": {},
   "outputs": [],
   "source": [
    "dem_test , lat_test , lon_test = codebase.load_data.load_DEM_full_as_nparray()\n",
    "dem_DA = codebase.load_data.load_DEM_full_as_rxrDA()"
   ]
  },
  {
   "cell_type": "code",
   "execution_count": 3,
   "id": "c5002edf",
   "metadata": {},
   "outputs": [
    {
     "data": {
      "text/html": [
       "<div>\n",
       "<style scoped>\n",
       "    .dataframe tbody tr th:only-of-type {\n",
       "        vertical-align: middle;\n",
       "    }\n",
       "\n",
       "    .dataframe tbody tr th {\n",
       "        vertical-align: top;\n",
       "    }\n",
       "\n",
       "    .dataframe thead th {\n",
       "        text-align: right;\n",
       "    }\n",
       "</style>\n",
       "<table border=\"1\" class=\"dataframe\">\n",
       "  <thead>\n",
       "    <tr style=\"text-align: right;\">\n",
       "      <th></th>\n",
       "      <th>minx</th>\n",
       "      <th>miny</th>\n",
       "      <th>maxx</th>\n",
       "      <th>maxy</th>\n",
       "    </tr>\n",
       "  </thead>\n",
       "  <tbody>\n",
       "    <tr>\n",
       "      <th>0</th>\n",
       "      <td>10</td>\n",
       "      <td>15</td>\n",
       "      <td>30</td>\n",
       "      <td>25</td>\n",
       "    </tr>\n",
       "  </tbody>\n",
       "</table>\n",
       "</div>"
      ],
      "text/plain": [
       "   minx  miny  maxx  maxy\n",
       "0    10    15    30    25"
      ]
     },
     "execution_count": 3,
     "metadata": {},
     "output_type": "execute_result"
    }
   ],
   "source": [
    "bbox_vals = pd.DataFrame(data = np.array([10,15,30,25]).reshape(1,-1),columns = ['minx', 'miny', 'maxx', 'maxy'])\n",
    "bbox_vals"
   ]
  },
  {
   "cell_type": "code",
   "execution_count": 4,
   "id": "ec401ec3",
   "metadata": {},
   "outputs": [
    {
     "ename": "NameError",
     "evalue": "name 'load_DEM_full' is not defined",
     "output_type": "error",
     "traceback": [
      "\u001b[0;31m---------------------------------------------------------------------------\u001b[0m",
      "\u001b[0;31mNameError\u001b[0m                                 Traceback (most recent call last)",
      "Cell \u001b[0;32mIn[4], line 1\u001b[0m\n\u001b[0;32m----> 1\u001b[0m sub_test , lat_test , lon_test\u001b[38;5;241m=\u001b[39m \u001b[43mcodebase\u001b[49m\u001b[38;5;241;43m.\u001b[39;49m\u001b[43mload_data\u001b[49m\u001b[38;5;241;43m.\u001b[39;49m\u001b[43mload_DEM_subset_as_nparray\u001b[49m\u001b[43m(\u001b[49m\u001b[43mbbox_vals\u001b[49m\u001b[43m)\u001b[49m\n\u001b[1;32m      2\u001b[0m sub_DA \u001b[38;5;241m=\u001b[39m codebase\u001b[38;5;241m.\u001b[39mload_data\u001b[38;5;241m.\u001b[39mload_DEM_subset_as_rxrDA(bbox_vals)\n",
      "File \u001b[0;32m~/CYGNSS-GRACE/codebase/load_data.py:380\u001b[0m, in \u001b[0;36mload_DEM_subset_as_nparray\u001b[0;34m(bbox_vals, dem_filepath, dem_filename)\u001b[0m\n\u001b[1;32m    357\u001b[0m \u001b[38;5;28;01mdef\u001b[39;00m \u001b[38;5;21mload_DEM_subset_as_nparray\u001b[39m(\n\u001b[1;32m    358\u001b[0m     bbox_vals: pd\u001b[38;5;241m.\u001b[39mDataFrame,\n\u001b[1;32m    359\u001b[0m     dem_filepath: \u001b[38;5;28mstr\u001b[39m \u001b[38;5;241m=\u001b[39m \u001b[38;5;124m\"\u001b[39m\u001b[38;5;124m/global/scratch/users/cgerlein/\u001b[39m\u001b[38;5;124m\"\u001b[39m\n\u001b[1;32m    360\u001b[0m     \u001b[38;5;124m\"\u001b[39m\u001b[38;5;124mfc_ecohydrology_scratch/CYGNSS/Data/\u001b[39m\u001b[38;5;124m\"\u001b[39m,\n\u001b[1;32m    361\u001b[0m     dem_filename: \u001b[38;5;28mstr\u001b[39m \u001b[38;5;241m=\u001b[39m \u001b[38;5;124m\"\u001b[39m\u001b[38;5;124mCYGNSS_0_01_deg_Map_DEM_Mask.npy\u001b[39m\u001b[38;5;124m\"\u001b[39m,\n\u001b[1;32m    362\u001b[0m ) \u001b[38;5;241m-\u001b[39m\u001b[38;5;241m>\u001b[39m \u001b[38;5;28mtuple\u001b[39m[np\u001b[38;5;241m.\u001b[39mndarray, np\u001b[38;5;241m.\u001b[39mndarray, np\u001b[38;5;241m.\u001b[39mndarray]:\n\u001b[1;32m    363\u001b[0m \u001b[38;5;250m    \u001b[39m\u001b[38;5;124;03m\"\"\"\u001b[39;00m\n\u001b[1;32m    364\u001b[0m \u001b[38;5;124;03m    Read and subset the global 0.01deg DEM file.\u001b[39;00m\n\u001b[1;32m    365\u001b[0m \n\u001b[0;32m   (...)\u001b[0m\n\u001b[1;32m    378\u001b[0m \u001b[38;5;124;03m    lon_subset: np.ndarray\u001b[39;00m\n\u001b[1;32m    379\u001b[0m \u001b[38;5;124;03m    \"\"\"\u001b[39;00m\n\u001b[0;32m--> 380\u001b[0m     full_dem \u001b[38;5;241m=\u001b[39m \u001b[43mload_DEM_full\u001b[49m(dem_filepath, dem_filename)\n\u001b[1;32m    381\u001b[0m     lat_bool \u001b[38;5;241m=\u001b[39m (lat \u001b[38;5;241m>\u001b[39m\u001b[38;5;241m=\u001b[39m bbox_vals[\u001b[38;5;124m\"\u001b[39m\u001b[38;5;124mminy\u001b[39m\u001b[38;5;124m\"\u001b[39m]\u001b[38;5;241m.\u001b[39mvalues[\u001b[38;5;241m0\u001b[39m]) \u001b[38;5;241m&\u001b[39m (\n\u001b[1;32m    382\u001b[0m         lat \u001b[38;5;241m<\u001b[39m\u001b[38;5;241m=\u001b[39m bbox_vals[\u001b[38;5;124m\"\u001b[39m\u001b[38;5;124mmaxy\u001b[39m\u001b[38;5;124m\"\u001b[39m]\u001b[38;5;241m.\u001b[39mvalues[\u001b[38;5;241m0\u001b[39m]\n\u001b[1;32m    383\u001b[0m     )\n\u001b[1;32m    384\u001b[0m     lon_bool \u001b[38;5;241m=\u001b[39m (lon \u001b[38;5;241m>\u001b[39m\u001b[38;5;241m=\u001b[39m bbox_vals[\u001b[38;5;124m\"\u001b[39m\u001b[38;5;124mminx\u001b[39m\u001b[38;5;124m\"\u001b[39m]\u001b[38;5;241m.\u001b[39mvalues[\u001b[38;5;241m0\u001b[39m]) \u001b[38;5;241m&\u001b[39m (\n\u001b[1;32m    385\u001b[0m         lon \u001b[38;5;241m<\u001b[39m\u001b[38;5;241m=\u001b[39m bbox_vals[\u001b[38;5;124m\"\u001b[39m\u001b[38;5;124mmaxx\u001b[39m\u001b[38;5;124m\"\u001b[39m]\u001b[38;5;241m.\u001b[39mvalues[\u001b[38;5;241m0\u001b[39m]\n\u001b[1;32m    386\u001b[0m     )\n",
      "\u001b[0;31mNameError\u001b[0m: name 'load_DEM_full' is not defined"
     ]
    }
   ],
   "source": [
    "sub_test , lat_test , lon_test= codebase.load_data.load_DEM_subset_as_nparray(bbox_vals)\n",
    "sub_DA = codebase.load_data.load_DEM_subset_as_rxrDA(bbox_vals)"
   ]
  },
  {
   "cell_type": "markdown",
   "id": "60500720",
   "metadata": {},
   "source": [
    "## From np.array to xr.DataArray"
   ]
  },
  {
   "cell_type": "code",
   "execution_count": null,
   "id": "d3f65df0",
   "metadata": {},
   "outputs": [],
   "source": [
    "pd.Index(lat_test.round(5))"
   ]
  },
  {
   "cell_type": "code",
   "execution_count": null,
   "id": "c48bf9b7",
   "metadata": {},
   "outputs": [],
   "source": [
    "lat_grid ,lon_grid = np.meshgrid(lat_test,lon_test,indexing='ij')\n"
   ]
  },
  {
   "cell_type": "code",
   "execution_count": null,
   "id": "629919fc",
   "metadata": {},
   "outputs": [],
   "source": [
    "full_xr = xr.DataArray(data = dem_test , dims = ['lat','lon'], \n",
    "                       coords=dict(lat= (['lat'],lat_test),lon=(['lon'],lon_test)))\n",
    "# test_xr = xr.DataArray(data = sub_test , dims = ['lat','lon'],\n",
    "#                        coords=dict(lat= (['lat','lon'],lat_grid),lon=(['lat','lon'],lon_grid)))\n",
    "full_xr"
   ]
  },
  {
   "cell_type": "code",
   "execution_count": null,
   "id": "a318c4de",
   "metadata": {},
   "outputs": [],
   "source": [
    "global_rxr = dem_DA.rio.write_crs(4326)\n",
    "global_rxr.rio.set_spatial_dims(\"lon\", \"lat\", inplace=True)"
   ]
  },
  {
   "cell_type": "code",
   "execution_count": null,
   "id": "2e82c8db",
   "metadata": {},
   "outputs": [],
   "source": [
    "clipped_rxr = global_rxr.rio.clip_box(*bbox_vals.values[0])"
   ]
  },
  {
   "cell_type": "code",
   "execution_count": null,
   "id": "38cefd58",
   "metadata": {},
   "outputs": [],
   "source": []
  },
  {
   "cell_type": "markdown",
   "id": "223cd7cb",
   "metadata": {},
   "source": [
    "## Loading DEM data (not as a function)"
   ]
  },
  {
   "cell_type": "code",
   "execution_count": null,
   "id": "c330d198",
   "metadata": {},
   "outputs": [],
   "source": [
    "dem_filepath = '/global/scratch/users/cgerlein/fc_ecohydrology_scratch/CYGNSS/Data/'\n",
    "dem_filename = 'CYGNSS_0_01_deg_Map_DEM_Mask.npy'\n",
    "dem = np.load(dem_filepath+dem_filename)"
   ]
  },
  {
   "cell_type": "code",
   "execution_count": null,
   "id": "3e103f4c",
   "metadata": {},
   "outputs": [],
   "source": [
    "# latitude ranges from -45 to 45, with num = 9001  \n",
    "# longitude ranges from -180 to 180 with num = 36001\n",
    "# thus the coordinates can be set up as follow: \n",
    "lat = np.linspace(-45,45,dem.shape[0])\n",
    "lon = np.linspace(-180,180,dem.shape[1])\n",
    "# and you can cut off the data by lat and lon  "
   ]
  },
  {
   "cell_type": "code",
   "execution_count": null,
   "id": "f8d78928",
   "metadata": {},
   "outputs": [],
   "source": [
    "print(dem.shape)"
   ]
  },
  {
   "cell_type": "markdown",
   "id": "3485200c",
   "metadata": {},
   "source": [
    "## Messing with DEM data stats"
   ]
  },
  {
   "cell_type": "code",
   "execution_count": null,
   "id": "5e5c7a3d",
   "metadata": {},
   "outputs": [],
   "source": [
    "dem.max() , dem.min() , dem.mean()"
   ]
  },
  {
   "cell_type": "code",
   "execution_count": null,
   "id": "352edd2b",
   "metadata": {},
   "outputs": [],
   "source": [
    "noam = dem[6000:,5000:10000]\n",
    "tibet = dem[5000:8000,25000:30000]"
   ]
  },
  {
   "cell_type": "code",
   "execution_count": null,
   "id": "0ad2323b",
   "metadata": {},
   "outputs": [],
   "source": [
    "plt.imshow(tibet,origin='lower',cmap = 'terrain',vmax = 10000)\n",
    "# plt.imshow(tibet,origin='lower',cmap = 'jet',vmin = 30000, vmax = 32000)\n",
    "plt.colorbar()"
   ]
  },
  {
   "cell_type": "code",
   "execution_count": null,
   "id": "0c46053f",
   "metadata": {},
   "outputs": [],
   "source": [
    "ocean_mask = dem >= 10000\n",
    "land_mask = ~ocean_mask"
   ]
  },
  {
   "cell_type": "code",
   "execution_count": null,
   "id": "1a5c647d",
   "metadata": {},
   "outputs": [],
   "source": [
    "plt.figure(figsize=(60,15))\n",
    "plt.rcParams.update({'font.size': 14})\n",
    "# plt.imshow(ocean_mask,origin='lower')\n",
    "plt.imshow(dem,origin = \"lower\", cmap=\"terrain\", vmax=7000)\n",
    "plt.colorbar(location = \"bottom\")"
   ]
  },
  {
   "cell_type": "code",
   "execution_count": null,
   "id": "dfe5092f",
   "metadata": {},
   "outputs": [],
   "source": [
    "lat_grid , lon_grid = np.meshgrid(lat,lon,indexing = 'ij',copy=False)"
   ]
  },
  {
   "cell_type": "code",
   "execution_count": null,
   "id": "2c58ad0b",
   "metadata": {},
   "outputs": [],
   "source": [
    "dem.shape"
   ]
  },
  {
   "cell_type": "code",
   "execution_count": null,
   "id": "31f20f49",
   "metadata": {},
   "outputs": [],
   "source": [
    "test_bool = ((lat_grid > 0) * (lon_grid >0))\n",
    "print(test_bool.shape)"
   ]
  },
  {
   "cell_type": "code",
   "execution_count": null,
   "id": "eaafb159",
   "metadata": {},
   "outputs": [],
   "source": [
    "lat[lat >= 0]"
   ]
  },
  {
   "cell_type": "code",
   "execution_count": null,
   "id": "8dc42d87",
   "metadata": {},
   "outputs": [],
   "source": [
    "dem[test_bool].shape"
   ]
  },
  {
   "cell_type": "code",
   "execution_count": null,
   "id": "742343a0",
   "metadata": {},
   "outputs": [],
   "source": [
    "## Testing out using lat/lon to subset\n",
    "lat_subset = (lat_grid > 0)\n",
    "lon_subset = (lon > 0)\n",
    "\n",
    "subset_test = dem[np.ix_(lat>0,(lon > 0)&(lon<90))]\n",
    "print(subset_test.shape)\n",
    "plt.imshow(subset_test,origin = \"lower\", cmap=\"terrain\", vmax=6000)"
   ]
  },
  {
   "cell_type": "code",
   "execution_count": null,
   "id": "9af5d718",
   "metadata": {},
   "outputs": [],
   "source": []
  }
 ],
 "metadata": {
  "kernelspec": {
   "display_name": "rioxarray_kernel",
   "language": "python",
   "name": "rioxarray_kernel"
  },
  "language_info": {
   "codemirror_mode": {
    "name": "ipython",
    "version": 3
   },
   "file_extension": ".py",
   "mimetype": "text/x-python",
   "name": "python",
   "nbconvert_exporter": "python",
   "pygments_lexer": "ipython3",
   "version": "3.11.5"
  }
 },
 "nbformat": 4,
 "nbformat_minor": 5
}
