{
 "cells": [
  {
   "cell_type": "code",
   "execution_count": 1,
   "id": "ebf1d953",
   "metadata": {},
   "outputs": [],
   "source": [
    "import numpy as np\n",
    "from matplotlib import pyplot as plt\n",
    "from scipy import stats\n",
    "import pandas as pd\n",
    "\n",
    "import codebase"
   ]
  },
  {
   "cell_type": "markdown",
   "id": "beacd472",
   "metadata": {},
   "source": [
    "## Checking that load functions work\n",
    "The full load and subset load both work."
   ]
  },
  {
   "cell_type": "code",
   "execution_count": 2,
   "id": "695aaa1d",
   "metadata": {},
   "outputs": [],
   "source": [
    "dem_test ,lat_test , lon_test = codebase.load_data.load_DEM_full()"
   ]
  },
  {
   "cell_type": "code",
   "execution_count": null,
   "id": "c5002edf",
   "metadata": {},
   "outputs": [],
   "source": [
    "bbox_vals = pd.DataFrame(data = np.array([10,15,30,25]).reshape(1,-1),columns = ['minx', 'miny', 'maxx', 'maxy'])\n",
    "bbox_vals"
   ]
  },
  {
   "cell_type": "code",
   "execution_count": null,
   "id": "ec401ec3",
   "metadata": {},
   "outputs": [],
   "source": [
    "sub_test , lat_test , lon_test= codebase.load_data.load_DEM_subset(bbox_vals)"
   ]
  },
  {
   "cell_type": "code",
   "execution_count": null,
   "id": "ebe18da3",
   "metadata": {},
   "outputs": [],
   "source": [
    "sub_test.max() , sub_test.min() , sub_test.mean()"
   ]
  },
  {
   "cell_type": "markdown",
   "id": "223cd7cb",
   "metadata": {},
   "source": [
    "## Loading DEM data (not as a function)"
   ]
  },
  {
   "cell_type": "code",
   "execution_count": null,
   "id": "c330d198",
   "metadata": {},
   "outputs": [],
   "source": [
    "dem_filepath = '/global/scratch/users/cgerlein/fc_ecohydrology_scratch/CYGNSS/Data/'\n",
    "dem_filename = 'CYGNSS_0_01_deg_Map_DEM_Mask.npy'\n",
    "dem = np.load(dem_filepath+dem_filename)"
   ]
  },
  {
   "cell_type": "code",
   "execution_count": null,
   "id": "3e103f4c",
   "metadata": {},
   "outputs": [],
   "source": [
    "# latitude ranges from -45 to 45, with num = 9001  \n",
    "# longitude ranges from -180 to 180 with num = 36001\n",
    "# thus the coordinates can be set up as follow: \n",
    "lat = np.linspace(-45,45,dem.shape[0])\n",
    "lon = np.linspace(-180,180,dem.shape[1])\n",
    "# and you can cut off the data by lat and lon  "
   ]
  },
  {
   "cell_type": "code",
   "execution_count": null,
   "id": "f8d78928",
   "metadata": {},
   "outputs": [],
   "source": [
    "print(dem.shape)"
   ]
  },
  {
   "cell_type": "markdown",
   "id": "3485200c",
   "metadata": {},
   "source": [
    "## Messing with DEM data stats"
   ]
  },
  {
   "cell_type": "code",
   "execution_count": null,
   "id": "5e5c7a3d",
   "metadata": {},
   "outputs": [],
   "source": [
    "dem.max() , dem.min() , dem.mean()"
   ]
  },
  {
   "cell_type": "code",
   "execution_count": null,
   "id": "352edd2b",
   "metadata": {},
   "outputs": [],
   "source": [
    "noam = dem[6000:,5000:10000]\n",
    "tibet = dem[5000:8000,25000:30000]"
   ]
  },
  {
   "cell_type": "code",
   "execution_count": null,
   "id": "0ad2323b",
   "metadata": {},
   "outputs": [],
   "source": [
    "plt.imshow(tibet,origin='lower',cmap = 'terrain',vmax = 10000)\n",
    "# plt.imshow(tibet,origin='lower',cmap = 'jet',vmin = 30000, vmax = 32000)\n",
    "plt.colorbar()"
   ]
  },
  {
   "cell_type": "code",
   "execution_count": null,
   "id": "0c46053f",
   "metadata": {},
   "outputs": [],
   "source": [
    "ocean_mask = dem >= 10000\n",
    "land_mask = ~ocean_mask"
   ]
  },
  {
   "cell_type": "code",
   "execution_count": null,
   "id": "1a5c647d",
   "metadata": {},
   "outputs": [],
   "source": [
    "plt.figure(figsize=(60,15))\n",
    "plt.rcParams.update({'font.size': 14})\n",
    "# plt.imshow(ocean_mask,origin='lower')\n",
    "plt.imshow(dem,origin = \"lower\", cmap=\"terrain\", vmax=7000)\n",
    "plt.colorbar(location = \"bottom\")"
   ]
  },
  {
   "cell_type": "code",
   "execution_count": null,
   "id": "dfe5092f",
   "metadata": {},
   "outputs": [],
   "source": [
    "lat_grid , lon_grid = np.meshgrid(lat,lon,indexing = 'ij',copy=False)"
   ]
  },
  {
   "cell_type": "code",
   "execution_count": null,
   "id": "2c58ad0b",
   "metadata": {},
   "outputs": [],
   "source": [
    "dem.shape"
   ]
  },
  {
   "cell_type": "code",
   "execution_count": null,
   "id": "31f20f49",
   "metadata": {},
   "outputs": [],
   "source": [
    "test_bool = ((lat_grid > 0) * (lon_grid >0))\n",
    "print(test_bool.shape)"
   ]
  },
  {
   "cell_type": "code",
   "execution_count": null,
   "id": "eaafb159",
   "metadata": {},
   "outputs": [],
   "source": [
    "lat[lat >= 0]"
   ]
  },
  {
   "cell_type": "code",
   "execution_count": null,
   "id": "8dc42d87",
   "metadata": {},
   "outputs": [],
   "source": [
    "dem[test_bool].shape"
   ]
  },
  {
   "cell_type": "code",
   "execution_count": null,
   "id": "742343a0",
   "metadata": {},
   "outputs": [],
   "source": [
    "## Testing out using lat/lon to subset\n",
    "lat_subset = (lat_grid > 0)\n",
    "lon_subset = (lon > 0)\n",
    "\n",
    "subset_test = dem[np.ix_(lat>0,(lon > 0)&(lon<90))]\n",
    "print(subset_test.shape)\n",
    "plt.imshow(subset_test,origin = \"lower\", cmap=\"terrain\", vmax=6000)"
   ]
  },
  {
   "cell_type": "code",
   "execution_count": null,
   "id": "9af5d718",
   "metadata": {},
   "outputs": [],
   "source": []
  }
 ],
 "metadata": {
  "kernelspec": {
   "display_name": "rioxarray_kernel",
   "language": "python",
   "name": "rioxarray_kernel"
  },
  "language_info": {
   "codemirror_mode": {
    "name": "ipython",
    "version": 3
   },
   "file_extension": ".py",
   "mimetype": "text/x-python",
   "name": "python",
   "nbconvert_exporter": "python",
   "pygments_lexer": "ipython3",
   "version": "3.11.5"
  }
 },
 "nbformat": 4,
 "nbformat_minor": 5
}
