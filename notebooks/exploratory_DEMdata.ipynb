{
 "cells": [
  {
   "cell_type": "code",
   "execution_count": 4,
   "id": "ebf1d953",
   "metadata": {},
   "outputs": [],
   "source": [
    "import numpy as np\n",
    "from matplotlib import pyplot as plt\n",
    "from scipy import stats\n",
    "import pandas as pd\n",
    "import xarray as xr\n",
    "import rioxarray\n",
    "\n",
    "import codebase"
   ]
  },
  {
   "cell_type": "markdown",
   "id": "beacd472",
   "metadata": {},
   "source": [
    "## Checking that load functions work\n",
    "The full load and subset load both work."
   ]
  },
  {
   "cell_type": "code",
   "execution_count": 2,
   "id": "695aaa1d",
   "metadata": {},
   "outputs": [],
   "source": [
    "dem_test , lat_test , lon_test = codebase.load_data.load_DEM_full_as_nparray()\n",
    "dem_DA = codebase.load_data.load_DEM_full_as_rxrDA()"
   ]
  },
  {
   "cell_type": "markdown",
   "id": "265f16dc",
   "metadata": {},
   "source": [
    "## Load local subset"
   ]
  },
  {
   "cell_type": "code",
   "execution_count": 6,
   "id": "6f91d060",
   "metadata": {},
   "outputs": [],
   "source": [
    "import xarray as xr\n",
    "from codebase import volume_pipeline"
   ]
  },
  {
   "cell_type": "code",
   "execution_count": 7,
   "id": "f451e314",
   "metadata": {},
   "outputs": [],
   "source": [
    "indira = xr.open_dataarray('../indirasagar_dem_subset.nc')"
   ]
  },
  {
   "cell_type": "code",
   "execution_count": 8,
   "id": "68e881f0",
   "metadata": {},
   "outputs": [
    {
     "ename": "ImportError",
     "evalue": "DLL load failed while importing _version: The specified procedure could not be found.",
     "output_type": "error",
     "traceback": [
      "\u001b[1;31m---------------------------------------------------------------------------\u001b[0m",
      "\u001b[1;31mImportError\u001b[0m                               Traceback (most recent call last)",
      "Cell \u001b[1;32mIn[8], line 1\u001b[0m\n\u001b[1;32m----> 1\u001b[0m \u001b[43mvolume_pipeline\u001b[49m\u001b[38;5;241;43m.\u001b[39;49m\u001b[43mproject_DA_from_crs_code\u001b[49m\u001b[43m(\u001b[49m\u001b[43mindira\u001b[49m\u001b[43m,\u001b[49m\u001b[38;5;241;43m54017\u001b[39;49m\u001b[43m)\u001b[49m\n",
      "File \u001b[1;32m~\\OneDrive\\Documents\\GitHub\\CYGNSS-GRACE\\codebase\\volume_pipeline.py:509\u001b[0m, in \u001b[0;36mproject_DA_from_crs_code\u001b[1;34m(input_DA, epsg_code)\u001b[0m\n\u001b[0;32m    507\u001b[0m \u001b[38;5;250m\u001b[39m\u001b[38;5;124;03m\"\"\"Project input to given crs. It works.\"\"\"\u001b[39;00m\n\u001b[0;32m    508\u001b[0m \u001b[38;5;28;01mimport\u001b[39;00m \u001b[38;5;21;01mpycrs\u001b[39;00m\n\u001b[1;32m--> 509\u001b[0m \u001b[38;5;28;01mimport\u001b[39;00m \u001b[38;5;21;01mrioxarray\u001b[39;00m \u001b[38;5;28;01mas\u001b[39;00m \u001b[38;5;21;01mrio\u001b[39;00m\n\u001b[0;32m    511\u001b[0m new_crs \u001b[38;5;241m=\u001b[39m pycrs\u001b[38;5;241m.\u001b[39mutils\u001b[38;5;241m.\u001b[39mcrscode_to_string(\u001b[38;5;124m\"\u001b[39m\u001b[38;5;124mepsg\u001b[39m\u001b[38;5;124m\"\u001b[39m, epsg_code, \u001b[38;5;124m\"\u001b[39m\u001b[38;5;124mogcwkt\u001b[39m\u001b[38;5;124m\"\u001b[39m)\n\u001b[0;32m    512\u001b[0m output_DA \u001b[38;5;241m=\u001b[39m input_DA\u001b[38;5;241m.\u001b[39mrio\u001b[38;5;241m.\u001b[39mreproject(new_crs)\n",
      "File \u001b[1;32mc:\\Users\\asche\\anaconda3\\envs\\rioxarray_env\\Lib\\site-packages\\rioxarray\\__init__.py:5\u001b[0m\n\u001b[0;32m      2\u001b[0m __author__ \u001b[38;5;241m=\u001b[39m \u001b[38;5;124m\"\"\"\u001b[39m\u001b[38;5;124mrioxarray Contributors\u001b[39m\u001b[38;5;124m\"\"\"\u001b[39m\n\u001b[0;32m      3\u001b[0m \u001b[38;5;28;01mimport\u001b[39;00m \u001b[38;5;21;01mimportlib\u001b[39;00m\u001b[38;5;21;01m.\u001b[39;00m\u001b[38;5;21;01mmetadata\u001b[39;00m\n\u001b[1;32m----> 5\u001b[0m \u001b[38;5;28;01mimport\u001b[39;00m \u001b[38;5;21;01mrioxarray\u001b[39;00m\u001b[38;5;21;01m.\u001b[39;00m\u001b[38;5;21;01mraster_array\u001b[39;00m  \u001b[38;5;66;03m# noqa\u001b[39;00m\n\u001b[0;32m      6\u001b[0m \u001b[38;5;28;01mimport\u001b[39;00m \u001b[38;5;21;01mrioxarray\u001b[39;00m\u001b[38;5;21;01m.\u001b[39;00m\u001b[38;5;21;01mraster_dataset\u001b[39;00m  \u001b[38;5;66;03m# noqa\u001b[39;00m\n\u001b[0;32m      7\u001b[0m \u001b[38;5;28;01mfrom\u001b[39;00m \u001b[38;5;21;01mrioxarray\u001b[39;00m\u001b[38;5;21;01m.\u001b[39;00m\u001b[38;5;21;01m_io\u001b[39;00m \u001b[38;5;28;01mimport\u001b[39;00m open_rasterio\n",
      "File \u001b[1;32mc:\\Users\\asche\\anaconda3\\envs\\rioxarray_env\\Lib\\site-packages\\rioxarray\\raster_array.py:19\u001b[0m\n\u001b[0;32m     16\u001b[0m \u001b[38;5;28;01mfrom\u001b[39;00m \u001b[38;5;21;01mtyping\u001b[39;00m \u001b[38;5;28;01mimport\u001b[39;00m Any, Literal, Optional, Union\n\u001b[0;32m     18\u001b[0m \u001b[38;5;28;01mimport\u001b[39;00m \u001b[38;5;21;01mnumpy\u001b[39;00m\n\u001b[1;32m---> 19\u001b[0m \u001b[38;5;28;01mimport\u001b[39;00m \u001b[38;5;21;01mrasterio\u001b[39;00m\n\u001b[0;32m     20\u001b[0m \u001b[38;5;28;01mimport\u001b[39;00m \u001b[38;5;21;01mrasterio\u001b[39;00m\u001b[38;5;21;01m.\u001b[39;00m\u001b[38;5;21;01mmask\u001b[39;00m\n\u001b[0;32m     21\u001b[0m \u001b[38;5;28;01mimport\u001b[39;00m \u001b[38;5;21;01mrasterio\u001b[39;00m\u001b[38;5;21;01m.\u001b[39;00m\u001b[38;5;21;01mwarp\u001b[39;00m\n",
      "File \u001b[1;32mc:\\Users\\asche\\anaconda3\\envs\\rioxarray_env\\Lib\\site-packages\\rasterio\\__init__.py:28\u001b[0m\n\u001b[0;32m     24\u001b[0m                     os\u001b[38;5;241m.\u001b[39madd_dll_directory(os\u001b[38;5;241m.\u001b[39mpath\u001b[38;5;241m.\u001b[39mabspath(p))\n\u001b[0;32m     27\u001b[0m \u001b[38;5;28;01mfrom\u001b[39;00m \u001b[38;5;21;01mrasterio\u001b[39;00m\u001b[38;5;21;01m.\u001b[39;00m\u001b[38;5;21;01m_show_versions\u001b[39;00m \u001b[38;5;28;01mimport\u001b[39;00m show_versions\n\u001b[1;32m---> 28\u001b[0m \u001b[38;5;28;01mfrom\u001b[39;00m \u001b[38;5;21;01mrasterio\u001b[39;00m\u001b[38;5;21;01m.\u001b[39;00m\u001b[38;5;21;01m_version\u001b[39;00m \u001b[38;5;28;01mimport\u001b[39;00m gdal_version, get_geos_version, get_proj_version\n\u001b[0;32m     29\u001b[0m \u001b[38;5;28;01mfrom\u001b[39;00m \u001b[38;5;21;01mrasterio\u001b[39;00m\u001b[38;5;21;01m.\u001b[39;00m\u001b[38;5;21;01mcrs\u001b[39;00m \u001b[38;5;28;01mimport\u001b[39;00m CRS\n\u001b[0;32m     30\u001b[0m \u001b[38;5;28;01mfrom\u001b[39;00m \u001b[38;5;21;01mrasterio\u001b[39;00m\u001b[38;5;21;01m.\u001b[39;00m\u001b[38;5;21;01mdrivers\u001b[39;00m \u001b[38;5;28;01mimport\u001b[39;00m driver_from_extension, is_blacklisted\n",
      "\u001b[1;31mImportError\u001b[0m: DLL load failed while importing _version: The specified procedure could not be found."
     ]
    }
   ],
   "source": [
    "volume_pipeline.project_DA_from_crs_code(indira,54017)"
   ]
  },
  {
   "cell_type": "code",
   "execution_count": null,
   "id": "1eb85ec9",
   "metadata": {},
   "outputs": [],
   "source": []
  }
 ],
 "metadata": {
  "kernelspec": {
   "display_name": "rioxarray_env",
   "language": "python",
   "name": "python3"
  },
  "language_info": {
   "codemirror_mode": {
    "name": "ipython",
    "version": 3
   },
   "file_extension": ".py",
   "mimetype": "text/x-python",
   "name": "python",
   "nbconvert_exporter": "python",
   "pygments_lexer": "ipython3",
   "version": "3.11.5"
  }
 },
 "nbformat": 4,
 "nbformat_minor": 5
}
