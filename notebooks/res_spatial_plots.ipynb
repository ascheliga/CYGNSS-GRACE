{
 "cells": [
  {
   "attachments": {},
   "cell_type": "markdown",
   "metadata": {},
   "source": [
    "# Maps around reservoirs\n",
    "\n",
    "## To-dos\n",
    "- [ ] trend maps for xarray data\n",
    "- [ ] area_subset of GRACE data (instead of point subset)\n",
    "- [ ] area_subset of IMERG data\n",
    "- [ ] area_subset of precip data"
   ]
  },
  {
   "cell_type": "code",
   "execution_count": null,
   "metadata": {},
   "outputs": [],
   "source": [
    "func_dir = '/global/home/users/ann_scheliga/CYGNSS-GRACE/codebase/'"
   ]
  },
  {
   "cell_type": "code",
   "execution_count": null,
   "metadata": {},
   "outputs": [],
   "source": [
    "import sys\n",
    "import pandas as pd\n",
    "import numpy as np\n",
    "import geopandas as gpd\n",
    "import xarray as xr\n",
    "import matplotlib.pyplot as plt\n",
    "\n",
    "sys.path.append(func_dir)\n",
    "import load_data\n",
    "import time_series_calcs\n",
    "import plotting_functions\n",
    "import area_subsets"
   ]
  },
  {
   "cell_type": "code",
   "execution_count": null,
   "metadata": {},
   "outputs": [],
   "source": [
    "fw = load_data.load_CYGNSS_05()\n",
    "grace_dict = load_data.load_GRACE()\n",
    "res_shp = load_data.load_GRanD()\n",
    "precip = load_data.load_IMERG()"
   ]
  },
  {
   "attachments": {},
   "cell_type": "markdown",
   "metadata": {},
   "source": [
    "## Scratchwork"
   ]
  },
  {
   "cell_type": "code",
   "execution_count": null,
   "metadata": {},
   "outputs": [],
   "source": [
    "## Trying out plotting functionality\n",
    "\n",
    "tws = grace_dict['cmwe'].T\n",
    "x_tws= list(map(time_series_calcs.toYearFraction,tws.index))\n",
    "y_tws = tws\n",
    "initial_tws_slopes = time_series_calcs.linregress_wrap(x_tws,y_tws)\n",
    "print(initial_tws_slopes.head())\n",
    "\n",
    "initial_tws_slopes_gdf = gpd.GeoDataFrame(pd.concat([initial_tws_slopes , grace_dict['mascon']],axis=1))\n",
    "\n",
    "fig , ax = plt.subplots(figsize=(12,8))\n",
    "input_gdf = initial_tws_slopes_gdf\n",
    "count = 0\n",
    "plotting_functions.statsig_map(input_gdf,ax,count, pie_row = [0.5,0.4,0.1])"
   ]
  },
  {
   "cell_type": "code",
   "execution_count": null,
   "metadata": {},
   "outputs": [],
   "source": [
    "## TESTING phase, idk if this works\n",
    "def gpd_map_prep(input_gpd,func):\n",
    "    tws = input_gpd\n",
    "    x_tws= list(map(time_series_calcs.toYearFraction,tws.index))\n",
    "    y_tws = tws\n",
    "    initial_tws_slopes = func(x_tws,y_tws)\n",
    "\n",
    "    # initial_tws_slopes_gdf = gpd.GeoDataFrame(pd.concat([initial_tws_slopes , input_polys],axis=1))\n",
    "    # input_gdf = initial_tws_slopes_gdf\n",
    "    return initial_tws_slopes\n",
    "gpd_map_prep(grace_dict['cmwe'],time_series_calcs.linregress_wrap)"
   ]
  },
  {
   "cell_type": "code",
   "execution_count": null,
   "metadata": {},
   "outputs": [],
   "source": [
    "coords_oi = reservoir_name_to_point('Nouzhadu')\n",
    "\n",
    "test = grace_point_subset(coords_oi)\n",
    "print(test[1].iloc[0]['geometry'].exterior)\n",
    "test[1]['geometry'].explore()"
   ]
  }
 ],
 "metadata": {
  "kernelspec": {
   "display_name": "geo_jupyter_kernel",
   "language": "python",
   "name": "python3"
  },
  "language_info": {
   "name": "python",
   "version": "3.7.10"
  },
  "orig_nbformat": 4
 },
 "nbformat": 4,
 "nbformat_minor": 2
}
