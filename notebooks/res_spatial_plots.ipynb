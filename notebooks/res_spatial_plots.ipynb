{
 "cells": [
  {
   "attachments": {},
   "cell_type": "markdown",
   "metadata": {},
   "source": [
    "# Maps around reservoirs\n",
    "\n",
    "## To-dos\n",
    "- [ ] trend maps for xarray data\n",
    "- [x] area_subset of GRACE data (instead of point subset)\n",
    "- [ ] area_subset of IMERG data\n",
    "- [ ] area_subset of precip data"
   ]
  },
  {
   "cell_type": "code",
   "execution_count": 1,
   "metadata": {},
   "outputs": [],
   "source": [
    "func_dir = '/global/home/users/ann_scheliga/CYGNSS-GRACE/codebase/'"
   ]
  },
  {
   "cell_type": "code",
   "execution_count": 2,
   "metadata": {},
   "outputs": [],
   "source": [
    "import sys\n",
    "import pandas as pd\n",
    "import numpy as np\n",
    "import geopandas as gpd\n",
    "import xarray as xr\n",
    "import matplotlib.pyplot as plt\n",
    "\n",
    "sys.path.append(func_dir)\n",
    "import load_data\n",
    "import time_series_calcs\n",
    "import plotting_functions\n",
    "import area_subsets"
   ]
  },
  {
   "cell_type": "code",
   "execution_count": 3,
   "metadata": {},
   "outputs": [],
   "source": [
    "fw_DA = load_data.load_CYGNSS_05()\n",
    "grace_dict = load_data.load_GRACE()\n",
    "res_shp = load_data.load_GRanD()\n",
    "precip_DA = load_data.load_IMERG()"
   ]
  },
  {
   "attachments": {},
   "cell_type": "markdown",
   "metadata": {},
   "source": [
    "## Subset gpd by shp file"
   ]
  },
  {
   "cell_type": "code",
   "execution_count": 2,
   "metadata": {},
   "outputs": [],
   "source": [
    "def check_for_multiple_dams(dam_name,res_shp):\n",
    "    dam_row = (res_shp['DAM_NAME'].str.lower())==(dam_name.lower())\n",
    "    n_rows = dam_row.sum()\n",
    "    if n_rows == 0:\n",
    "        print('Dam name not found')\n",
    "    elif n_rows > 1:\n",
    "        print('Dam name',dam_name,'is redundant.',n_rows,'entires found.')\n",
    "    return res_shp[dam_row]"
   ]
  },
  {
   "cell_type": "code",
   "execution_count": 97,
   "metadata": {},
   "outputs": [],
   "source": [
    "def grace_shape_subset(dam_name,res_shp,grace_dict,buffer_val=0):\n",
    "    shape_row = check_for_multiple_dams(dam_name,res_shp)\n",
    "    shape_poly = shape_row['geometry'].buffer(buffer_val).values[0]\n",
    "    bool_series = grace_dict['mascon'].intersects(shape_poly)\n",
    "    subsetted_mascon = grace_dict['mascon'][bool_series]\n",
    "    subsetted_cmwe = grace_dict['cmwe'][bool_series]\n",
    "    return subsetted_cmwe , subsetted_mascon"
   ]
  },
  {
   "cell_type": "code",
   "execution_count": 99,
   "metadata": {},
   "outputs": [
    {
     "data": {
      "text/plain": [
       "<AxesSubplot:>"
      ]
     },
     "execution_count": 99,
     "metadata": {},
     "output_type": "execute_result"
    },
    {
     "data": {
      "image/png": "[encoded data removed]",
      "text/plain": [
       "<Figure size 432x288 with 1 Axes>"
      ]
     },
     "metadata": {
      "needs_background": "light"
     },
     "output_type": "display_data"
    }
   ],
   "source": [
    "cmwe_i , mascon_i = grace_shape_subset('Indirasagar',res_shp,grace_dict)"
   ]
  },
  {
   "attachments": {},
   "cell_type": "markdown",
   "metadata": {},
   "source": [
    "## Subset xarray by shp file"
   ]
  },
  {
   "cell_type": "code",
   "execution_count": 8,
   "metadata": {},
   "outputs": [
    {
     "name": "stderr",
     "output_type": "stream",
     "text": [
      "/global/home/users/ann_scheliga/.conda/envs/geo_jupyter_kernel/lib/python3.7/site-packages/ipykernel_launcher.py:3: UserWarning: Geometry is in a geographic CRS. Results from 'buffer' are likely incorrect. Use 'GeoSeries.to_crs()' to re-project geometries to a projected CRS before this operation.\n",
      "\n",
      "  This is separate from the ipykernel package so we can avoid doing imports until\n"
     ]
    }
   ],
   "source": [
    "test_row = area_subsets.check_for_multiple_dams('Merowe',res_shp)\n",
    "test_row = res_shp[test_row]\n",
    "test_poly = test_row['geometry'].buffer(0.1).values[0]"
   ]
  },
  {
   "cell_type": "code",
   "execution_count": 9,
   "metadata": {},
   "outputs": [
    {
     "data": {
      "image/svg+xml": "<svg xmlns=\"http://www.w3.org/2000/svg\" xmlns:xlink=\"http://www.w3.org/1999/xlink\" width=\"100.0\" height=\"100.0\" viewBox=\"31.810145750754142 18.530318204791726 1.0230071514893986 0.7919362079183792\" preserveAspectRatio=\"xMinYMin meet\"><g transform=\"matrix(1,0,0,-1,0,37.852572617501835)\"><path fill-rule=\"evenodd\" fill=\"#66cc99\" stroke=\"#555555\" stroke-width=\"0.02046014302978797\" opacity=\"0.6\" d=\"M 32.23804862708583,18.731866354141584 L 32.23784176706428,18.72376902074454 L 32.23661661991352,18.71396788147705 L 32.23443053144396,18.704335418983735 L 32.23130482985975,18.694965610763273 L 32.22727001054216,18.68594987177214 L 32.22236543852661,18.67737616254999 L 32.21924249290803,18.672987150331018 L 32.21893169458969,18.672044362996022 L 32.218686698589586,18.67140871299603 L 32.214891650748285,18.662794283882846 L 32.21087883597442,18.65560568765906 L 32.209107722518425,18.651786971690164 L 32.2087834160345,18.650872745769068 L 32.20637333341225,18.645807567540878 L 32.20618944588301,18.645204937216135 L 32.202329208994094,18.635977780627233 L 32.200278659499006,18.632190972203475 L 32.1997444451019,18.631000641564494 L 32.197721430831756,18.62746846485518 L 32.19756652750221,18.627182400444347 L 32.1975093307881,18.62709813882966 L 32.194861846390644,18.62247563919384 L 32.189166305429225,18.61447087506543 L 32.18271279297931,18.607063607508927 L 32.175563595397435,18.600325328089813 L 32.16778771347547,18.594321071605414 L 32.167785351017145,18.594319592917124 L 32.16563422658678,18.592417191916663 L 32.15798168244809,18.586844477045755 L 32.149836472521386,18.58202035659981 L 32.14127159139468,18.577988062697774 L 32.132363794605844,18.5747837313797 L 32.123192910785775,18.57243607876788 L 32.1138411262614,18.570966143722785 L 32.10439224852997,18.570387099299996 L 32.094930955204866,18.570704134697753 L 32.087423000048794,18.57167194391274 L 32.07876622950091,18.57039527651205 L 32.07131236974334,18.570132761644427 L 32.064445583259186,18.56913897937711 L 32.055076648395115,18.56823070342192 L 32.04566381881443,18.56820735855059 L 32.03629049398102,18.569069151603134 L 32.027039723339186,18.570808446928872 L 32.02578610584229,18.571105848058114 L 32.02455817867652,18.571296239876304 L 32.02455402210233,18.571296948870206 L 32.0195534037065,18.571995019920756 L 32.01447235296085,18.57295365200964 L 32.013546580463306,18.57308288974022 L 32.01291243957355,18.573173487341553 L 32.01092820737487,18.57346345601667 L 32.01057816574784,18.573508195652742 L 32.00860879506583,18.573607934228107 L 32.00630433361675,18.57388951871238 L 32.003095892541914,18.573863844334028 L 31.993937727710666,18.574634350833993 L 31.98864948563808,18.575574120351867 L 31.98471861652069,18.576130506985912 L 31.97518360194036,18.57845158736751 L 31.96592200415858,18.581696078654822 L 31.95702301598992,18.585832735125823 L 31.94857233817635,18.590821719158292 L 31.9406513540555,18.596614984881718 L 31.933336345807252,18.603156740877857 L 31.926697759826457,18.610383987473938 L 31.920799528296566,18.618227123454194 L 31.920000098296708,18.619406475454202 L 31.914944496218183,18.627706336078976 L 31.91071842709578,18.636457743882275 L 31.90910161491392,18.640850795000837 L 31.90884529665354,18.64141667043221 L 31.908297539086494,18.643035554772393 L 31.9073618047995,18.645578044618937 L 31.907231878111627,18.646075589374863 L 31.904517367116604,18.652592315748677 L 31.901623362775787,18.6621108031243 L 31.89972220365984,18.67170458641958 L 31.896070618514134,18.6770205426716 L 31.89143089954989,18.685390748259856 L 31.887612549288814,18.694166141979835 L 31.88465053898285,18.70326635234028 L 31.882571996894615,18.712608032940917 L 31.881395959836883,18.722105625819943 L 31.88133911212711,18.72417531908909 L 31.878149965038194,18.73287289428799 L 31.87567649551994,18.742466176827584 L 31.874164406494305,18.752257127145135 L 31.87362853898221,18.762149647923568 L 31.87373885253039,18.76459969234997 L 31.872772506242843,18.76598047267586 L 31.868417882139056,18.771204332985455 L 31.862615437973805,18.779858086381733 L 31.857744899539675,18.789068605449412 L 31.85385913935927,18.798735904656265 L 31.85100033961547,18.808755039856432 L 31.849199534239354,18.81901724752008 L 31.848755940239307,18.82264746552009 L 31.848034904513007,18.83291748481744 L 31.84837361746091,18.843207210879168 L 31.849768488956467,18.853407579617475 L 31.85220473431189,18.863410474071316 L 31.85565653098576,18.873109870372566 L 31.8600872922844,18.882402961526807 L 31.865450055155883,18.891191247097428 L 31.871687977966406,18.89938157724318 L 31.878734942982902,18.90688714004305 L 31.879110319982914,18.907247797043095 L 31.886516053547645,18.913694655690446 L 31.894518323384514,18.919384168280168 L 31.9030399821099,18.92426148399876 L 31.911998875074143,18.928279582169026 L 31.921308632388897,18.931399725561736 L 31.92727329780309,18.932765870287827 L 31.92830981417966,18.933747059188597 L 31.93175919768378,18.936418436904024 L 31.932789162951185,18.940335999754847 L 31.936227857359814,18.949588291073873 L 31.939736240281665,18.95676697910231 L 31.94122231319716,18.959909919669894 L 31.94178474419715,18.960972816669834 L 31.946979577396426,18.96968940401291 L 31.95303101460598,18.97783466610671 L 31.95987674708949,18.985324735107863 L 31.967446287634502,18.99208248938093 L 31.97566169632535,18.998038347582753 L 31.978752631625717,18.999831850482824 L 31.97952940970409,19.001775313980794 L 31.983926997899427,19.010301126933236 L 31.989121302442427,19.01836632803118 L 31.99506452104781,19.025896694625477 L 31.995923147474993,19.026792679660346 L 31.995398083654024,19.034265692270008 L 31.995722872980068,19.044456655808442 L 31.997083707531385,19.054561573189197 L 31.99946643990515,19.06447539245238 L 32.00284629892349,19.07409504831754 L 32.0071881471577,19.083320533662988 L 32.007557150157645,19.08401087166313 L 32.01271397623629,19.092594775974632 L 32.018703444181654,19.100619895423332 L 32.02546549384419,19.10800575710602 L 32.032932317913186,19.11467829835783 L 32.041029041863176,19.120570609424984 L 32.04967447476773,19.125623604410862 L 32.058781923451775,19.1297866137673 L 32.06826006181843,19.13301789238993 L 32.07801384663297,19.135285038222495 L 32.08794547058096,19.136565317172582 L 32.097955343043516,19.13684589108063 L 32.107943088754816,19.13612394645618 L 32.11780855432787,19.134406722690535 L 32.127452812555276,19.131711439462823 L 32.13677915441434,19.128065124067486 L 32.14569405882909,19.12350434039466 L 32.154108130464714,19.118074822281134 L 32.1619369961506,19.11183101490849 L 32.16768156337699,19.106222477322817 L 32.17149928748583,19.10393179839183 L 32.17943824876439,19.09802826779372 L 32.18675501412055,19.091369159412842 L 32.1923063784443,19.085208797211685 L 32.19813043318601,19.087547550742375 L 32.20071563201222,19.0883097194572 L 32.20123858734469,19.088488718727575 L 32.20214383904857,19.08873078367492 L 32.20725451709768,19.090237514561952 L 32.20851104809776,19.090543834561945 L 32.20851517784173,19.090526894266432 L 32.212095336564936,19.09157051078789 L 32.221151123016256,19.093324950475452 L 32.23033004404208,19.094237493992814 L 32.23955400049281,19.094300376933617 L 32.241053482492795,19.094241386933547 L 32.25074893390949,19.093385931119712 L 32.260315297216714,19.091591975741977 L 32.26966194682738,19.08887651558238 L 32.278700338581,19.085265275167913 L 32.28734484855419,19.080792465072864 L 32.2955135842068,19.075500457829797 L 32.296374318733086,19.074815417937607 L 32.297721899047744,19.075841187378632 L 32.306146163927274,19.081025516817814 L 32.315041405129286,19.085352200819734 L 32.32032725415519,19.08730420912264 L 32.326657914968706,19.094210324709273 L 32.33474744115609,19.101320981644985 L 32.33579524236496,19.102058518785938 L 32.339152077142565,19.106202391323436 L 32.346137800926336,19.113261073204068 L 32.35378921121607,19.119592048425417 L 32.362030845727816,19.12513287753755 L 32.37078142107198,19.129828913932336 L 32.374057604622784,19.131187832001267 L 32.377530410651026,19.1367384358177 L 32.383481604157204,19.14446043215117 L 32.38743530889155,19.148669402424694 L 32.38705827907862,19.15037739548788 L 32.38589732179224,19.159909386284763 L 32.38565596412061,19.16950878297659 L 32.38633643154245,19.1790870727227 L 32.387932449694254,19.188555937302567 L 32.390429302224035,19.197828067468674 L 32.39380396648599,19.20681796799603 L 32.39802532582459,19.21544274600518 L 32.403054456490935,19.223622875289827 L 32.40884498654566,19.231282929601516 L 32.415343523439155,19.238352278129955 L 32.42249014632651,19.24476573676619 L 32.430218958577626,19.250464169143576 L 32.43049184657761,19.250645814143574 L 32.430631392974135,19.250728438568544 L 32.43283448154063,19.25240127744676 L 32.44134348044707,19.257613616176755 L 32.45032958491387,19.26195198729247 L 32.459703318917306,19.26537319296572 L 32.46937134674677,19.267843167725623 L 32.47923740236278,19.26933731765376 L 32.48920324793273,19.26984076526958 L 32.4991696520001,19.269348497667774 L 32.500318328683036,19.26917585597586 L 32.501287721440576,19.269431990118974 L 32.510904891987764,19.27099239225542 L 32.516964656459876,19.271376987524704 L 32.51979262676913,19.27214927667558 L 32.529471241834955,19.273794492776464 L 32.539264538087174,19.27448273265272 L 32.54907812545897,19.27420736288836 L 32.558817418313,19.272971037561216 L 32.56838854707974,19.270785672662313 L 32.57769926299429,19.26767233124677 L 32.58480372153198,19.264491929796865 L 32.59166786385441,19.266663789657514 L 32.60124010061726,19.268689616627896 L 32.61096449385129,19.269770295945726 L 32.620747950295126,19.269895482085083 L 32.62392511535909,19.26962449349175 L 32.62647101008441,19.27100387145051 L 32.63510179714827,19.274680241499183 L 32.63924847387774,19.276221023638055 L 32.64123078176534,19.277128549929067 L 32.64998054729925,19.280190226180615 L 32.658976229780336,19.282428519071928 L 32.66814052727747,19.283824194446698 L 32.677394688912635,19.28436525895124 L 32.68665919158496,19.28404706309607 L 32.68993928258504,19.283781788096125 L 32.69963438714759,19.282518184220418 L 32.709159756966244,19.28031385279083 L 32.71842433736659,19.277189865396647 L 32.727339566605856,19.2731760847792 L 32.73582022245003,19.26831087936872 L 32.74378523682814,19.262640756513782 L 32.75115847077606,19.256219917909462 L 32.751912925776,19.255495095909467 L 32.75861231550838,19.24839845669532 L 32.764588043471804,19.240682577858184 L 32.769783194376565,19.232420948600044 L 32.774148287469764,19.223692256074244 L 32.777641747810314,19.2145796359367 L 32.77851125034275,19.211418873294242 L 32.78036000174389,19.208746423991723 L 32.785208852410435,19.199973267929874 L 32.789155030801,19.190758752414563 L 32.79215888586504,19.18119546454761 L 32.794190234981,19.171379495882157 L 32.79522866723014,19.161409476898424 L 32.79526374848467,19.15138558596837 L 32.79429512624948,19.141408542767227 L 32.79233253320399,19.13157859624602 L 32.78939568940855,19.121994517333924 L 32.78551410415804,19.11275260649173 L 32.78072677947359,19.10394572608845 L 32.77508181821174,19.09566236732378 L 32.768635940728785,19.087985761071874 L 32.761453914956775,19.0809930415807 L 32.753607905617805,19.074754471430033 L 32.75321184761777,19.074470751430063 L 32.7453642207975,19.06938678255672 L 32.737076043601625,19.065058029273725 L 32.72841978120957,19.061522338730814 L 32.71947111704275,19.05881062417267 L 32.71030829104938,19.056946594658278 L 32.701011415637055,19.05594654776792 L 32.695130354817664,19.0558664612085 L 32.68877911163453,19.053542593606753 L 32.6830439587058,19.049900940929486 L 32.674360699491544,19.045507767287205 L 32.673229473491446,19.045002987287177 L 32.664245183213026,19.041502998583997 L 32.65496558012238,19.03888453353565 L 32.64547693427,19.03717193532898 L 32.63586745912243,19.036381125543 L 32.62622649146467,19.0365194561301 L 32.62543643602909,19.036607357632207 L 32.62300850830612,19.03233520955393 L 32.62190810530611,19.030631183554018 L 32.61605589276044,19.02249460756499 L 32.6145606916849,19.02080283049716 L 32.61132442556341,19.012355051843084 L 32.60682062397004,19.003402475888677 L 32.6014433728683,18.994945643408318 L 32.595246677520855,18.98706948877659 L 32.59367675623211,18.98544031198721 L 32.58945463292684,18.978536623545235 L 32.583675856929155,18.97085624024428 L 32.58247712166293,18.969546546778002 L 32.581454106631234,18.966328081374897 L 32.577589473526935,18.957331108889036 L 32.57286345143848,18.948755234696765 L 32.56951899697486,18.94388374435213 L 32.56990749135507,18.9370069102211 L 32.56947419455819,18.927034793642957 L 32.56804892726108,18.917155549324992 L 32.56564588952371,18.907467605023182 L 32.56228902301655,18.898067482555078 L 32.558011772487674,18.889048836144696 L 32.552856752549886,18.88050151933746 L 32.546875323107656,18.87251068978166 L 32.54012707765403,18.865155960795498 L 32.533538867203056,18.859277605266527 L 32.531049285975655,18.856413907956615 L 32.529781524975704,18.855094418956647 L 32.52234499017126,18.84810600776267 L 32.51423494611604,18.84191188745902 L 32.5055358507609,18.836576563577943 L 32.49633829643348,18.83215559815081 L 32.490341664439164,18.829994009612594 L 32.48604029786269,18.822752386937818 L 32.48034786961336,18.814983186819124 L 32.473934428095674,18.807797647329476 L 32.46685946709311,18.8012624245582 L 32.45918861692239,18.79543814198295 L 32.45099303561901,18.790378828100838 L 32.44234874884537,18.78613141523733 L 32.43586879597683,18.783689706854098 L 32.435761756451285,18.783609380852933 L 32.42757818184584,18.778615896062217 L 32.418954050480295,18.774428994837216 L 32.409968623109826,18.771087157221757 L 32.40070448100885,18.768621096636338 L 32.391246767001356,18.767053477604026 L 32.38556600641555,18.766664576422393 L 32.3768895001487,18.764272561928927 L 32.37160013527691,18.763366927988525 L 32.36645243651292,18.760509667925547 L 32.3575510360831,18.756644696520294 L 32.348316923563395,18.753660722735397 L 32.33883705930031,18.75158584752736 L 32.329200717956596,18.75043961060469 L 32.31949864778558,18.750232806416754 L 32.30982221602824,18.750967382499255 L 32.300262548481086,18.752636421133726 L 32.29090967133781,18.755224204493725 L 32.28185166338621,18.758706362664203 L 32.2731738265444,18.763050103140152 L 32.26835828446173,18.766077079104548 L 32.26754998514127,18.766189398482414 L 32.267369137401516,18.765859157364968 L 32.26183362993917,18.757754121887288 L 32.25553023769862,18.750230778932057 L 32.25483878569861,18.74948331193206 L 32.25443874830314,18.749092872847594 L 32.25415273986323,18.748701044691234 L 32.24747212724254,18.74124617594648 L 32.244031380714844,18.738104637812807 L 32.24070482650092,18.734335615580726 L 32.23804862708583,18.731866354141584 z\" /></g></svg>",
      "text/plain": [
       "<shapely.geometry.polygon.Polygon at 0x2b812479d6d0>"
      ]
     },
     "execution_count": 9,
     "metadata": {},
     "output_type": "execute_result"
    }
   ],
   "source": [
    "test_poly"
   ]
  },
  {
   "attachments": {},
   "cell_type": "markdown",
   "metadata": {},
   "source": [
    "## Scratchwork"
   ]
  },
  {
   "cell_type": "code",
   "execution_count": 5,
   "metadata": {},
   "outputs": [
    {
     "name": "stdout",
     "output_type": "stream",
     "text": [
      "           slope   intercept   r_value   p_value   std_err\n",
      "labels                                                    \n",
      "1426   -0.043903   88.705977 -0.039623  0.563379   0.07586\n",
      "1427    -0.12197  245.336515 -0.117468  0.085735  0.070652\n",
      "1428   -0.089652  180.387377 -0.093474  0.172064  0.065429\n",
      "1429    0.247977 -496.908976  0.199375  0.003326  0.083511\n",
      "1430    0.111738 -223.571149  0.096674  0.157785  0.078825\n"
     ]
    }
   ],
   "source": [
    "## Trying out plotting functionality\n",
    "\n",
    "tws = grace_dict['cmwe'].T\n",
    "x_tws= list(map(time_series_calcs.toYearFraction,tws.index))\n",
    "y_tws = tws\n",
    "initial_tws_slopes = time_series_calcs.linregress_wrap(x_tws,y_tws)\n",
    "print(initial_tws_slopes.head())\n",
    "\n",
    "initial_tws_slopes_gdf = gpd.GeoDataFrame(pd.concat([initial_tws_slopes , grace_dict['mascon']],axis=1))\n",
    "\n",
    "# fig , ax = plt.subplots(figsize=(12,8))\n",
    "# input_gdf = initial_tws_slopes_gdf\n",
    "# count = 0\n",
    "# plotting_functions.statsig_map(input_gdf,ax,count, pie_row = [0.5,0.4,0.1])"
   ]
  },
  {
   "cell_type": "code",
   "execution_count": 12,
   "metadata": {},
   "outputs": [
    {
     "ename": "AttributeError",
     "evalue": "'list' object has no attribute 'columns'",
     "output_type": "error",
     "traceback": [
      "\u001b[0;31m---------------------------------------------------------------------------\u001b[0m",
      "\u001b[0;31mAttributeError\u001b[0m                            Traceback (most recent call last)",
      "\u001b[0;32m<ipython-input-12-7a69bbcb171a>\u001b[0m in \u001b[0;36m<module>\u001b[0;34m\u001b[0m\n\u001b[1;32m      1\u001b[0m \u001b[0mtest\u001b[0m\u001b[0;34m=\u001b[0m\u001b[0mgrace_dict\u001b[0m\u001b[0;34m[\u001b[0m\u001b[0;34m'cmwe'\u001b[0m\u001b[0;34m]\u001b[0m\u001b[0;34m\u001b[0m\u001b[0;34m\u001b[0m\u001b[0m\n\u001b[0;32m----> 2\u001b[0;31m \u001b[0mtest\u001b[0m\u001b[0;34m.\u001b[0m\u001b[0mapply\u001b[0m\u001b[0;34m(\u001b[0m\u001b[0mtime_series_calcs\u001b[0m\u001b[0;34m.\u001b[0m\u001b[0mlinregress_wrap\u001b[0m\u001b[0;34m,\u001b[0m\u001b[0maxis\u001b[0m\u001b[0;34m=\u001b[0m\u001b[0;36m1\u001b[0m\u001b[0;34m,\u001b[0m\u001b[0margs\u001b[0m\u001b[0;34m=\u001b[0m\u001b[0;34m(\u001b[0m\u001b[0;34m[\u001b[0m\u001b[0mx_tws\u001b[0m\u001b[0;34m]\u001b[0m\u001b[0;34m)\u001b[0m\u001b[0;34m)\u001b[0m\u001b[0;34m\u001b[0m\u001b[0;34m\u001b[0m\u001b[0m\n\u001b[0m",
      "\u001b[0;32m~/.local/lib/python3.7/site-packages/pandas/core/frame.py\u001b[0m in \u001b[0;36mapply\u001b[0;34m(self, func, axis, raw, result_type, args, **kwargs)\u001b[0m\n\u001b[1;32m   8738\u001b[0m             \u001b[0mkwargs\u001b[0m\u001b[0;34m=\u001b[0m\u001b[0mkwargs\u001b[0m\u001b[0;34m,\u001b[0m\u001b[0;34m\u001b[0m\u001b[0;34m\u001b[0m\u001b[0m\n\u001b[1;32m   8739\u001b[0m         )\n\u001b[0;32m-> 8740\u001b[0;31m         \u001b[0;32mreturn\u001b[0m \u001b[0mop\u001b[0m\u001b[0;34m.\u001b[0m\u001b[0mapply\u001b[0m\u001b[0;34m(\u001b[0m\u001b[0;34m)\u001b[0m\u001b[0;34m\u001b[0m\u001b[0;34m\u001b[0m\u001b[0m\n\u001b[0m\u001b[1;32m   8741\u001b[0m \u001b[0;34m\u001b[0m\u001b[0m\n\u001b[1;32m   8742\u001b[0m     def applymap(\n",
      "\u001b[0;32m~/.local/lib/python3.7/site-packages/pandas/core/apply.py\u001b[0m in \u001b[0;36mapply\u001b[0;34m(self)\u001b[0m\n\u001b[1;32m    686\u001b[0m             \u001b[0;32mreturn\u001b[0m \u001b[0mself\u001b[0m\u001b[0;34m.\u001b[0m\u001b[0mapply_raw\u001b[0m\u001b[0;34m(\u001b[0m\u001b[0;34m)\u001b[0m\u001b[0;34m\u001b[0m\u001b[0;34m\u001b[0m\u001b[0m\n\u001b[1;32m    687\u001b[0m \u001b[0;34m\u001b[0m\u001b[0m\n\u001b[0;32m--> 688\u001b[0;31m         \u001b[0;32mreturn\u001b[0m \u001b[0mself\u001b[0m\u001b[0;34m.\u001b[0m\u001b[0mapply_standard\u001b[0m\u001b[0;34m(\u001b[0m\u001b[0;34m)\u001b[0m\u001b[0;34m\u001b[0m\u001b[0;34m\u001b[0m\u001b[0m\n\u001b[0m\u001b[1;32m    689\u001b[0m \u001b[0;34m\u001b[0m\u001b[0m\n\u001b[1;32m    690\u001b[0m     \u001b[0;32mdef\u001b[0m \u001b[0magg\u001b[0m\u001b[0;34m(\u001b[0m\u001b[0mself\u001b[0m\u001b[0;34m)\u001b[0m\u001b[0;34m:\u001b[0m\u001b[0;34m\u001b[0m\u001b[0;34m\u001b[0m\u001b[0m\n",
      "\u001b[0;32m~/.local/lib/python3.7/site-packages/pandas/core/apply.py\u001b[0m in \u001b[0;36mapply_standard\u001b[0;34m(self)\u001b[0m\n\u001b[1;32m    810\u001b[0m \u001b[0;34m\u001b[0m\u001b[0m\n\u001b[1;32m    811\u001b[0m     \u001b[0;32mdef\u001b[0m \u001b[0mapply_standard\u001b[0m\u001b[0;34m(\u001b[0m\u001b[0mself\u001b[0m\u001b[0;34m)\u001b[0m\u001b[0;34m:\u001b[0m\u001b[0;34m\u001b[0m\u001b[0;34m\u001b[0m\u001b[0m\n\u001b[0;32m--> 812\u001b[0;31m         \u001b[0mresults\u001b[0m\u001b[0;34m,\u001b[0m \u001b[0mres_index\u001b[0m \u001b[0;34m=\u001b[0m \u001b[0mself\u001b[0m\u001b[0;34m.\u001b[0m\u001b[0mapply_series_generator\u001b[0m\u001b[0;34m(\u001b[0m\u001b[0;34m)\u001b[0m\u001b[0;34m\u001b[0m\u001b[0;34m\u001b[0m\u001b[0m\n\u001b[0m\u001b[1;32m    813\u001b[0m \u001b[0;34m\u001b[0m\u001b[0m\n\u001b[1;32m    814\u001b[0m         \u001b[0;31m# wrap results\u001b[0m\u001b[0;34m\u001b[0m\u001b[0;34m\u001b[0m\u001b[0;34m\u001b[0m\u001b[0m\n",
      "\u001b[0;32m~/.local/lib/python3.7/site-packages/pandas/core/apply.py\u001b[0m in \u001b[0;36mapply_series_generator\u001b[0;34m(self)\u001b[0m\n\u001b[1;32m    826\u001b[0m             \u001b[0;32mfor\u001b[0m \u001b[0mi\u001b[0m\u001b[0;34m,\u001b[0m \u001b[0mv\u001b[0m \u001b[0;32min\u001b[0m \u001b[0menumerate\u001b[0m\u001b[0;34m(\u001b[0m\u001b[0mseries_gen\u001b[0m\u001b[0;34m)\u001b[0m\u001b[0;34m:\u001b[0m\u001b[0;34m\u001b[0m\u001b[0;34m\u001b[0m\u001b[0m\n\u001b[1;32m    827\u001b[0m                 \u001b[0;31m# ignore SettingWithCopy here in case the user mutates\u001b[0m\u001b[0;34m\u001b[0m\u001b[0;34m\u001b[0m\u001b[0;34m\u001b[0m\u001b[0m\n\u001b[0;32m--> 828\u001b[0;31m                 \u001b[0mresults\u001b[0m\u001b[0;34m[\u001b[0m\u001b[0mi\u001b[0m\u001b[0;34m]\u001b[0m \u001b[0;34m=\u001b[0m \u001b[0mself\u001b[0m\u001b[0;34m.\u001b[0m\u001b[0mf\u001b[0m\u001b[0;34m(\u001b[0m\u001b[0mv\u001b[0m\u001b[0;34m)\u001b[0m\u001b[0;34m\u001b[0m\u001b[0;34m\u001b[0m\u001b[0m\n\u001b[0m\u001b[1;32m    829\u001b[0m                 \u001b[0;32mif\u001b[0m \u001b[0misinstance\u001b[0m\u001b[0;34m(\u001b[0m\u001b[0mresults\u001b[0m\u001b[0;34m[\u001b[0m\u001b[0mi\u001b[0m\u001b[0;34m]\u001b[0m\u001b[0;34m,\u001b[0m \u001b[0mABCSeries\u001b[0m\u001b[0;34m)\u001b[0m\u001b[0;34m:\u001b[0m\u001b[0;34m\u001b[0m\u001b[0;34m\u001b[0m\u001b[0m\n\u001b[1;32m    830\u001b[0m                     \u001b[0;31m# If we have a view on v, we need to make a copy because\u001b[0m\u001b[0;34m\u001b[0m\u001b[0;34m\u001b[0m\u001b[0;34m\u001b[0m\u001b[0m\n",
      "\u001b[0;32m~/.local/lib/python3.7/site-packages/pandas/core/apply.py\u001b[0m in \u001b[0;36mf\u001b[0;34m(x)\u001b[0m\n\u001b[1;32m    129\u001b[0m \u001b[0;34m\u001b[0m\u001b[0m\n\u001b[1;32m    130\u001b[0m             \u001b[0;32mdef\u001b[0m \u001b[0mf\u001b[0m\u001b[0;34m(\u001b[0m\u001b[0mx\u001b[0m\u001b[0;34m)\u001b[0m\u001b[0;34m:\u001b[0m\u001b[0;34m\u001b[0m\u001b[0;34m\u001b[0m\u001b[0m\n\u001b[0;32m--> 131\u001b[0;31m                 \u001b[0;32mreturn\u001b[0m \u001b[0mfunc\u001b[0m\u001b[0;34m(\u001b[0m\u001b[0mx\u001b[0m\u001b[0;34m,\u001b[0m \u001b[0;34m*\u001b[0m\u001b[0margs\u001b[0m\u001b[0;34m,\u001b[0m \u001b[0;34m**\u001b[0m\u001b[0mkwargs\u001b[0m\u001b[0;34m)\u001b[0m\u001b[0;34m\u001b[0m\u001b[0;34m\u001b[0m\u001b[0m\n\u001b[0m\u001b[1;32m    132\u001b[0m \u001b[0;34m\u001b[0m\u001b[0m\n\u001b[1;32m    133\u001b[0m         \u001b[0;32melse\u001b[0m\u001b[0;34m:\u001b[0m\u001b[0;34m\u001b[0m\u001b[0;34m\u001b[0m\u001b[0m\n",
      "\u001b[0;32m~/CYGNSS-GRACE/codebase/time_series_calcs.py\u001b[0m in \u001b[0;36mlinregress_wrap\u001b[0;34m(x_input, y_input_df)\u001b[0m\n\u001b[1;32m     73\u001b[0m \u001b[0;34m\u001b[0m\u001b[0m\n\u001b[1;32m     74\u001b[0m     \"\"\"\n\u001b[0;32m---> 75\u001b[0;31m     \u001b[0moutput_df\u001b[0m \u001b[0;34m=\u001b[0m \u001b[0mpd\u001b[0m\u001b[0;34m.\u001b[0m\u001b[0mDataFrame\u001b[0m\u001b[0;34m(\u001b[0m\u001b[0mcolumns\u001b[0m\u001b[0;34m=\u001b[0m\u001b[0;34m[\u001b[0m\u001b[0;34m'slope'\u001b[0m\u001b[0;34m,\u001b[0m \u001b[0;34m'intercept'\u001b[0m\u001b[0;34m,\u001b[0m \u001b[0;34m'r_value'\u001b[0m\u001b[0;34m,\u001b[0m \u001b[0;34m'p_value'\u001b[0m\u001b[0;34m,\u001b[0m \u001b[0;34m'std_err'\u001b[0m\u001b[0;34m]\u001b[0m\u001b[0;34m,\u001b[0m\u001b[0mindex\u001b[0m\u001b[0;34m=\u001b[0m\u001b[0my_input_df\u001b[0m\u001b[0;34m.\u001b[0m\u001b[0mcolumns\u001b[0m\u001b[0;34m)\u001b[0m\u001b[0;34m\u001b[0m\u001b[0;34m\u001b[0m\u001b[0m\n\u001b[0m\u001b[1;32m     76\u001b[0m     \u001b[0;32mfor\u001b[0m \u001b[0mmascon\u001b[0m \u001b[0;32min\u001b[0m \u001b[0my_input_df\u001b[0m\u001b[0;34m.\u001b[0m\u001b[0mcolumns\u001b[0m\u001b[0;34m:\u001b[0m\u001b[0;34m\u001b[0m\u001b[0;34m\u001b[0m\u001b[0m\n\u001b[1;32m     77\u001b[0m         \u001b[0moutput_df\u001b[0m\u001b[0;34m.\u001b[0m\u001b[0mloc\u001b[0m\u001b[0;34m[\u001b[0m\u001b[0mmascon\u001b[0m\u001b[0;34m]\u001b[0m \u001b[0;34m=\u001b[0m \u001b[0mstats\u001b[0m\u001b[0;34m.\u001b[0m\u001b[0mlinregress\u001b[0m\u001b[0;34m(\u001b[0m\u001b[0mx_input\u001b[0m\u001b[0;34m,\u001b[0m\u001b[0my_input_df\u001b[0m\u001b[0;34m[\u001b[0m\u001b[0mmascon\u001b[0m\u001b[0;34m]\u001b[0m\u001b[0;34m)\u001b[0m\u001b[0;34m\u001b[0m\u001b[0;34m\u001b[0m\u001b[0m\n",
      "\u001b[0;31mAttributeError\u001b[0m: 'list' object has no attribute 'columns'"
     ]
    }
   ],
   "source": [
    "test=grace_dict['cmwe']\n",
    "test.apply(time_series_calcs.linregress_wrap,axis=1,args=(x_tws))"
   ]
  },
  {
   "cell_type": "code",
   "execution_count": 10,
   "metadata": {},
   "outputs": [
    {
     "data": {
      "text/plain": [
       "labels\n",
       "1426     0.362440\n",
       "1427    -0.097099\n",
       "1428    -0.013172\n",
       "1429     2.080540\n",
       "1430     1.271725\n",
       "           ...   \n",
       "13024    0.872808\n",
       "13025    1.277285\n",
       "13026    1.618110\n",
       "13027    1.314412\n",
       "13028    1.946457\n",
       "Length: 11603, dtype: float64"
      ]
     },
     "execution_count": 10,
     "metadata": {},
     "output_type": "execute_result"
    }
   ],
   "source": [
    "test.apply(np.mean,axis=1)"
   ]
  },
  {
   "cell_type": "code",
   "execution_count": 6,
   "metadata": {},
   "outputs": [
    {
     "data": {
      "text/html": [
       "<div>\n",
       "<style scoped>\n",
       "    .dataframe tbody tr th:only-of-type {\n",
       "        vertical-align: middle;\n",
       "    }\n",
       "\n",
       "    .dataframe tbody tr th {\n",
       "        vertical-align: top;\n",
       "    }\n",
       "\n",
       "    .dataframe thead th {\n",
       "        text-align: right;\n",
       "    }\n",
       "</style>\n",
       "<table border=\"1\" class=\"dataframe\">\n",
       "  <thead>\n",
       "    <tr style=\"text-align: right;\">\n",
       "      <th></th>\n",
       "      <th>slope</th>\n",
       "      <th>intercept</th>\n",
       "      <th>r_value</th>\n",
       "      <th>p_value</th>\n",
       "      <th>std_err</th>\n",
       "    </tr>\n",
       "    <tr>\n",
       "      <th>labels</th>\n",
       "      <th></th>\n",
       "      <th></th>\n",
       "      <th></th>\n",
       "      <th></th>\n",
       "      <th></th>\n",
       "    </tr>\n",
       "  </thead>\n",
       "  <tbody>\n",
       "    <tr>\n",
       "      <th>1426</th>\n",
       "      <td>-0.043903</td>\n",
       "      <td>88.705977</td>\n",
       "      <td>-0.039623</td>\n",
       "      <td>0.563379</td>\n",
       "      <td>0.07586</td>\n",
       "    </tr>\n",
       "    <tr>\n",
       "      <th>1427</th>\n",
       "      <td>-0.12197</td>\n",
       "      <td>245.336515</td>\n",
       "      <td>-0.117468</td>\n",
       "      <td>0.085735</td>\n",
       "      <td>0.070652</td>\n",
       "    </tr>\n",
       "    <tr>\n",
       "      <th>1428</th>\n",
       "      <td>-0.089652</td>\n",
       "      <td>180.387377</td>\n",
       "      <td>-0.093474</td>\n",
       "      <td>0.172064</td>\n",
       "      <td>0.065429</td>\n",
       "    </tr>\n",
       "    <tr>\n",
       "      <th>1429</th>\n",
       "      <td>0.247977</td>\n",
       "      <td>-496.908976</td>\n",
       "      <td>0.199375</td>\n",
       "      <td>0.003326</td>\n",
       "      <td>0.083511</td>\n",
       "    </tr>\n",
       "    <tr>\n",
       "      <th>1430</th>\n",
       "      <td>0.111738</td>\n",
       "      <td>-223.571149</td>\n",
       "      <td>0.096674</td>\n",
       "      <td>0.157785</td>\n",
       "      <td>0.078825</td>\n",
       "    </tr>\n",
       "    <tr>\n",
       "      <th>...</th>\n",
       "      <td>...</td>\n",
       "      <td>...</td>\n",
       "      <td>...</td>\n",
       "      <td>...</td>\n",
       "      <td>...</td>\n",
       "    </tr>\n",
       "    <tr>\n",
       "      <th>13024</th>\n",
       "      <td>0.087288</td>\n",
       "      <td>-174.770711</td>\n",
       "      <td>0.088116</td>\n",
       "      <td>0.198094</td>\n",
       "      <td>0.067611</td>\n",
       "    </tr>\n",
       "    <tr>\n",
       "      <th>13025</th>\n",
       "      <td>0.170931</td>\n",
       "      <td>-342.675961</td>\n",
       "      <td>0.160897</td>\n",
       "      <td>0.018233</td>\n",
       "      <td>0.071843</td>\n",
       "    </tr>\n",
       "    <tr>\n",
       "      <th>13026</th>\n",
       "      <td>0.260281</td>\n",
       "      <td>-522.129589</td>\n",
       "      <td>0.22192</td>\n",
       "      <td>0.001053</td>\n",
       "      <td>0.078359</td>\n",
       "    </tr>\n",
       "    <tr>\n",
       "      <th>13027</th>\n",
       "      <td>0.22109</td>\n",
       "      <td>-443.570798</td>\n",
       "      <td>0.192546</td>\n",
       "      <td>0.004606</td>\n",
       "      <td>0.077204</td>\n",
       "    </tr>\n",
       "    <tr>\n",
       "      <th>13028</th>\n",
       "      <td>0.348286</td>\n",
       "      <td>-698.88881</td>\n",
       "      <td>0.268468</td>\n",
       "      <td>0.000067</td>\n",
       "      <td>0.085627</td>\n",
       "    </tr>\n",
       "  </tbody>\n",
       "</table>\n",
       "<p>11603 rows × 5 columns</p>\n",
       "</div>"
      ],
      "text/plain": [
       "           slope   intercept   r_value   p_value   std_err\n",
       "labels                                                    \n",
       "1426   -0.043903   88.705977 -0.039623  0.563379   0.07586\n",
       "1427    -0.12197  245.336515 -0.117468  0.085735  0.070652\n",
       "1428   -0.089652  180.387377 -0.093474  0.172064  0.065429\n",
       "1429    0.247977 -496.908976  0.199375  0.003326  0.083511\n",
       "1430    0.111738 -223.571149  0.096674  0.157785  0.078825\n",
       "...          ...         ...       ...       ...       ...\n",
       "13024   0.087288 -174.770711  0.088116  0.198094  0.067611\n",
       "13025   0.170931 -342.675961  0.160897  0.018233  0.071843\n",
       "13026   0.260281 -522.129589   0.22192  0.001053  0.078359\n",
       "13027    0.22109 -443.570798  0.192546  0.004606  0.077204\n",
       "13028   0.348286  -698.88881  0.268468  0.000067  0.085627\n",
       "\n",
       "[11603 rows x 5 columns]"
      ]
     },
     "execution_count": 6,
     "metadata": {},
     "output_type": "execute_result"
    }
   ],
   "source": [
    "## works for pd.DataFrame and linregress_wrap\n",
    "# is necessary to create the x_values for linregress\n",
    "def spatial_apply_func(input_df,func):\n",
    "    tws = input_df.T\n",
    "    x_tws= list(map(time_series_calcs.toYearFraction,tws.index))\n",
    "    y_tws = tws\n",
    "    initial_tws_slopes = func(x_tws,y_tws)\n",
    "    return initial_tws_slopes\n",
    "spatial_apply_func(grace_dict['cmwe'],time_series_calcs.linregress_wrap)"
   ]
  },
  {
   "cell_type": "code",
   "execution_count": 16,
   "metadata": {},
   "outputs": [
    {
     "ename": "ValueError",
     "evalue": "Unable to coerce to Series, length must be 12: given 215",
     "output_type": "error",
     "traceback": [
      "\u001b[0;31m---------------------------------------------------------------------------\u001b[0m",
      "\u001b[0;31mValueError\u001b[0m                                Traceback (most recent call last)",
      "\u001b[0;32m<ipython-input-16-32af8e9c7f38>\u001b[0m in \u001b[0;36m<module>\u001b[0;34m\u001b[0m\n\u001b[0;32m----> 1\u001b[0;31m \u001b[0mspatial_apply_func\u001b[0m\u001b[0;34m(\u001b[0m\u001b[0mgrace_dict\u001b[0m\u001b[0;34m[\u001b[0m\u001b[0;34m'cmwe'\u001b[0m\u001b[0;34m]\u001b[0m\u001b[0;34m.\u001b[0m\u001b[0mhead\u001b[0m\u001b[0;34m(\u001b[0m\u001b[0;36m12\u001b[0m\u001b[0;34m)\u001b[0m\u001b[0;34m,\u001b[0m\u001b[0mmax\u001b[0m\u001b[0;34m)\u001b[0m\u001b[0;34m\u001b[0m\u001b[0;34m\u001b[0m\u001b[0m\n\u001b[0m",
      "\u001b[0;32m<ipython-input-8-326815204a0f>\u001b[0m in \u001b[0;36mspatial_apply_func\u001b[0;34m(input_df, func)\u001b[0m\n\u001b[1;32m      4\u001b[0m     \u001b[0mx_tws\u001b[0m\u001b[0;34m=\u001b[0m \u001b[0mlist\u001b[0m\u001b[0;34m(\u001b[0m\u001b[0mmap\u001b[0m\u001b[0;34m(\u001b[0m\u001b[0mtime_series_calcs\u001b[0m\u001b[0;34m.\u001b[0m\u001b[0mtoYearFraction\u001b[0m\u001b[0;34m,\u001b[0m\u001b[0mtws\u001b[0m\u001b[0;34m.\u001b[0m\u001b[0mindex\u001b[0m\u001b[0;34m)\u001b[0m\u001b[0;34m)\u001b[0m\u001b[0;34m\u001b[0m\u001b[0;34m\u001b[0m\u001b[0m\n\u001b[1;32m      5\u001b[0m     \u001b[0my_tws\u001b[0m \u001b[0;34m=\u001b[0m \u001b[0mtws\u001b[0m\u001b[0;34m\u001b[0m\u001b[0;34m\u001b[0m\u001b[0m\n\u001b[0;32m----> 6\u001b[0;31m     \u001b[0minitial_tws_slopes\u001b[0m \u001b[0;34m=\u001b[0m \u001b[0mfunc\u001b[0m\u001b[0;34m(\u001b[0m\u001b[0mx_tws\u001b[0m\u001b[0;34m,\u001b[0m\u001b[0my_tws\u001b[0m\u001b[0;34m)\u001b[0m\u001b[0;34m\u001b[0m\u001b[0;34m\u001b[0m\u001b[0m\n\u001b[0m\u001b[1;32m      7\u001b[0m     \u001b[0;32mreturn\u001b[0m \u001b[0minitial_tws_slopes\u001b[0m\u001b[0;34m\u001b[0m\u001b[0;34m\u001b[0m\u001b[0m\n\u001b[1;32m      8\u001b[0m \u001b[0mspatial_apply_func\u001b[0m\u001b[0;34m(\u001b[0m\u001b[0mgrace_dict\u001b[0m\u001b[0;34m[\u001b[0m\u001b[0;34m'cmwe'\u001b[0m\u001b[0;34m]\u001b[0m\u001b[0;34m,\u001b[0m\u001b[0mtime_series_calcs\u001b[0m\u001b[0;34m.\u001b[0m\u001b[0mlinregress_wrap\u001b[0m\u001b[0;34m)\u001b[0m\u001b[0;34m\u001b[0m\u001b[0;34m\u001b[0m\u001b[0m\n",
      "\u001b[0;32m~/.local/lib/python3.7/site-packages/pandas/core/ops/common.py\u001b[0m in \u001b[0;36mnew_method\u001b[0;34m(self, other)\u001b[0m\n\u001b[1;32m     67\u001b[0m         \u001b[0mother\u001b[0m \u001b[0;34m=\u001b[0m \u001b[0mitem_from_zerodim\u001b[0m\u001b[0;34m(\u001b[0m\u001b[0mother\u001b[0m\u001b[0;34m)\u001b[0m\u001b[0;34m\u001b[0m\u001b[0;34m\u001b[0m\u001b[0m\n\u001b[1;32m     68\u001b[0m \u001b[0;34m\u001b[0m\u001b[0m\n\u001b[0;32m---> 69\u001b[0;31m         \u001b[0;32mreturn\u001b[0m \u001b[0mmethod\u001b[0m\u001b[0;34m(\u001b[0m\u001b[0mself\u001b[0m\u001b[0;34m,\u001b[0m \u001b[0mother\u001b[0m\u001b[0;34m)\u001b[0m\u001b[0;34m\u001b[0m\u001b[0;34m\u001b[0m\u001b[0m\n\u001b[0m\u001b[1;32m     70\u001b[0m \u001b[0;34m\u001b[0m\u001b[0m\n\u001b[1;32m     71\u001b[0m     \u001b[0;32mreturn\u001b[0m \u001b[0mnew_method\u001b[0m\u001b[0;34m\u001b[0m\u001b[0;34m\u001b[0m\u001b[0m\n",
      "\u001b[0;32m~/.local/lib/python3.7/site-packages/pandas/core/arraylike.py\u001b[0m in \u001b[0;36m__gt__\u001b[0;34m(self, other)\u001b[0m\n\u001b[1;32m     46\u001b[0m     \u001b[0;34m@\u001b[0m\u001b[0munpack_zerodim_and_defer\u001b[0m\u001b[0;34m(\u001b[0m\u001b[0;34m\"__gt__\"\u001b[0m\u001b[0;34m)\u001b[0m\u001b[0;34m\u001b[0m\u001b[0;34m\u001b[0m\u001b[0m\n\u001b[1;32m     47\u001b[0m     \u001b[0;32mdef\u001b[0m \u001b[0m__gt__\u001b[0m\u001b[0;34m(\u001b[0m\u001b[0mself\u001b[0m\u001b[0;34m,\u001b[0m \u001b[0mother\u001b[0m\u001b[0;34m)\u001b[0m\u001b[0;34m:\u001b[0m\u001b[0;34m\u001b[0m\u001b[0;34m\u001b[0m\u001b[0m\n\u001b[0;32m---> 48\u001b[0;31m         \u001b[0;32mreturn\u001b[0m \u001b[0mself\u001b[0m\u001b[0;34m.\u001b[0m\u001b[0m_cmp_method\u001b[0m\u001b[0;34m(\u001b[0m\u001b[0mother\u001b[0m\u001b[0;34m,\u001b[0m \u001b[0moperator\u001b[0m\u001b[0;34m.\u001b[0m\u001b[0mgt\u001b[0m\u001b[0;34m)\u001b[0m\u001b[0;34m\u001b[0m\u001b[0;34m\u001b[0m\u001b[0m\n\u001b[0m\u001b[1;32m     49\u001b[0m \u001b[0;34m\u001b[0m\u001b[0m\n\u001b[1;32m     50\u001b[0m     \u001b[0;34m@\u001b[0m\u001b[0munpack_zerodim_and_defer\u001b[0m\u001b[0;34m(\u001b[0m\u001b[0;34m\"__ge__\"\u001b[0m\u001b[0;34m)\u001b[0m\u001b[0;34m\u001b[0m\u001b[0;34m\u001b[0m\u001b[0m\n",
      "\u001b[0;32m~/.local/lib/python3.7/site-packages/pandas/core/frame.py\u001b[0m in \u001b[0;36m_cmp_method\u001b[0;34m(self, other, op)\u001b[0m\n\u001b[1;32m   6849\u001b[0m         \u001b[0maxis\u001b[0m \u001b[0;34m=\u001b[0m \u001b[0;36m1\u001b[0m  \u001b[0;31m# only relevant for Series other case\u001b[0m\u001b[0;34m\u001b[0m\u001b[0;34m\u001b[0m\u001b[0m\n\u001b[1;32m   6850\u001b[0m \u001b[0;34m\u001b[0m\u001b[0m\n\u001b[0;32m-> 6851\u001b[0;31m         \u001b[0mself\u001b[0m\u001b[0;34m,\u001b[0m \u001b[0mother\u001b[0m \u001b[0;34m=\u001b[0m \u001b[0mops\u001b[0m\u001b[0;34m.\u001b[0m\u001b[0malign_method_FRAME\u001b[0m\u001b[0;34m(\u001b[0m\u001b[0mself\u001b[0m\u001b[0;34m,\u001b[0m \u001b[0mother\u001b[0m\u001b[0;34m,\u001b[0m \u001b[0maxis\u001b[0m\u001b[0;34m,\u001b[0m \u001b[0mflex\u001b[0m\u001b[0;34m=\u001b[0m\u001b[0;32mFalse\u001b[0m\u001b[0;34m,\u001b[0m \u001b[0mlevel\u001b[0m\u001b[0;34m=\u001b[0m\u001b[0;32mNone\u001b[0m\u001b[0;34m)\u001b[0m\u001b[0;34m\u001b[0m\u001b[0;34m\u001b[0m\u001b[0m\n\u001b[0m\u001b[1;32m   6852\u001b[0m \u001b[0;34m\u001b[0m\u001b[0m\n\u001b[1;32m   6853\u001b[0m         \u001b[0;31m# See GH#4537 for discussion of scalar op behavior\u001b[0m\u001b[0;34m\u001b[0m\u001b[0;34m\u001b[0m\u001b[0;34m\u001b[0m\u001b[0m\n",
      "\u001b[0;32m~/.local/lib/python3.7/site-packages/pandas/core/ops/__init__.py\u001b[0m in \u001b[0;36malign_method_FRAME\u001b[0;34m(left, right, axis, flex, level)\u001b[0m\n\u001b[1;32m    279\u001b[0m             )\n\u001b[1;32m    280\u001b[0m         \u001b[0;31m# GH17901\u001b[0m\u001b[0;34m\u001b[0m\u001b[0;34m\u001b[0m\u001b[0;34m\u001b[0m\u001b[0m\n\u001b[0;32m--> 281\u001b[0;31m         \u001b[0mright\u001b[0m \u001b[0;34m=\u001b[0m \u001b[0mto_series\u001b[0m\u001b[0;34m(\u001b[0m\u001b[0mright\u001b[0m\u001b[0;34m)\u001b[0m\u001b[0;34m\u001b[0m\u001b[0;34m\u001b[0m\u001b[0m\n\u001b[0m\u001b[1;32m    282\u001b[0m \u001b[0;34m\u001b[0m\u001b[0m\n\u001b[1;32m    283\u001b[0m     \u001b[0;32mif\u001b[0m \u001b[0mflex\u001b[0m \u001b[0;32mis\u001b[0m \u001b[0;32mnot\u001b[0m \u001b[0;32mNone\u001b[0m \u001b[0;32mand\u001b[0m \u001b[0misinstance\u001b[0m\u001b[0;34m(\u001b[0m\u001b[0mright\u001b[0m\u001b[0;34m,\u001b[0m \u001b[0mABCDataFrame\u001b[0m\u001b[0;34m)\u001b[0m\u001b[0;34m:\u001b[0m\u001b[0;34m\u001b[0m\u001b[0;34m\u001b[0m\u001b[0m\n",
      "\u001b[0;32m~/.local/lib/python3.7/site-packages/pandas/core/ops/__init__.py\u001b[0m in \u001b[0;36mto_series\u001b[0;34m(right)\u001b[0m\n\u001b[1;32m    237\u001b[0m             \u001b[0;32mif\u001b[0m \u001b[0mlen\u001b[0m\u001b[0;34m(\u001b[0m\u001b[0mleft\u001b[0m\u001b[0;34m.\u001b[0m\u001b[0mcolumns\u001b[0m\u001b[0;34m)\u001b[0m \u001b[0;34m!=\u001b[0m \u001b[0mlen\u001b[0m\u001b[0;34m(\u001b[0m\u001b[0mright\u001b[0m\u001b[0;34m)\u001b[0m\u001b[0;34m:\u001b[0m\u001b[0;34m\u001b[0m\u001b[0;34m\u001b[0m\u001b[0m\n\u001b[1;32m    238\u001b[0m                 raise ValueError(\n\u001b[0;32m--> 239\u001b[0;31m                     \u001b[0mmsg\u001b[0m\u001b[0;34m.\u001b[0m\u001b[0mformat\u001b[0m\u001b[0;34m(\u001b[0m\u001b[0mreq_len\u001b[0m\u001b[0;34m=\u001b[0m\u001b[0mlen\u001b[0m\u001b[0;34m(\u001b[0m\u001b[0mleft\u001b[0m\u001b[0;34m.\u001b[0m\u001b[0mcolumns\u001b[0m\u001b[0;34m)\u001b[0m\u001b[0;34m,\u001b[0m \u001b[0mgiven_len\u001b[0m\u001b[0;34m=\u001b[0m\u001b[0mlen\u001b[0m\u001b[0;34m(\u001b[0m\u001b[0mright\u001b[0m\u001b[0;34m)\u001b[0m\u001b[0;34m)\u001b[0m\u001b[0;34m\u001b[0m\u001b[0;34m\u001b[0m\u001b[0m\n\u001b[0m\u001b[1;32m    240\u001b[0m                 )\n\u001b[1;32m    241\u001b[0m             \u001b[0mright\u001b[0m \u001b[0;34m=\u001b[0m \u001b[0mleft\u001b[0m\u001b[0;34m.\u001b[0m\u001b[0m_constructor_sliced\u001b[0m\u001b[0;34m(\u001b[0m\u001b[0mright\u001b[0m\u001b[0;34m,\u001b[0m \u001b[0mindex\u001b[0m\u001b[0;34m=\u001b[0m\u001b[0mleft\u001b[0m\u001b[0;34m.\u001b[0m\u001b[0mcolumns\u001b[0m\u001b[0;34m)\u001b[0m\u001b[0;34m\u001b[0m\u001b[0;34m\u001b[0m\u001b[0m\n",
      "\u001b[0;31mValueError\u001b[0m: Unable to coerce to Series, length must be 12: given 215"
     ]
    }
   ],
   "source": [
    "spatial_apply_func(grace_dict['cmwe'].head(12),max)"
   ]
  },
  {
   "cell_type": "code",
   "execution_count": null,
   "metadata": {},
   "outputs": [],
   "source": [
    "coords_oi = reservoir_name_to_point('Nouzhadu')\n",
    "\n",
    "test = grace_point_subset(coords_oi)\n",
    "print(test[1].iloc[0]['geometry'].exterior)\n",
    "test[1]['geometry'].explore()"
   ]
  }
 ],
 "metadata": {
  "kernelspec": {
   "display_name": "geo_jupyter_kernel",
   "language": "python",
   "name": "python3"
  },
  "language_info": {
   "codemirror_mode": {
    "name": "ipython",
    "version": 3
   },
   "file_extension": ".py",
   "mimetype": "text/x-python",
   "name": "python",
   "nbconvert_exporter": "python",
   "pygments_lexer": "ipython3",
   "version": "3.7.10"
  },
  "orig_nbformat": 4
 },
 "nbformat": 4,
 "nbformat_minor": 2
}
