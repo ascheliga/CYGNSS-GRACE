{
 "cells": [
  {
   "cell_type": "markdown",
   "metadata": {},
   "source": [
    "# Maps around reservoirs\n",
    "\n",
    "## To-dos\n",
    "- [ ] trend maps for xarray data\n",
    "- [x] area_subset of GRACE data (instead of point subset)\n",
    "- [ ] area_subset of IMERG data\n",
    "- [ ] area_subset of precip data"
   ]
  },
  {
   "cell_type": "code",
   "execution_count": null,
   "metadata": {},
   "outputs": [],
   "source": [
    "func_dir = '/global/home/users/ann_scheliga/CYGNSS-GRACE/codebase/'"
   ]
  },
  {
   "cell_type": "code",
   "execution_count": 2,
   "metadata": {},
   "outputs": [],
   "source": [
    "import sys\n",
    "import pandas as pd\n",
    "import numpy as np\n",
    "import geopandas as gpd\n",
    "import xarray as xr\n",
    "import matplotlib.pyplot as plt\n",
    "import rioxarray as rxr\n",
    "\n",
    "sys.path.append(func_dir)\n",
    "import load_data\n",
    "import time_series_calcs\n",
    "import plotting_functions\n",
    "import area_subsets"
   ]
  },
  {
   "cell_type": "code",
   "execution_count": null,
   "metadata": {},
   "outputs": [],
   "source": [
    "# fw_DA = load_data.load_CYGNSS_05()\n",
    "# grace_dict = load_data.load_GRACE()\n",
    "res_shp = load_data.load_GRanD()\n",
    "precip_DA = load_data.load_IMERG()"
   ]
  },
  {
   "cell_type": "markdown",
   "metadata": {},
   "source": [
    "## Subset gpd by shp file"
   ]
  },
  {
   "cell_type": "code",
   "execution_count": null,
   "metadata": {},
   "outputs": [],
   "source": [
    "def check_for_multiple_dams(dam_name,res_shp):\n",
    "    \"\"\"\n",
    "    Inputs\n",
    "    ------\n",
    "\n",
    "    Outputs\n",
    "    -------\n",
    "    GeoDataFrame of reservoir(s) with the dam\n",
    "\n",
    "    \"\"\"\n",
    "    dam_row = (res_shp['DAM_NAME'].str.lower())==(dam_name.lower())\n",
    "    n_rows = dam_row.sum()\n",
    "    if n_rows == 0:\n",
    "        print('Dam name not found')\n",
    "    elif n_rows > 1:\n",
    "        print('Dam name',dam_name,'is redundant.',n_rows,'entires found.')\n",
    "    return res_shp[dam_row]"
   ]
  },
  {
   "cell_type": "code",
   "execution_count": null,
   "metadata": {},
   "outputs": [],
   "source": [
    "def grace_shape_subset(dam_name,res_shp,grace_dict,buffer_val=0):\n",
    "    shape_row = check_for_multiple_dams(dam_name,res_shp)\n",
    "    shape_poly = shape_row['geometry'].buffer(buffer_val).unary_union\n",
    "    bool_series = grace_dict['mascon'].intersects(shape_poly)\n",
    "    subsetted_mascon = grace_dict['mascon'][bool_series]\n",
    "    subsetted_cmwe = grace_dict['cmwe'][bool_series]\n",
    "    return subsetted_cmwe , subsetted_mascon"
   ]
  },
  {
   "cell_type": "code",
   "execution_count": null,
   "metadata": {},
   "outputs": [],
   "source": [
    "cmwe_i , mascon_i = grace_shape_subset('Indirasagar',res_shp,grace_dict)\n",
    "\n",
    "mascon_i.plot()"
   ]
  },
  {
   "cell_type": "markdown",
   "metadata": {},
   "source": [
    "## Test subset xarray by shp file (precip)"
   ]
  },
  {
   "cell_type": "code",
   "execution_count": null,
   "metadata": {},
   "outputs": [],
   "source": [
    "precip_plot = xr_shape_subset('Indirasagar',res_shp,precip_DA,buffer_val=0.25)\n",
    "precip_plot[0,:,:].plot()"
   ]
  },
  {
   "cell_type": "code",
   "execution_count": null,
   "metadata": {},
   "outputs": [],
   "source": [
    "def xr_shape_subset(dam_name,res_shp,input_xr,buffer_val=0,crs_code = 4326):\n",
    "    subset_gpd = area_subsets.check_for_multiple_dams(dam_name,res_shp)\n",
    "    # Add crs to xr\n",
    "    full_rxr = input_xr.rio.write_crs(crs_code)\n",
    "\n",
    "    # Grab coordinate names\n",
    "    x_name = [dim for dim in list(input_xr.dims) if 'lon' in dim][0]\n",
    "    y_name = [dim for dim in list(input_xr.dims) if 'lat' in dim][0]\n",
    "\n",
    "    # Set spatial dimensions to xr\n",
    "    full_rxr.rio.set_spatial_dims(x_name,y_name,inplace=True)\n",
    "\n",
    "    # Apply shp subset\n",
    "    clip_rxr = full_rxr.rio.clip(subset_gpd.geometry.buffer(buffer_val) , subset_gpd.crs)\n",
    "    return clip_rxr"
   ]
  },
  {
   "cell_type": "code",
   "execution_count": null,
   "metadata": {},
   "outputs": [],
   "source": [
    "# Input values\n",
    "input_xr = precip_DA\n",
    "crs_code = 4326\n",
    "input_gpd = area_subsets.check_for_multiple_dams('Indirasagar',res_shp)\n",
    "\n",
    "# Add crs to xr\n",
    "test_rxr0 = input_xr.rio.write_crs(crs_code)\n",
    "\n",
    "# Grab coordinate names\n",
    "x_name = [dim for dim in list(input_xr.dims) if 'lon' in dim][0]\n",
    "y_name = [dim for dim in list(input_xr.dims) if 'lat' in dim][0]\n",
    "\n",
    "# Set spatial dimensions to xr\n",
    "test_rxr0.rio.set_spatial_dims(x_name,y_name,inplace=True)\n",
    "\n",
    "# Apply shp subset\n",
    "test_clip = test_rxr0.rio.clip(input_gpd.geometry.buffer(1) , input_gpd.crs)\n",
    "test_clip[1,:,:].plot()"
   ]
  },
  {
   "cell_type": "markdown",
   "metadata": {},
   "source": [
    "## Test subset xarray by shp file (CYGNSS fw)\n",
    "\n",
    "From rioxarray documentation here (https://corteva.github.io/rioxarray/stable/getting_started/getting_started.html#xarray), I should be able to use the existing loading function xr.open_datarray() and be compatible with rioxarray functionality.\n",
    "\n",
    "rio.clip() kind of working. Produces an error if an empty spatial subset."
   ]
  },
  {
   "cell_type": "code",
   "execution_count": null,
   "metadata": {},
   "outputs": [],
   "source": [
    "test_row = area_subsets.check_for_multiple_dams('Indirasagar',res_shp)\n",
    "# test_poly = test_row['geometry'].buffer(0.1).unary_union\n",
    "test_row.geometry"
   ]
  },
  {
   "cell_type": "code",
   "execution_count": null,
   "metadata": {},
   "outputs": [],
   "source": [
    "test_rxr = fw_DA.rio.write_crs(4326)\n",
    "# test_rxr.rio.to_raster('../../scratch/ann_scheliga/rxr_rasters/test_rxr.tif')\n",
    "test_rxr.rio.set_spatial_dims('lon','lat',inplace=True)"
   ]
  },
  {
   "cell_type": "code",
   "execution_count": null,
   "metadata": {},
   "outputs": [],
   "source": [
    "# rio.clip_box() works\n",
    "\n",
    "test_boxclip = test_rxr.rio.clip_box(76.42467457600003, 21.907250000000033, 76.90174206500012, 22.4733543750001)\n",
    "test_boxclip[:,:,0].plot()\n",
    "# 76.72987 21.99"
   ]
  },
  {
   "cell_type": "code",
   "execution_count": null,
   "metadata": {},
   "outputs": [],
   "source": [
    "test_clip = test_rxr.rio.clip(test_row.geometry.buffer(1) , test_row.crs)\n",
    "test_clip[:,:,1].plot()"
   ]
  },
  {
   "cell_type": "markdown",
   "metadata": {},
   "source": [
    "## Scratchwork"
   ]
  },
  {
   "cell_type": "code",
   "execution_count": null,
   "metadata": {},
   "outputs": [],
   "source": [
    "## Trying out plotting functionality\n",
    "\n",
    "tws = grace_dict['cmwe'].T\n",
    "x_tws= list(map(time_series_calcs.toYearFraction,tws.index))\n",
    "y_tws = tws\n",
    "initial_tws_slopes = time_series_calcs.linregress_wrap(x_tws,y_tws)\n",
    "print(initial_tws_slopes.head())\n",
    "\n",
    "initial_tws_slopes_gdf = gpd.GeoDataFrame(pd.concat([initial_tws_slopes , grace_dict['mascon']],axis=1))\n",
    "\n",
    "# fig , ax = plt.subplots(figsize=(12,8))\n",
    "# input_gdf = initial_tws_slopes_gdf\n",
    "# count = 0\n",
    "# plotting_functions.statsig_map(input_gdf,ax,count, pie_row = [0.5,0.4,0.1])"
   ]
  },
  {
   "cell_type": "code",
   "execution_count": null,
   "metadata": {},
   "outputs": [],
   "source": [
    "test=grace_dict['cmwe']\n",
    "test.apply(time_series_calcs.linregress_wrap,axis=1,args=(x_tws))"
   ]
  },
  {
   "cell_type": "code",
   "execution_count": null,
   "metadata": {},
   "outputs": [],
   "source": [
    "test.apply(np.mean,axis=1)"
   ]
  },
  {
   "cell_type": "code",
   "execution_count": null,
   "metadata": {},
   "outputs": [],
   "source": [
    "## works for pd.DataFrame and linregress_wrap\n",
    "# is necessary to create the x_values for linregress\n",
    "def spatial_apply_func(input_df,func):\n",
    "    tws = input_df.T\n",
    "    x_tws= list(map(time_series_calcs.toYearFraction,tws.index))\n",
    "    y_tws = tws\n",
    "    initial_tws_slopes = func(x_tws,y_tws)\n",
    "    return initial_tws_slopes\n",
    "spatial_apply_func(grace_dict['cmwe'],time_series_calcs.linregress_wrap)"
   ]
  },
  {
   "cell_type": "code",
   "execution_count": null,
   "metadata": {},
   "outputs": [],
   "source": [
    "spatial_apply_func(grace_dict['cmwe'].head(12),max)"
   ]
  },
  {
   "cell_type": "code",
   "execution_count": null,
   "metadata": {},
   "outputs": [],
   "source": [
    "coords_oi = reservoir_name_to_point('Nouzhadu')\n",
    "\n",
    "test = grace_point_subset(coords_oi)\n",
    "print(test[1].iloc[0]['geometry'].exterior)\n",
    "test[1]['geometry'].explore()"
   ]
  },
  {
   "cell_type": "code",
   "execution_count": null,
   "metadata": {},
   "outputs": [],
   "source": [
    "res_shp.crs"
   ]
  }
 ],
 "metadata": {
  "kernelspec": {
   "display_name": "rioxarray_kernel",
   "language": "python",
   "name": "rioxarray_kernel"
  },
  "language_info": {
   "codemirror_mode": {
    "name": "ipython",
    "version": 3
   },
   "file_extension": ".py",
   "mimetype": "text/x-python",
   "name": "python",
   "nbconvert_exporter": "python",
   "pygments_lexer": "ipython3",
   "version": "3.11.5"
  }
 },
 "nbformat": 4,
 "nbformat_minor": 2
}
