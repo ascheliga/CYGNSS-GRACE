{
 "cells": [
  {
   "cell_type": "code",
   "execution_count": 1,
   "id": "intermediate-evidence",
   "metadata": {},
   "outputs": [],
   "source": [
    "func_dir = '/global/home/users/ann_scheliga/CYGNSS-GRACE/codebase/'\n",
    "data_dir = '/global/scratch/users/ann_scheliga/dam_datasets/'"
   ]
  },
  {
   "cell_type": "code",
   "execution_count": 2,
   "id": "skilled-prospect",
   "metadata": {},
   "outputs": [],
   "source": [
    "import sys\n",
    "import pandas as pd\n",
    "import numpy as np\n",
    "import matplotlib.pyplot as plt\n",
    "import os"
   ]
  },
  {
   "cell_type": "code",
   "execution_count": 3,
   "id": "classified-blend",
   "metadata": {},
   "outputs": [],
   "source": [
    "list_of_filenames = os.listdir(data_dir)\n",
    "LH_usbr_filename = [fname for fname in list_of_filenames if 'havasu' in fname.lower() and 'usbr' in fname.lower()][0]\n",
    "LH_cdec_filename = [fname for fname in list_of_filenames if 'havasu' in fname.lower() and 'cdec' in fname.lower()][0]\n",
    "LM_usbr_filename = [fname for fname in list_of_filenames if 'mohave' in fname.lower() and 'usbr' in fname.lower()][0]\n",
    "LM_cdec_filename = [fname for fname in list_of_filenames if 'mohave' in fname.lower() and 'cdec' in fname.lower()][0]"
   ]
  },
  {
   "cell_type": "code",
   "execution_count": 49,
   "id": "permanent-bernard",
   "metadata": {},
   "outputs": [],
   "source": [
    "LH_usbr_raw = pd.read_csv(data_dir + LH_usbr_filename,header=7)\n",
    "LM_usbr_raw = pd.read_csv(data_dir + LM_usbr_filename,header=7)\n",
    "LH_cdec_raw = pd.read_csv(data_dir + LH_cdec_filename)\n",
    "LM_cdec_raw = pd.read_csv(data_dir + LM_cdec_filename)"
   ]
  },
  {
   "cell_type": "code",
   "execution_count": 5,
   "id": "57add565",
   "metadata": {},
   "outputs": [],
   "source": [
    "def convert_to_num(single_value):\n",
    "    if isinstance(single_value , (float,int)):\n",
    "        return single_value\n",
    "    try:\n",
    "        float(single_value.replace(',',''))\n",
    "    except:\n",
    "        return np.nan\n",
    "    else:\n",
    "        return float(single_value.replace(',',''))"
   ]
  },
  {
   "cell_type": "code",
   "execution_count": 6,
   "id": "07cc8807",
   "metadata": {},
   "outputs": [],
   "source": [
    "def cdec_dataprocessing(df):\n",
    "    df['DATE'] = pd.to_datetime(df['DATE'])\n",
    "    df['STORAGE AF'] = df['STORAGE AF'].apply(convert_to_num)\n",
    "    return df"
   ]
  },
  {
   "cell_type": "code",
   "execution_count": 73,
   "id": "da47c1a7",
   "metadata": {},
   "outputs": [],
   "source": [
    "def usbr_dataprocessing(df):\n",
    "    df = df.drop(columns='Location')\n",
    "    df.dropna(axis=0,how='any',inplace=True)\n",
    "    df =  df[df['Timestep']!='Timestep'] # remove repeat header rows\n",
    "    df['Variable'] =  df['Parameter'] + ' [' + df['Units'] + ']'\n",
    "    df['Result'] =    df['Result'].apply(convert_to_num)\n",
    "    df_pivot = df.pivot(columns='Variable',index='Datetime (UTC)',values='Result')\n",
    "    return df_pivot"
   ]
  },
  {
   "cell_type": "code",
   "execution_count": 78,
   "id": "1894a0ef",
   "metadata": {},
   "outputs": [],
   "source": [
    "LH_cdec = cdec_dataprocessing(LH_cdec_raw)\n",
    "LM_cdec = cdec_dataprocessing(LM_cdec_raw)\n",
    "\n",
    "LH_usbr = usbr_dataprocessing(LH_usbr_raw)\n",
    "LM_usbr = usbr_dataprocessing(LM_usbr_raw)"
   ]
  }
 ],
 "metadata": {
  "kernelspec": {
   "display_name": "rioxarray_env",
   "language": "python",
   "name": "python3"
  },
  "language_info": {
   "codemirror_mode": {
    "name": "ipython",
    "version": 3
   },
   "file_extension": ".py",
   "mimetype": "text/x-python",
   "name": "python",
   "nbconvert_exporter": "python",
   "pygments_lexer": "ipython3",
   "version": "3.11.5"
  }
 },
 "nbformat": 4,
 "nbformat_minor": 5
}
