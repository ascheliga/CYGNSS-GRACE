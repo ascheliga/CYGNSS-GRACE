{
 "cells": [
  {
   "cell_type": "markdown",
   "id": "637dae67",
   "metadata": {},
   "source": [
    "Global Runoff Data Center (GRDC) https://portal.grdc.bafg.de/\n",
    "\n",
    "Download process:\n",
    "1. Pick sub-region(s) or station(s) of interest.\n",
    "2. Submit data request form. Select to include watershed boundaries.\n",
    "3. Download zip file from request email response.\n",
    "\n",
    "Download components:\n",
    "- stationbasins.geojson: metadata and geoemetry of the watershed upstream of the gauge.\n",
    "- subregions.geojson: global geodataframe of subregions\n",
    "- stationID_Q_.txt: time series of Q (m3/s) for each station"
   ]
  },
  {
   "cell_type": "code",
   "execution_count": 34,
   "id": "9fb79b31",
   "metadata": {},
   "outputs": [],
   "source": [
    "import pandas as pd\n",
    "import os\n",
    "import geopandas as gpd\n",
    "import numpy as np\n",
    "import xarray as xr\n",
    "import rioxarray as rxr\n",
    "import codebase\n",
    "from multiprocessing import Pool"
   ]
  },
  {
   "cell_type": "code",
   "execution_count": 46,
   "id": "3d327f69",
   "metadata": {},
   "outputs": [],
   "source": [
    "datadir = '/global/scratch/users/ann_scheliga/aux_dam_datasets/GRDC_CRB/'\n",
    "basin = 'orange'"
   ]
  },
  {
   "cell_type": "code",
   "execution_count": 47,
   "id": "19298abe",
   "metadata": {},
   "outputs": [],
   "source": [
    "subregions_meta = gpd.read_file(datadir + basin + '_subregions.geojson')\n",
    "stations_meta = gpd.read_file(datadir + basin + '_stationbasins.geojson')\n",
    "stations_meta.index = stations_meta['grdc_no']"
   ]
  },
  {
   "cell_type": "code",
   "execution_count": 48,
   "id": "a4ad417b",
   "metadata": {},
   "outputs": [
    {
     "data": {
      "text/plain": [
       "122"
      ]
     },
     "execution_count": 48,
     "metadata": {},
     "output_type": "execute_result"
    }
   ],
   "source": [
    "grdc_ids = stations_meta['grdc_no']\n",
    "len(grdc_ids)"
   ]
  },
  {
   "cell_type": "code",
   "execution_count": 49,
   "id": "3752129f",
   "metadata": {},
   "outputs": [],
   "source": [
    "def get_start_stop_dates(grdc_id_OI):\n",
    "    _ , data_df = codebase.load_data.load_GRDC_station_data_by_ID(grdc_id_OI, filepath=datadir,basin_str=basin)\n",
    "    if data_df.empty:\n",
    "        start_date = np.nan\n",
    "        stop_date = np.nan\n",
    "    else:\n",
    "        start_date = data_df.index[0]\n",
    "        stop_date = data_df.index[-1]\n",
    "    return start_date, stop_date"
   ]
  },
  {
   "cell_type": "markdown",
   "id": "8f339420",
   "metadata": {},
   "source": [
    "## REMOVE EMPTY DATA FILES"
   ]
  },
  {
   "cell_type": "code",
   "execution_count": 50,
   "id": "1271c0e4",
   "metadata": {},
   "outputs": [],
   "source": [
    "def identify_empty_files(stations_meta):\n",
    "    date_check_sum = stations_meta[['start_date','stop_date']].isnull().sum(axis=1) # find rows with empty start and stop dates\n",
    "    empty_ids = date_check_sum[date_check_sum == 2].index.astype(int) # subset to IDs with no data\n",
    "    print(empty_ids)\n",
    "\n",
    "    empty_files = list(empty_ids.astype('str').to_frame().add_suffix('_Q_Day.Cmd.txt',axis=0).index) # convert IDs into filenames\n",
    "    return empty_files"
   ]
  },
  {
   "cell_type": "code",
   "execution_count": 51,
   "id": "29c74369",
   "metadata": {},
   "outputs": [],
   "source": [
    "def remove_empty_files(stations_meta,data_dir,safety_on=True):\n",
    "\n",
    "    empty_files = identify_empty_files(stations_meta)\n",
    "\n",
    "    if not safety_on:\n",
    "        for empty_file in empty_files:\n",
    "            try:\n",
    "                os.remove(datadir+empty_file)\n",
    "            except FileNotFoundError:\n",
    "                print('No file',empty_file)"
   ]
  },
  {
   "cell_type": "code",
   "execution_count": 52,
   "id": "c5ca9e22",
   "metadata": {},
   "outputs": [],
   "source": [
    "with Pool() as pool:\n",
    "    result = pool.map(get_start_stop_dates,\n",
    "        grdc_ids,\n",
    "    )"
   ]
  },
  {
   "cell_type": "code",
   "execution_count": 53,
   "id": "7c401c48",
   "metadata": {},
   "outputs": [],
   "source": [
    "result_df = pd.DataFrame(result)"
   ]
  },
  {
   "cell_type": "code",
   "execution_count": 55,
   "id": "9f6c82c2",
   "metadata": {},
   "outputs": [
    {
     "data": {
      "text/html": [
       "<div>\n",
       "<style scoped>\n",
       "    .dataframe tbody tr th:only-of-type {\n",
       "        vertical-align: middle;\n",
       "    }\n",
       "\n",
       "    .dataframe tbody tr th {\n",
       "        vertical-align: top;\n",
       "    }\n",
       "\n",
       "    .dataframe thead th {\n",
       "        text-align: right;\n",
       "    }\n",
       "</style>\n",
       "<table border=\"1\" class=\"dataframe\">\n",
       "  <thead>\n",
       "    <tr style=\"text-align: right;\">\n",
       "      <th></th>\n",
       "      <th>start_date</th>\n",
       "      <th>stop_date</th>\n",
       "    </tr>\n",
       "    <tr>\n",
       "      <th>grdc_no</th>\n",
       "      <th></th>\n",
       "      <th></th>\n",
       "    </tr>\n",
       "  </thead>\n",
       "  <tbody>\n",
       "    <tr>\n",
       "      <th>1159100.0</th>\n",
       "      <td>2000-01-01</td>\n",
       "      <td>2024-12-31</td>\n",
       "    </tr>\n",
       "    <tr>\n",
       "      <th>1159103.0</th>\n",
       "      <td>2000-01-01</td>\n",
       "      <td>2024-12-31</td>\n",
       "    </tr>\n",
       "    <tr>\n",
       "      <th>1159105.0</th>\n",
       "      <td>2014-05-14</td>\n",
       "      <td>2024-12-31</td>\n",
       "    </tr>\n",
       "    <tr>\n",
       "      <th>1159110.0</th>\n",
       "      <td>2000-01-01</td>\n",
       "      <td>2023-05-29</td>\n",
       "    </tr>\n",
       "    <tr>\n",
       "      <th>1159120.0</th>\n",
       "      <td>2000-01-01</td>\n",
       "      <td>2023-04-17</td>\n",
       "    </tr>\n",
       "    <tr>\n",
       "      <th>...</th>\n",
       "      <td>...</td>\n",
       "      <td>...</td>\n",
       "    </tr>\n",
       "    <tr>\n",
       "      <th>1259520.0</th>\n",
       "      <td>NaT</td>\n",
       "      <td>NaT</td>\n",
       "    </tr>\n",
       "    <tr>\n",
       "      <th>1259600.0</th>\n",
       "      <td>NaT</td>\n",
       "      <td>NaT</td>\n",
       "    </tr>\n",
       "    <tr>\n",
       "      <th>1259620.0</th>\n",
       "      <td>NaT</td>\n",
       "      <td>NaT</td>\n",
       "    </tr>\n",
       "    <tr>\n",
       "      <th>1259800.0</th>\n",
       "      <td>NaT</td>\n",
       "      <td>NaT</td>\n",
       "    </tr>\n",
       "    <tr>\n",
       "      <th>1259810.0</th>\n",
       "      <td>NaT</td>\n",
       "      <td>NaT</td>\n",
       "    </tr>\n",
       "  </tbody>\n",
       "</table>\n",
       "<p>122 rows × 2 columns</p>\n",
       "</div>"
      ],
      "text/plain": [
       "          start_date  stop_date\n",
       "grdc_no                        \n",
       "1159100.0 2000-01-01 2024-12-31\n",
       "1159103.0 2000-01-01 2024-12-31\n",
       "1159105.0 2014-05-14 2024-12-31\n",
       "1159110.0 2000-01-01 2023-05-29\n",
       "1159120.0 2000-01-01 2023-04-17\n",
       "...              ...        ...\n",
       "1259520.0        NaT        NaT\n",
       "1259600.0        NaT        NaT\n",
       "1259620.0        NaT        NaT\n",
       "1259800.0        NaT        NaT\n",
       "1259810.0        NaT        NaT\n",
       "\n",
       "[122 rows x 2 columns]"
      ]
     },
     "execution_count": 55,
     "metadata": {},
     "output_type": "execute_result"
    }
   ],
   "source": [
    "stations_meta[['start_date','stop_date']] = result_df.values\n",
    "stations_meta[['start_date','stop_date']]"
   ]
  },
  {
   "cell_type": "code",
   "execution_count": 56,
   "id": "f7c2d168",
   "metadata": {},
   "outputs": [
    {
     "name": "stdout",
     "output_type": "stream",
     "text": [
      "Index([1159131, 1159321, 1159325, 1159410, 1159512, 1159600, 1159800, 1159850,\n",
      "       1159855, 1159860, 1259111, 1259150, 1259151, 1259152, 1259170, 1259200,\n",
      "       1259220, 1259230, 1259240, 1259250, 1259260, 1259300, 1259301, 1259310,\n",
      "       1259320, 1259321, 1259360, 1259500, 1259510, 1259520, 1259600, 1259620,\n",
      "       1259800, 1259810],\n",
      "      dtype='int64', name='grdc_no')\n"
     ]
    }
   ],
   "source": [
    "identify_empty_files(stations_meta);"
   ]
  },
  {
   "cell_type": "code",
   "execution_count": null,
   "id": "44820752",
   "metadata": {},
   "outputs": [
    {
     "name": "stdout",
     "output_type": "stream",
     "text": [
      "Index([1159131, 1159321, 1159325, 1159410, 1159512, 1159600, 1159800, 1159850,\n",
      "       1159855, 1159860, 1259111, 1259150, 1259151, 1259152, 1259170, 1259200,\n",
      "       1259220, 1259230, 1259240, 1259250, 1259260, 1259300, 1259301, 1259310,\n",
      "       1259320, 1259321, 1259360, 1259500, 1259510, 1259520, 1259600, 1259620,\n",
      "       1259800, 1259810],\n",
      "      dtype='int64', name='grdc_no')\n"
     ]
    }
   ],
   "source": [
    "safety_on = True\n",
    "remove_empty_files(stations_meta,datadir,safety_on)"
   ]
  },
  {
   "cell_type": "markdown",
   "id": "4a7a1544",
   "metadata": {},
   "source": [
    "## CALCULATE ATTRIBUTES"
   ]
  }
 ],
 "metadata": {
  "kernelspec": {
   "display_name": "rioxarray_env",
   "language": "python",
   "name": "python3"
  },
  "language_info": {
   "codemirror_mode": {
    "name": "ipython",
    "version": 3
   },
   "file_extension": ".py",
   "mimetype": "text/x-python",
   "name": "python",
   "nbconvert_exporter": "python",
   "pygments_lexer": "ipython3",
   "version": "3.11.5"
  }
 },
 "nbformat": 4,
 "nbformat_minor": 5
}
