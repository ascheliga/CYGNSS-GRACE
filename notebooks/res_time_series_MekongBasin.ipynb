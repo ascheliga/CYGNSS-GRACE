{
 "cells": [
  {
   "cell_type": "markdown",
   "id": "understood-friday",
   "metadata": {},
   "source": [
    "# Time series plotting around reservoirs\n",
    "\n",
    "## To-dos"
   ]
  },
  {
   "cell_type": "code",
   "execution_count": null,
   "id": "brutal-improvement",
   "metadata": {},
   "outputs": [],
   "source": [
    "func_dir = '/global/home/users/ann_scheliga/CYGNSS-GRACE/codebase/'"
   ]
  },
  {
   "cell_type": "code",
   "execution_count": null,
   "id": "neural-alexander",
   "metadata": {},
   "outputs": [],
   "source": [
    "import pandas as pd\n",
    "import numpy as np\n",
    "import geopandas as gpd\n",
    "import xarray as xr\n",
    "import matplotlib.pyplot as plt\n",
    "\n",
    "\n",
    "import codebase"
   ]
  },
  {
   "cell_type": "code",
   "execution_count": null,
   "id": "corrected-hearing",
   "metadata": {},
   "outputs": [],
   "source": [
    "grace_dict = codebase.load_data.load_GRACE()\n",
    "res_shp = codebase.load_data.load_GRanD()"
   ]
  },
  {
   "cell_type": "code",
   "execution_count": null,
   "id": "excited-speaker",
   "metadata": {
    "tags": []
   },
   "outputs": [],
   "source": [
    "def single_timeseries_CYGNSS_GRACE(dam_name,**plot_params):\n",
    "    \"\"\"\n",
    "    Description\n",
    "    -----------\n",
    "    Hard-coded time series slicing for CYGNSS to start two months after the intersecting_timeframes() start date\n",
    "    \n",
    "    Inputs\n",
    "    ------\n",
    "    dam_name: name of a dam in the GRanD reservoir dataset\n",
    "    subset_method : str\n",
    "        default : 'polygon'\n",
    "        accepted : 'polygon' , 'point'\n",
    "        allows for updated polygon or older point-based subsetting\n",
    "    **plot_params : dict\n",
    "        dictionary of plot formatting options and labels\n",
    "            Keys used: None, all passed to `three_part_timeseries`\n",
    "\n",
    "    Outputs\n",
    "    -------\n",
    "    precip , fw , cmwe : Pandas Series\n",
    "        Series used for plotting\n",
    "        Respectively, precipitation, fractional water, TWS\n",
    "    \"\"\"\n",
    "    global grace_dict, res_shp\n",
    "    \n",
    "    subset_gpd = codebase.area_subsets.check_for_multiple_dams(dam_name,res_shp)\n",
    "\n",
    "    subset_bbox = subset_gpd.geometry.buffer(0).bounds\n",
    "    fw_DA = codebase.load_data.load_CYGNSS_001_all_months(subset_bbox)\n",
    "    fw_multi , fw_full = codebase.area_subsets.cygnss_shape_subset(\n",
    "                         subset_gpd,\n",
    "                         fw_DA,\n",
    "                         buffer_val=0.1,\n",
    "                         crs_code=4326)\n",
    "    fw_binary = codebase.area_calcs.cygnss_convert_to_binary(fw_multi)\n",
    "    fw_num = codebase.area_calcs.CYGNSS_001_areal_average(fw_binary)\n",
    "    fw_full = pd.Series(data=fw_num, index=fw_full.index)\n",
    "\n",
    "    cmwe_multi , mascon_ts , cmwe_full = codebase.area_subsets.grace_shape_subset(\n",
    "                            subset_gpd,\n",
    "                            grace_dict,\n",
    "                            buffer_val=1)\n",
    "    print(mascon_ts)\n",
    "\n",
    "    fw , cmwe = codebase.time_series_calcs.intersecting_timeframes(fw_full,cmwe_full,buffer=0)\n",
    "    fw = fw[2:]\n",
    "    \n",
    "    plot_params['data_labels'] = ['CYGNSS','GRACE-FO','']\n",
    "    plot_params['x_label'] = 'Time'\n",
    "    plot_params['y_labels'] = ['Fraction of surface water coverage', 'TWS water equivalence (cm)','']\n",
    "    plot_params['line_fmt'] = ['b-','k-','k-']\n",
    "    plot_params['figsize'] = (15,6)\n",
    "    plot_params['grid'] = True\n",
    "    plot_params['x_ticks'] = 'yearly'\n",
    "\n",
    "    plt.rc('font', size=20)\n",
    "    plt.rcParams['lines.linewidth'] = 2.5  \n",
    "    codebase.plotting_functions.three_part_timeseries([fw , cmwe],**plot_params)\n",
    "\n",
    "    return fw , cmwe"
   ]
  },
  {
   "cell_type": "markdown",
   "id": "harmful-theology",
   "metadata": {},
   "source": [
    "## Individual reservoirs"
   ]
  },
  {
   "cell_type": "code",
   "execution_count": null,
   "id": "statewide-pharmaceutical",
   "metadata": {},
   "outputs": [],
   "source": [
    "res_oi = 'Xiaowan'\n",
    "plot_params = {\n",
    "    'title' : res_oi\n",
    "}\n",
    "xiaowan_fw_series , xiaowan_cmwe_series = single_timeseries_CYGNSS_GRACE(\n",
    "    res_oi,\n",
    "    **plot_params)"
   ]
  },
  {
   "cell_type": "code",
   "execution_count": null,
   "id": "severe-address",
   "metadata": {},
   "outputs": [],
   "source": [
    "res_oi = 'Nuozhadu'\n",
    "plot_params = {\n",
    "    'title' : res_oi\n",
    "}\n",
    "nuozhadu_fw_series , nuozhadu_cmwe_series = single_timeseries_CYGNSS_GRACE(\n",
    "    res_oi,\n",
    "    **plot_params)"
   ]
  },
  {
   "cell_type": "markdown",
   "id": "acoustic-savings",
   "metadata": {},
   "source": [
    "## Surface water"
   ]
  },
  {
   "cell_type": "code",
   "execution_count": null,
   "id": "metric-german",
   "metadata": {},
   "outputs": [],
   "source": [
    "fig, axs = plt.subplots()\n",
    "\n",
    "axs.plot(xiaowan_cmwe_series, 'k')\n",
    "axs.plot(nuozhadu_cmwe_series , 'b')"
   ]
  },
  {
   "cell_type": "markdown",
   "id": "coupled-owner",
   "metadata": {},
   "source": [
    "## Older time series metrics from TSM class objects"
   ]
  },
  {
   "cell_type": "code",
   "execution_count": null,
   "id": "passive-october",
   "metadata": {},
   "outputs": [],
   "source": [
    "def series_to_TSM_object(input_series,*TSM_args,**TSM_kwargs):\n",
    "    series_obj = input_series.astype(float)\n",
    "    series_obj.index = list(map(codebase.time_series_calcs.toYearFraction,series_obj.index))\n",
    "    TSM_obj = codebase.time_series_calcs.TimeSeriesMetrics(series_obj,*TSM_args,**TSM_kwargs)\n",
    "    return TSM_obj"
   ]
  },
  {
   "cell_type": "code",
   "execution_count": null,
   "id": "labeled-legislature",
   "metadata": {},
   "outputs": [],
   "source": [
    "def quick_quad_xcorr_figure(input3TSMs,**plot_params):\n",
    "    fig , axs = plt.subplots(2,2,figsize=(16,16))\n",
    "    \n",
    "    #Seasonality plot\n",
    "    input3TSMs[0].plot_seasonality(axs[0,0],color='k',label='GRACE-FO')\n",
    "    input3TSMs[1].plot_seasonality(axs[0,0],color='b',label='CYGNSS')\n",
    "#     input3TSMs[2].plot_seasonality(axs[0,0],color='c',label='IMERG')\n",
    "    axs[0,0].set_ylabel('Normalized seasonality')\n",
    "    \n",
    "    short_axs_names = [tick.get_text()[:1] for tick in axs[0,0].get_xticklabels()]\n",
    "    axs[0,0].set_xticklabels(short_axs_names)\n",
    "    axs[0,0].set_ylim([-1.9,1.8])\n",
    "    axs[0,0].grid()\n",
    "    axs[0,0].legend(loc='upper center');\n",
    "    \n",
    "    #Anomalies plot\n",
    "    input3TSMs[0].plot_anomalies(axs[0,1],color='k',label='GRACE-FO')\n",
    "    input3TSMs[1].plot_anomalies(axs[0,1],color='b',label='CYGNSS')\n",
    "#     input3TSMs[2].plot_anomalies(axs[0,1],color='c',label='IMERG')\n",
    "    axs[0,1].set_ylabel('Normalized anomalies')\n",
    "    axs[0,1].set_xticklabels(axs[0,1].get_xticklabels())\n",
    "    axs[0,1].set_ylim([-2.2,3.2])\n",
    "    axs[0,1].grid()\n",
    "    axs[0,1].legend(loc='upper center');\n",
    "    \n",
    "    #Seasonality xcorr\n",
    "    lag_x , lag_y = input3TSMs[1].cross_corr(input3TSMs[0],axs[1,0],ts_type='season',plot_on=False);\n",
    "    axs[1,0].grid()\n",
    "    axs[1,0].set_xticks(np.arange(-10,11,2))\n",
    "    axs[1,0].set_ylabel('Linear correlation')\n",
    "    axs[1,0].set_xlabel('Time lag (months)')\n",
    "    \n",
    "    #Anomalies xcorr\n",
    "    lag_x , lag_y = input3TSMs[1].cross_corr(input3TSMs[0],axs[1,1],plot_on=False)\n",
    "    axs[1,1].grid()\n",
    "    axs[1,1].set_xticks(np.arange(-10,11,2))\n",
    "    axs[1,1].set_ylabel('Linear correlation')\n",
    "    axs[1,1].set_xlabel('Time lag (months)')\n",
    "    \n",
    "    plt.show()\n",
    "# quick_quad_xcorr_figure([cmwe_ts,fw_ts,precip_ts])"
   ]
  },
  {
   "cell_type": "code",
   "execution_count": null,
   "id": "lyric-delivery",
   "metadata": {},
   "outputs": [],
   "source": [
    "def series_to_xcorr_fig(fw_series,cmwe_series):\n",
    "    fw_ts = series_to_TSM_object(fw_series,'CYGNSS',remove_seasonality=True,zero_start=False,start_month=10)\n",
    "    cmwe_ts = series_to_TSM_object(cmwe_series,'GRACE-FO',remove_seasonality=True,zero_start=False,start_month=10)\n",
    "    quick_quad_xcorr_figure([cmwe_ts,fw_ts])"
   ]
  },
  {
   "cell_type": "code",
   "execution_count": null,
   "id": "reasonable-broadway",
   "metadata": {
    "scrolled": true,
    "tags": []
   },
   "outputs": [],
   "source": [
    "series_to_xcorr_fig(xiaowan_fw_series,xiaowan_cmwe_series)"
   ]
  },
  {
   "cell_type": "code",
   "execution_count": null,
   "id": "romance-leather",
   "metadata": {
    "tags": []
   },
   "outputs": [],
   "source": [
    "series_to_xcorr_fig(nuozhadu_fw_series,nuozhadu_cmwe_series)"
   ]
  },
  {
   "cell_type": "code",
   "execution_count": null,
   "id": "static-corporation",
   "metadata": {},
   "outputs": [],
   "source": [
    "shifted_fw_ts = codebase.time_series_calcs.normalize(pd.DataFrame(data = fw_ts.ts_detrend.values[:-7], index = fw_ts.ts_detrend.index[7:]))"
   ]
  },
  {
   "cell_type": "code",
   "execution_count": null,
   "id": "higher-essence",
   "metadata": {},
   "outputs": [],
   "source": [
    "fig , ax = plt.subplots()\n",
    "cmwe_ts.plot_anomalies(ax,color='k',label='GRACE')\n",
    "ax.plot(shifted_fw_ts,color='b',label='CYGNSS')\n",
    "ax.legend();\n",
    "ax.grid()\n",
    "ax.set_xlabel('GRACE timestep')\n",
    "ax.set_ylabel('Normalized anomalies')\n",
    "# ax.set_title('Shifted (-7 months) CYGNSS anomalies \\ to max correlation with GRACE');"
   ]
  },
  {
   "cell_type": "code",
   "execution_count": null,
   "id": "miniature-preliminary",
   "metadata": {},
   "outputs": [],
   "source": [
    "# Goal plot anomalies with time lag applied\n",
    "fig , ax = plt.subplots()\n",
    "fw_ts.plot_anomalies(ax,color='b',label='CYGNSS')"
   ]
  },
  {
   "cell_type": "code",
   "execution_count": null,
   "id": "seven-lexington",
   "metadata": {},
   "outputs": [],
   "source": [
    "fig , ax = plt.subplots()\n",
    "cmwe_ts.plot_seasonality(ax,color='k',label='GRACE')\n",
    "fw_ts.plot_seasonality(ax,color='b',label='CYGNSS')\n",
    "precip_ts.plot_seasonality(ax,color='c',label='IMERG')\n",
    "ax.set_ylabel('Normalized seasonality')\n",
    "ax.set_xticklabels(ax.get_xticklabels(),rotation=-90)\n",
    "ax.grid()\n",
    "ax.legend();"
   ]
  },
  {
   "cell_type": "code",
   "execution_count": null,
   "id": "combined-taiwan",
   "metadata": {},
   "outputs": [],
   "source": [
    "print(cmwe_ts.lintrend_metrics)\n",
    "fig , ax = plt.subplots()\n",
    "cmwe_ts.plot_anomalies(ax,color='k',label='GRACE')\n",
    "fw_ts.plot_anomalies(ax,color='b',label='CYGNSS')\n",
    "precip_ts.plot_anomalies(ax,color='c',label='IMERG')\n",
    "ax.legend();\n",
    "ax.grid()"
   ]
  },
  {
   "cell_type": "code",
   "execution_count": null,
   "id": "confidential-appraisal",
   "metadata": {},
   "outputs": [],
   "source": [
    "fig , ax = plt.subplots()\n",
    "lag_x , lag_y = cmwe_ts.cross_corr(precip_ts,ax,ts_type='season',plot_on=True)\n",
    "lag_x , lag_y = fw_ts.cross_corr(cmwe_ts,ax,ts_type='season',plot_on=True);\n",
    "lag_x , lag_y = fw_ts.cross_corr(precip_ts,ax,ts_type='season',plot_on=True)"
   ]
  },
  {
   "cell_type": "code",
   "execution_count": null,
   "id": "armed-happiness",
   "metadata": {},
   "outputs": [],
   "source": [
    "lag_x , lag_y = cmwe_ts.cross_corr(precip_ts,plot_on=True)\n",
    "lag_x , lag_y = fw_ts.cross_corr(cmwe_ts,plot_on=True)\n",
    "lag_x , lag_y = fw_ts.cross_corr(precip_ts,plot_on=True)"
   ]
  },
  {
   "cell_type": "markdown",
   "id": "proved-render",
   "metadata": {},
   "source": [
    "## Overview Map"
   ]
  },
  {
   "cell_type": "code",
   "execution_count": null,
   "id": "ahead-hawaii",
   "metadata": {},
   "outputs": [],
   "source": [
    "basin_res = res_shp.loc[res_shp['MAIN_BASIN']=='Mekong',['RES_NAME','DAM_NAME','RIVER','ADMIN_UNIT','CAP_MCM','AREA_SKM','MAIN_USE','geometry']]\n",
    "basin_res.explore(height=500,width=450,popup='DAM_NAME',column='CAP_MCM',cmap='winter_r',\n",
    "                legend = False,scheme='NaturalBreaks')"
   ]
  },
  {
   "cell_type": "markdown",
   "id": "capable-federal",
   "metadata": {},
   "source": [
    "## Scratchwork"
   ]
  },
  {
   "cell_type": "code",
   "execution_count": null,
   "id": "assigned-preference",
   "metadata": {},
   "outputs": [],
   "source": [
    "grace_dict['mascon']"
   ]
  }
 ],
 "metadata": {
  "kernelspec": {
   "display_name": "rioxarray_kernel",
   "language": "python",
   "name": "rioxarray_kernel"
  },
  "language_info": {
   "codemirror_mode": {
    "name": "ipython",
    "version": 3
   },
   "file_extension": ".py",
   "mimetype": "text/x-python",
   "name": "python",
   "nbconvert_exporter": "python",
   "pygments_lexer": "ipython3",
   "version": "3.11.5"
  }
 },
 "nbformat": 4,
 "nbformat_minor": 5
}
