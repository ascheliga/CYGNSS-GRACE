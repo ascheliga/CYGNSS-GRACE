{
 "cells": [
  {
   "cell_type": "markdown",
   "id": "78c21bb9-51bc-430d-a13a-c2e1112d1193",
   "metadata": {},
   "source": [
    "source url: https://cds.climate.copernicus.eu/datasets/insitu-gridded-observations-global-and-regional?tab=download"
   ]
  },
  {
   "cell_type": "code",
   "execution_count": 1,
   "id": "0f4a1249-4719-4b46-ad23-e4891e4d2f51",
   "metadata": {},
   "outputs": [],
   "source": [
    "import cdsapi"
   ]
  },
  {
   "cell_type": "code",
   "execution_count": 3,
   "id": "9c669acf-b1b0-493a-bb50-cbd11b7ce9a4",
   "metadata": {},
   "outputs": [
    {
     "name": "stderr",
     "output_type": "stream",
     "text": [
      "2024-11-25 18:48:38,862 INFO [2024-09-28T00:00:00] **Welcome to the New Climate Data Store (CDS)!** This new system is in its early days of full operations and still undergoing enhancements and fine tuning. Some disruptions are to be expected. Your \n",
      "[feedback](https://jira.ecmwf.int/plugins/servlet/desk/portal/1/create/202) is key to improve the user experience on the new CDS for the benefit of everyone. Thank you.\n",
      "2024-11-25 18:48:38,862 INFO [2024-09-26T00:00:00] Watch our [Forum](https://forum.ecmwf.int/) for Announcements, news and other discussed topics.\n",
      "2024-11-25 18:48:38,863 INFO [2024-09-16T00:00:00] Remember that you need to have an ECMWF account to use the new CDS. **Your old CDS credentials will not work in new CDS!**\n",
      "2024-11-25 18:48:38,863 WARNING [2024-06-16T00:00:00] CDS API syntax is changed and some keys or parameter names may have also changed. To avoid requests failing, please use the \"Show API request code\" tool on the dataset Download Form to check you are using the correct syntax for your API request.\n",
      "2024-11-25 18:48:39,295 INFO Request ID is 4a587e96-e85b-4ca6-9933-98e8b98fa716\n",
      "2024-11-25 18:48:39,496 INFO status has been updated to accepted\n",
      "2024-11-25 18:48:42,351 INFO status has been updated to running\n",
      "2024-11-25 18:50:35,229 INFO status has been updated to successful\n",
      "                                                                                          \r"
     ]
    },
    {
     "data": {
      "text/plain": [
       "'17cef42a78f1b802ed901d534c3447ff.zip'"
      ]
     },
     "execution_count": 3,
     "metadata": {},
     "output_type": "execute_result"
    }
   ],
   "source": [
    "import cdsapi\n",
    "\n",
    "dataset = \"insitu-gridded-observations-global-and-regional\"\n",
    "request = {\n",
    "    \"origin\": \"gpcc\",\n",
    "    \"region\": \"global\",\n",
    "    \"variable\": [\n",
    "        \"temperature_anomaly\",\n",
    "        \"precipitation\"\n",
    "    ],\n",
    "    \"statistic\": [\"mean\"],\n",
    "    \"time_aggregation\": \"daily\",\n",
    "    \"horizontal_aggregation\": [\"1_x_1\"],\n",
    "    \"year\": [\n",
    "        \"2009\", \"2010\", \"2011\",\n",
    "        \"2012\", \"2013\", \"2014\",\n",
    "        \"2015\", \"2016\", \"2017\",\n",
    "        \"2018\"\n",
    "    ],\n",
    "    \"version\": [\"v2020_0_v6_0_fg\"]\n",
    "}\n",
    "\n",
    "client = cdsapi.Client()\n",
    "client.retrieve(dataset, request).download()"
   ]
  },
  {
   "cell_type": "code",
   "execution_count": 5,
   "id": "511d5737-c242-4338-81f6-5872f02994a8",
   "metadata": {},
   "outputs": [
    {
     "name": "stderr",
     "output_type": "stream",
     "text": [
      "2024-11-25 19:40:31,720 INFO [2024-09-28T00:00:00] **Welcome to the New Climate Data Store (CDS)!** This new system is in its early days of full operations and still undergoing enhancements and fine tuning. Some disruptions are to be expected. Your \n",
      "[feedback](https://jira.ecmwf.int/plugins/servlet/desk/portal/1/create/202) is key to improve the user experience on the new CDS for the benefit of everyone. Thank you.\n",
      "2024-11-25 19:40:31,721 INFO [2024-09-26T00:00:00] Watch our [Forum](https://forum.ecmwf.int/) for Announcements, news and other discussed topics.\n",
      "2024-11-25 19:40:31,721 INFO [2024-09-16T00:00:00] Remember that you need to have an ECMWF account to use the new CDS. **Your old CDS credentials will not work in new CDS!**\n",
      "2024-11-25 19:40:31,721 WARNING [2024-06-16T00:00:00] CDS API syntax is changed and some keys or parameter names may have also changed. To avoid requests failing, please use the \"Show API request code\" tool on the dataset Download Form to check you are using the correct syntax for your API request.\n",
      "2024-11-25 19:40:32,260 INFO Request ID is 78c0e2e7-663b-446a-965d-c230cd8cc466\n",
      "2024-11-25 19:40:32,503 INFO status has been updated to accepted\n",
      "2024-11-25 19:50:54,806 INFO status has been updated to successful\n",
      "                                                                                          \r"
     ]
    },
    {
     "data": {
      "text/plain": [
       "'7d20eebadc7648425ff76983737cf2e9.zip'"
      ]
     },
     "execution_count": 5,
     "metadata": {},
     "output_type": "execute_result"
    }
   ],
   "source": [
    "dataset = \"insitu-gridded-observations-global-and-regional\"\n",
    "request = {\n",
    "    \"origin\": \"cru\",\n",
    "    \"region\": \"global\",\n",
    "    \"variable\": [\"temperature\"],\n",
    "    \"statistic\": [\"mean\"],\n",
    "    \"time_aggregation\": \"monthly\",\n",
    "    \"horizontal_aggregation\": [\"1_x_1\"],\n",
    "    \"year\": [\n",
    "        \"2018\", \"2019\", \"2020\",\n",
    "        \"2021\"\n",
    "    ],\n",
    "    \"version\": [\"v4_03\"]\n",
    "}\n",
    "\n",
    "client = cdsapi.Client()\n",
    "client.retrieve(dataset, request).download()"
   ]
  },
  {
   "cell_type": "code",
   "execution_count": null,
   "id": "9877c1da-5ff3-402e-b415-5c7bb61c156d",
   "metadata": {},
   "outputs": [],
   "source": []
  }
 ],
 "metadata": {
  "kernelspec": {
   "display_name": "rio_keras",
   "language": "python",
   "name": "rio_keras"
  },
  "language_info": {
   "codemirror_mode": {
    "name": "ipython",
    "version": 3
   },
   "file_extension": ".py",
   "mimetype": "text/x-python",
   "name": "python",
   "nbconvert_exporter": "python",
   "pygments_lexer": "ipython3",
   "version": "3.11.5"
  }
 },
 "nbformat": 4,
 "nbformat_minor": 5
}
