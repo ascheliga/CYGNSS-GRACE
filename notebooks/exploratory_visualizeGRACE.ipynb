{
 "cells": [
  {
   "cell_type": "markdown",
   "id": "center-walnut",
   "metadata": {},
   "source": [
    "# Initial visualization of GRACE mascons\n",
    "## Dataset\n",
    "GSFC mascons: [data](https://earth.gsfc.nasa.gov/geo/data/grace-mascons), [documentation](https://earth.gsfc.nasa.gov/sites/default/files/2022-05/gsfc_mascons_hdf5_format_rl06v2.pdf)\n",
    "\n",
    "## Environments and packages\n",
    "\n",
    "\n",
    "## to-do's\n",
    "- [x] copy over updated function\n",
    "- [x] switch longitude from 0 - 360 to -180 - 180\n",
    "- [x] mascon_df to gdf"
   ]
  },
  {
   "cell_type": "markdown",
   "id": "hybrid-appointment",
   "metadata": {},
   "source": [
    "## Load packages and filenames"
   ]
  },
  {
   "cell_type": "code",
   "execution_count": 1,
   "id": "rocky-disability",
   "metadata": {},
   "outputs": [],
   "source": [
    "grace_filename = 'gsfc.glb_.200204_202211_rl06v2.0_obp-ice6gd.h5'\n",
    "grace_filepath = '/global/scratch/users/ann_scheliga/'\n",
    "func_dir = '/global/home/users/ann_scheliga/CYGNSS-GRACE/codebase/'"
   ]
  },
  {
   "cell_type": "code",
   "execution_count": 2,
   "id": "frozen-studio",
   "metadata": {},
   "outputs": [],
   "source": [
    "import numpy as np\n",
    "import pandas as pd\n",
    "import geopandas as gpd\n",
    "import h5py\n",
    "import sys\n",
    "sys.path.append(func_dir)\n",
    "import load_data\n",
    "# grace_dict = load_data.load_GRACE()"
   ]
  },
  {
   "cell_type": "markdown",
   "id": "miniature-stephen",
   "metadata": {},
   "source": [
    "## Load GRACE from scratch\n",
    "Building blocks and testbed for load_data.py function `load_GRACE()`"
   ]
  },
  {
   "cell_type": "code",
   "execution_count": 3,
   "id": "italic-stamp",
   "metadata": {},
   "outputs": [],
   "source": [
    "import numpy as np\n",
    "import pandas as pd\n",
    "import h5py\n",
    "import geopandas as gpd\n",
    "from shapely.geometry import Polygon\n",
    "\n",
    "f = h5py.File(grace_filepath + grace_filename,'r')\n",
    "grace_dict = dict()\n",
    "\n",
    "land_subset = True\n",
    "uncertainty = False\n",
    "formatting = True"
   ]
  },
  {
   "cell_type": "markdown",
   "id": "asian-camping",
   "metadata": {},
   "source": [
    "### MASCONS"
   ]
  },
  {
   "cell_type": "code",
   "execution_count": null,
   "id": "medium-adventure",
   "metadata": {},
   "outputs": [],
   "source": [
    "# MASCONS #\n",
    "mascon_cols = list(f['mascon'])       # grab dataset names in mascon group\n",
    "mascon_cols.remove('location_legend') # remove unused dataset name\n",
    "mascon_df = pd.DataFrame()            # create empty pd.DataFrame\n",
    "for key in mascon_cols:               # fill df\n",
    "    mascon_df[key] = np.array(f['mascon'][key]).T.squeeze()\n",
    "# Convert longitude from [0 to 360] to (-180 to 180]\n",
    "mascon_df.loc[mascon_df['lon_center'] >180,'lon_center'] = mascon_df.loc[mascon_df['lon_center'] >180,'lon_center'] - 360\n",
    "if land_subset:\n",
    "    land_bool = mascon_df['location'] == 80\n",
    "    mascon_df = mascon_df.loc[land_bool,:]\n",
    "if formatting:\n",
    "    mascon_df.index = mascon_df['labels'].astype(int)"
   ]
  },
  {
   "cell_type": "code",
   "execution_count": null,
   "id": "impossible-toolbox",
   "metadata": {},
   "outputs": [],
   "source": [
    "# Convert from lat/lon coordinates to polygons then to GeoDataFrame\n",
    "coord_corners = pd.DataFrame(columns = ['NE','SE','SW','NW','close'])\n",
    "min_lon = mascon_df['lon_center'] - mascon_df['lon_span']/2\n",
    "min_lat = mascon_df['lat_center'] - mascon_df['lat_span']/2\n",
    "max_lon = mascon_df['lon_center'] + mascon_df['lon_span']/2\n",
    "max_lat = mascon_df['lat_center'] + mascon_df['lat_span']/2\n",
    "coord_corners['NE'] = list(zip(max_lon , max_lat))\n",
    "coord_corners['SE'] = list(zip(max_lon , min_lat))\n",
    "coord_corners['SW'] = list(zip(min_lon , min_lat))\n",
    "coord_corners['NW'] = list(zip(min_lon , max_lat))\n",
    "coord_corners['close'] = coord_corners['NE']\n",
    "\n",
    "coord_geom = coord_corners.apply(Polygon,axis=1)\n",
    "\n",
    "mascon_gdf = gpd.GeoDataFrame(data=mascon_df,geometry=coord_geom.values,crs=\"EPSG:4326\")\n",
    "grace_dict['mascon'] = mascon_gdf"
   ]
  },
  {
   "cell_type": "markdown",
   "id": "periodic-complex",
   "metadata": {},
   "source": [
    "### DATES"
   ]
  },
  {
   "cell_type": "code",
   "execution_count": null,
   "id": "passing-prison",
   "metadata": {},
   "outputs": [],
   "source": [
    "# DATES #\n",
    "# REFERENCE DATE (aka 2002 Jan 0)\n",
    "start_date = pd.Timestamp('2001-12-31')\n",
    "time_cols = list(f['time'])                # grab dataset names in time group\n",
    "time_cols.remove('list_ref_days_solution') # remove unused dataset name\n",
    "time_df = pd.DataFrame()                   # create empty pd.DataFrame for reference dates\n",
    "for key in time_cols[2:-1]:                # fill df with days since reference day\n",
    "    time_df[key] = np.array(f['time'][key]).T.squeeze()\n",
    "date_df = time_df.apply(lambda x: pd.to_datetime(x, unit='D',origin=start_date),axis=1)\n",
    "date_df.columns = ['date_first','date_last','date_middle']\n",
    "date_df[['year_middle','doy_middle','frac_year_middle']] = pd.DataFrame(f['time']['yyyy_doy_yrplot_middle']).T\n",
    "grace_dict['date'] = date_df"
   ]
  },
  {
   "cell_type": "markdown",
   "id": "focal-drilling",
   "metadata": {},
   "source": [
    "### CMWE SOLUTIONS"
   ]
  },
  {
   "cell_type": "code",
   "execution_count": null,
   "id": "developed-curve",
   "metadata": {},
   "outputs": [],
   "source": [
    "# CMWE SOLUTIONS #\n",
    "cmwe = pd.DataFrame(f['solution']['cmwe'])\n",
    "if land_subset:\n",
    "    cmwe = cmwe.loc[land_bool,:]\n",
    "if formatting:\n",
    "    cmwe.columns = date_df['date_middle']\n",
    "    cmwe.index = mascon_df['labels'].astype(int)\n",
    "grace_dict['cmwe'] = cmwe"
   ]
  },
  {
   "cell_type": "markdown",
   "id": "reported-parks",
   "metadata": {},
   "source": [
    "### SOLUTION UNCERTAINTIES"
   ]
  },
  {
   "cell_type": "code",
   "execution_count": null,
   "id": "senior-strike",
   "metadata": {},
   "outputs": [],
   "source": [
    "# UNCERTAINTY #\n",
    "if uncertainty:\n",
    "    uncertainty_cols = list(f['uncertainty'])\n",
    "    uncertainty_df = pd.DataFrame()\n",
    "    for key in uncertainty_cols[:-1]:\n",
    "        uncertainty_df[key] = np.array(f['uncertainty'][key]).T.squeeze()\n",
    "    noise_df = pd.DataFrame(f['uncertainty']['noise_2sigma'])\n",
    "    uncertainty_df = pd.concat([uncertainty_df, noise_df],axis=1)\n",
    "    if land_subset:\n",
    "        uncertainty_df = uncertainty_df.loc[land_bool,:]\n",
    "    if formatting:\n",
    "        mascon_df.index = mascon_df['labels'].astype(int)\n",
    "    grace_dict['uncertainty'] = uncertainty_df"
   ]
  },
  {
   "cell_type": "markdown",
   "id": "golden-opposition",
   "metadata": {},
   "source": [
    "## Scratch work and loose ends"
   ]
  },
  {
   "cell_type": "code",
   "execution_count": null,
   "id": "impressive-grant",
   "metadata": {},
   "outputs": [],
   "source": []
  }
 ],
 "metadata": {
  "kernelspec": {
   "display_name": "rioxarray_kernel",
   "language": "python",
   "name": "rioxarray_kernel"
  },
  "language_info": {
   "codemirror_mode": {
    "name": "ipython",
    "version": 3
   },
   "file_extension": ".py",
   "mimetype": "text/x-python",
   "name": "python",
   "nbconvert_exporter": "python",
   "pygments_lexer": "ipython3",
   "version": "3.11.5"
  }
 },
 "nbformat": 4,
 "nbformat_minor": 5
}
