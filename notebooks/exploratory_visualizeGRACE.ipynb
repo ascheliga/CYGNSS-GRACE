{
 "cells": [
  {
   "cell_type": "markdown",
   "id": "d349395e",
   "metadata": {},
   "source": [
    "# Initial visualization of GRACE mascons\n",
    "## Dataset\n",
    "GSFC mascons: [data](https://earth.gsfc.nasa.gov/geo/data/grace-mascons), [documentation](https://earth.gsfc.nasa.gov/sites/default/files/2022-05/gsfc_mascons_hdf5_format_rl06v2.pdf)\n",
    "\n",
    "## Environments and packages\n"
   ]
  },
  {
   "cell_type": "code",
   "execution_count": 5,
   "id": "048d2a7c",
   "metadata": {},
   "outputs": [],
   "source": [
    "grace_filename = 'gsfc.glb_.200204_202211_rl06v2.0_obp-ice6gd.h5'\n",
    "grace_filepath = '/global/scratch/users/ann_scheliga/'\n",
    "func_dir = '/global/home/users/ann_scheliga/CYGNSS-GRACE/codebase/'"
   ]
  },
  {
   "cell_type": "code",
   "execution_count": 6,
   "id": "39194989",
   "metadata": {},
   "outputs": [],
   "source": [
    "import numpy as np\n",
    "import pandas as pd\n",
    "import h5py\n",
    "import sys\n",
    "sys.path.append(func_dir)\n",
    "import load_data\n",
    "grace_dict = load_data.load_GRACE()"
   ]
  },
  {
   "cell_type": "code",
   "execution_count": null,
   "id": "57e7d84a",
   "metadata": {},
   "outputs": [],
   "source": [
    "\n",
    "import numpy as np\n",
    "import pandas as pd\n",
    "import h5py\n",
    "f = h5py.File(grace_filepath + grace_filename,'r')\n",
    "grace_dict = dict()\n",
    "\n",
    "land_subset = True\n",
    "uncertainty = False\n",
    "formatting = True"
   ]
  },
  {
   "cell_type": "code",
   "execution_count": 8,
   "id": "6e58da8f",
   "metadata": {},
   "outputs": [
    {
     "ename": "NameError",
     "evalue": "name 'f' is not defined",
     "output_type": "error",
     "traceback": [
      "\u001b[0;31m---------------------------------------------------------------------------\u001b[0m",
      "\u001b[0;31mNameError\u001b[0m                                 Traceback (most recent call last)",
      "\u001b[0;32m<ipython-input-8-a66bba0c4171>\u001b[0m in \u001b[0;36m<module>\u001b[0;34m\u001b[0m\n\u001b[1;32m      1\u001b[0m \u001b[0;31m# (works) mascon metadata\u001b[0m\u001b[0;34m\u001b[0m\u001b[0;34m\u001b[0m\u001b[0;34m\u001b[0m\u001b[0m\n\u001b[0;32m----> 2\u001b[0;31m \u001b[0mmascon_cols\u001b[0m \u001b[0;34m=\u001b[0m \u001b[0mlist\u001b[0m\u001b[0;34m(\u001b[0m\u001b[0mf\u001b[0m\u001b[0;34m[\u001b[0m\u001b[0;34m'mascon'\u001b[0m\u001b[0;34m]\u001b[0m\u001b[0;34m)\u001b[0m       \u001b[0;31m# grab dataset names in mascon group\u001b[0m\u001b[0;34m\u001b[0m\u001b[0;34m\u001b[0m\u001b[0m\n\u001b[0m\u001b[1;32m      3\u001b[0m \u001b[0mmascon_cols\u001b[0m\u001b[0;34m.\u001b[0m\u001b[0mremove\u001b[0m\u001b[0;34m(\u001b[0m\u001b[0;34m'location_legend'\u001b[0m\u001b[0;34m)\u001b[0m \u001b[0;31m# remove unused dataset name\u001b[0m\u001b[0;34m\u001b[0m\u001b[0;34m\u001b[0m\u001b[0m\n\u001b[1;32m      4\u001b[0m \u001b[0mmascon_df\u001b[0m \u001b[0;34m=\u001b[0m \u001b[0mpd\u001b[0m\u001b[0;34m.\u001b[0m\u001b[0mDataFrame\u001b[0m\u001b[0;34m(\u001b[0m\u001b[0;34m)\u001b[0m            \u001b[0;31m# create empty pd.DataFrame\u001b[0m\u001b[0;34m\u001b[0m\u001b[0;34m\u001b[0m\u001b[0m\n\u001b[1;32m      5\u001b[0m \u001b[0;32mfor\u001b[0m \u001b[0mkey\u001b[0m \u001b[0;32min\u001b[0m \u001b[0mmascon_cols\u001b[0m\u001b[0;34m:\u001b[0m               \u001b[0;31m# fill df\u001b[0m\u001b[0;34m\u001b[0m\u001b[0;34m\u001b[0m\u001b[0m\n",
      "\u001b[0;31mNameError\u001b[0m: name 'f' is not defined"
     ]
    }
   ],
   "source": [
    "# MASCONS #\n",
    "mascon_cols = list(f['mascon'])       # grab dataset names in mascon group\n",
    "mascon_cols.remove('location_legend') # remove unused dataset name\n",
    "mascon_df = pd.DataFrame()            # create empty pd.DataFrame\n",
    "for key in mascon_cols:               # fill df\n",
    "    mascon_df[key] = np.array(f['mascon'][key]).T.squeeze()\n",
    "if land_subset:\n",
    "    land_bool = mascon_df['location'] == 80\n",
    "    mascon_df = mascon_df.loc[land_bool,:]\n",
    "if formatting:\n",
    "    mascon_df.index = mascon_df['labels'].astype(int)\n",
    "grace_dict['mascon'] = mascon_df"
   ]
  },
  {
   "cell_type": "code",
   "execution_count": null,
   "id": "bc28b0a1",
   "metadata": {},
   "outputs": [],
   "source": [
    "# DATES #\n",
    "# REFERENCE DATE (aka 2002 Jan 0)\n",
    "start_date = pd.Timestamp('2001-12-31')\n",
    "time_cols = list(f['time'])                # grab dataset names in time group\n",
    "time_cols.remove('list_ref_days_solution') # remove unused dataset name\n",
    "time_df = pd.DataFrame()                   # create empty pd.DataFrame for reference dates\n",
    "for key in time_cols[2:-1]:                # fill df with days since reference day\n",
    "    time_df[key] = np.array(f['time'][key]).T.squeeze()\n",
    "date_df = time_df.apply(lambda x: pd.to_datetime(x, unit='D',origin=start_date),axis=1)\n",
    "date_df.columns = ['date_first','date_last','date_middle']\n",
    "date_df[['year_middle','doy_middle','frac_year_middle']] = pd.DataFrame(f['time']['yyyy_doy_yrplot_middle']).T\n",
    "grace_dict['date'] = date_df"
   ]
  },
  {
   "cell_type": "code",
   "execution_count": null,
   "id": "2ba74c7d",
   "metadata": {},
   "outputs": [],
   "source": [
    "# CMWE SOLUTIONS #\n",
    "cmwe = pd.DataFrame(f['solution']['cmwe'])\n",
    "if land_subset:\n",
    "    cmwe = cmwe.loc[land_bool,:]\n",
    "if formatting:\n",
    "    cmwe.columns = date_df['date_middle']\n",
    "    cmwe.index = mascon_df['labels'].astype(int)\n",
    "grace_dict['cmwe'] = cmwe"
   ]
  },
  {
   "cell_type": "code",
   "execution_count": null,
   "id": "a4ba1fe9",
   "metadata": {},
   "outputs": [],
   "source": [
    "# UNCERTAINTY #\n",
    "if uncertainty:\n",
    "    uncertainty_cols = list(f['uncertainty'])\n",
    "    uncertainty_df = pd.DataFrame()\n",
    "    for key in uncertainty_cols[:-1]:\n",
    "        uncertainty_df[key] = np.array(f['uncertainty'][key]).T.squeeze()\n",
    "    noise_df = pd.DataFrame(f['uncertainty']['noise_2sigma'])\n",
    "    uncertainty_df = pd.concat([uncertainty_df, noise_df],axis=1)\n",
    "    if land_subset:\n",
    "        uncertainty_df = uncertainty_df.loc[land_bool,:]\n",
    "    if formatting:\n",
    "        mascon_df.index = mascon_df['labels'].astype(int)\n",
    "    grace_dict['uncertainty'] = uncertainty_df"
   ]
  },
  {
   "cell_type": "code",
   "execution_count": null,
   "id": "ec72d908",
   "metadata": {},
   "outputs": [],
   "source": [
    "land_bool = mascon_df['location'] == 80\n",
    "uncertainty_df.loc[land_bool,:]"
   ]
  },
  {
   "cell_type": "code",
   "execution_count": null,
   "id": "b58d4819",
   "metadata": {},
   "outputs": [],
   "source": [
    "def land_subset(input):\n",
    "    \n",
    "cmwe"
   ]
  }
 ],
 "metadata": {
  "kernelspec": {
   "display_name": "Python 3.7",
   "language": "python",
   "name": "python3"
  },
  "language_info": {
   "codemirror_mode": {
    "name": "ipython",
    "version": 3
   },
   "file_extension": ".py",
   "mimetype": "text/x-python",
   "name": "python",
   "nbconvert_exporter": "python",
   "pygments_lexer": "ipython3",
   "version": "3.7.4"
  }
 },
 "nbformat": 4,
 "nbformat_minor": 5
}
