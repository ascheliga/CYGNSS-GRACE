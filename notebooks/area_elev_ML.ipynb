{
 "cells": [
  {
   "cell_type": "code",
   "execution_count": 1,
   "id": "1a20b850-2614-44e6-87cd-5447cfa7c776",
   "metadata": {},
   "outputs": [],
   "source": [
    "import numpy as np\n",
    "import pandas as pd\n",
    "import xarray as xr\n",
    "import rioxarray\n",
    "from matplotlib import pyplot as plt\n",
    "import seaborn as sns\n",
    "import codebase"
   ]
  },
  {
   "cell_type": "code",
   "execution_count": 2,
   "id": "d43176da-5d70-4aa1-b0ef-f07b24b087aa",
   "metadata": {},
   "outputs": [],
   "source": [
    "from codebase import volume_pipeline"
   ]
  },
  {
   "cell_type": "code",
   "execution_count": 3,
   "id": "68381fdd-05b6-4972-9916-19a107200423",
   "metadata": {},
   "outputs": [],
   "source": [
    "from sklearn.model_selection import train_test_split\n",
    "from sklearn.linear_model import LinearRegression\n",
    "from sklearn.metrics import mean_squared_error"
   ]
  },
  {
   "cell_type": "code",
   "execution_count": 4,
   "id": "de186e10-710f-4c7f-9770-edb1916277d3",
   "metadata": {},
   "outputs": [],
   "source": [
    "res_name = 'Powell'"
   ]
  },
  {
   "cell_type": "markdown",
   "id": "2411bd7c-c3e7-4dcb-8544-5e683f0edb91",
   "metadata": {},
   "source": [
    "## Load data"
   ]
  },
  {
   "cell_type": "code",
   "execution_count": 5,
   "id": "4207fd20-e8aa-4e45-90a8-77881e3c43b9",
   "metadata": {},
   "outputs": [],
   "source": [
    "# Load reservoir datasets\n",
    "res_shp = codebase.load_data.load_GRanD()\n",
    "res_name_dict = {'Powell':'glen canyon',\n",
    "                 'Mead': 'hoover',\n",
    "                 'Mohave': 'davis bor',\n",
    "                 'Havasu': 'parker'}"
   ]
  },
  {
   "cell_type": "code",
   "execution_count": 6,
   "id": "6e6b8b97-e3a0-482a-a088-b054387a4a06",
   "metadata": {},
   "outputs": [],
   "source": [
    "# Load reference USBR data\n",
    "res_ref = codebase.load_data.load_formatted_usbr_data(res_name,monthly=True)\n",
    "res_ref_elev_ft = res_ref['Lake/Reservoir Elevation [ft]']\n",
    "elev_ref = codebase.utils.convert_from_ft_to_m(res_ref_elev_ft)"
   ]
  },
  {
   "cell_type": "code",
   "execution_count": 7,
   "id": "dc160028-2376-405d-9b7e-4325ca040192",
   "metadata": {},
   "outputs": [],
   "source": [
    "# Load subset CYGNSS reservoir data\n",
    "dem_DA , fw_DA = volume_pipeline.create_aligned_DEM_CYGNSS_subsets(res_name_dict[res_name],res_shp,epsg_code=54017)"
   ]
  },
  {
   "cell_type": "markdown",
   "id": "ccd97e3a-0054-4d9b-acef-12787b296a7b",
   "metadata": {},
   "source": [
    "## Calculate inputs"
   ]
  },
  {
   "cell_type": "code",
   "execution_count": 8,
   "id": "e93f3cfc-105e-4252-8cb8-446dc138b7d7",
   "metadata": {},
   "outputs": [
    {
     "data": {
      "text/html": [
       "<div>\n",
       "<style scoped>\n",
       "    .dataframe tbody tr th:only-of-type {\n",
       "        vertical-align: middle;\n",
       "    }\n",
       "\n",
       "    .dataframe tbody tr th {\n",
       "        vertical-align: top;\n",
       "    }\n",
       "\n",
       "    .dataframe thead th {\n",
       "        text-align: right;\n",
       "    }\n",
       "</style>\n",
       "<table border=\"1\" class=\"dataframe\">\n",
       "  <thead>\n",
       "    <tr style=\"text-align: right;\">\n",
       "      <th></th>\n",
       "      <th>0</th>\n",
       "    </tr>\n",
       "  </thead>\n",
       "  <tbody>\n",
       "    <tr>\n",
       "      <th>2018-08-01</th>\n",
       "      <td>316.816250</td>\n",
       "    </tr>\n",
       "    <tr>\n",
       "      <th>2018-09-01</th>\n",
       "      <td>298.685200</td>\n",
       "    </tr>\n",
       "    <tr>\n",
       "      <th>2018-10-01</th>\n",
       "      <td>310.136390</td>\n",
       "    </tr>\n",
       "    <tr>\n",
       "      <th>2018-11-01</th>\n",
       "      <td>344.489959</td>\n",
       "    </tr>\n",
       "    <tr>\n",
       "      <th>2018-12-01</th>\n",
       "      <td>343.535693</td>\n",
       "    </tr>\n",
       "  </tbody>\n",
       "</table>\n",
       "</div>"
      ],
      "text/plain": [
       "                     0\n",
       "2018-08-01  316.816250\n",
       "2018-09-01  298.685200\n",
       "2018-10-01  310.136390\n",
       "2018-11-01  344.489959\n",
       "2018-12-01  343.535693"
      ]
     },
     "execution_count": 8,
     "metadata": {},
     "output_type": "execute_result"
    }
   ],
   "source": [
    "# Calculate CYGNSS area data\n",
    "area = codebase.area_calcs.CYGNSS_001_area_calculation(fw_DA).to_frame() / (10**6)\n",
    "area.head()"
   ]
  },
  {
   "cell_type": "code",
   "execution_count": 9,
   "id": "6515f0a8-1c6d-450b-8e4c-0a6d2d396088",
   "metadata": {},
   "outputs": [],
   "source": [
    "# Calculate elevation data\n",
    "from scipy.stats import norm\n",
    "norm_fits = volume_pipeline.loop_through_time_series_to_get_fit_params(dem_DA, fw_DA, 1, norm)\n",
    "norm_elev_m = [val[0] for val in norm_fits]\n",
    "elev = pd.DataFrame(index=fw_DA['time'], data = norm_elev_m)"
   ]
  },
  {
   "cell_type": "markdown",
   "id": "b5d24515-7296-48c1-bac1-a79c27a19121",
   "metadata": {},
   "source": [
    "## Fit model"
   ]
  },
  {
   "cell_type": "code",
   "execution_count": 10,
   "id": "06fbbaff-ed69-4dc4-bf3f-fcccb26cd7f2",
   "metadata": {},
   "outputs": [],
   "source": [
    "area_train, area_test, elev_train, elev_test = train_test_split(area, elev, test_size=0.2, random_state=23)"
   ]
  },
  {
   "cell_type": "code",
   "execution_count": 11,
   "id": "d4d04fd7-7b05-4e6f-8af9-38849c7270e9",
   "metadata": {},
   "outputs": [
    {
     "name": "stdout",
     "output_type": "stream",
     "text": [
      "X train shape: (45, 1); y train shape: (45, 1)\n",
      "X test shape: (12, 1); y test shape: (12, 1)\n"
     ]
    }
   ],
   "source": [
    "print(f'X train shape: {area_train.shape}; y train shape: {elev_train.shape}')\n",
    "print(f'X test shape: {area_test.shape}; y test shape: {elev_test.shape}')"
   ]
  },
  {
   "cell_type": "code",
   "execution_count": 12,
   "id": "c381d989-542e-4232-ba7a-3445f7f57e96",
   "metadata": {},
   "outputs": [
    {
     "data": {
      "text/html": [
       "<style>#sk-container-id-1 {color: black;}#sk-container-id-1 pre{padding: 0;}#sk-container-id-1 div.sk-toggleable {background-color: white;}#sk-container-id-1 label.sk-toggleable__label {cursor: pointer;display: block;width: 100%;margin-bottom: 0;padding: 0.3em;box-sizing: border-box;text-align: center;}#sk-container-id-1 label.sk-toggleable__label-arrow:before {content: \"▸\";float: left;margin-right: 0.25em;color: #696969;}#sk-container-id-1 label.sk-toggleable__label-arrow:hover:before {color: black;}#sk-container-id-1 div.sk-estimator:hover label.sk-toggleable__label-arrow:before {color: black;}#sk-container-id-1 div.sk-toggleable__content {max-height: 0;max-width: 0;overflow: hidden;text-align: left;background-color: #f0f8ff;}#sk-container-id-1 div.sk-toggleable__content pre {margin: 0.2em;color: black;border-radius: 0.25em;background-color: #f0f8ff;}#sk-container-id-1 input.sk-toggleable__control:checked~div.sk-toggleable__content {max-height: 200px;max-width: 100%;overflow: auto;}#sk-container-id-1 input.sk-toggleable__control:checked~label.sk-toggleable__label-arrow:before {content: \"▾\";}#sk-container-id-1 div.sk-estimator input.sk-toggleable__control:checked~label.sk-toggleable__label {background-color: #d4ebff;}#sk-container-id-1 div.sk-label input.sk-toggleable__control:checked~label.sk-toggleable__label {background-color: #d4ebff;}#sk-container-id-1 input.sk-hidden--visually {border: 0;clip: rect(1px 1px 1px 1px);clip: rect(1px, 1px, 1px, 1px);height: 1px;margin: -1px;overflow: hidden;padding: 0;position: absolute;width: 1px;}#sk-container-id-1 div.sk-estimator {font-family: monospace;background-color: #f0f8ff;border: 1px dotted black;border-radius: 0.25em;box-sizing: border-box;margin-bottom: 0.5em;}#sk-container-id-1 div.sk-estimator:hover {background-color: #d4ebff;}#sk-container-id-1 div.sk-parallel-item::after {content: \"\";width: 100%;border-bottom: 1px solid gray;flex-grow: 1;}#sk-container-id-1 div.sk-label:hover label.sk-toggleable__label {background-color: #d4ebff;}#sk-container-id-1 div.sk-serial::before {content: \"\";position: absolute;border-left: 1px solid gray;box-sizing: border-box;top: 0;bottom: 0;left: 50%;z-index: 0;}#sk-container-id-1 div.sk-serial {display: flex;flex-direction: column;align-items: center;background-color: white;padding-right: 0.2em;padding-left: 0.2em;position: relative;}#sk-container-id-1 div.sk-item {position: relative;z-index: 1;}#sk-container-id-1 div.sk-parallel {display: flex;align-items: stretch;justify-content: center;background-color: white;position: relative;}#sk-container-id-1 div.sk-item::before, #sk-container-id-1 div.sk-parallel-item::before {content: \"\";position: absolute;border-left: 1px solid gray;box-sizing: border-box;top: 0;bottom: 0;left: 50%;z-index: -1;}#sk-container-id-1 div.sk-parallel-item {display: flex;flex-direction: column;z-index: 1;position: relative;background-color: white;}#sk-container-id-1 div.sk-parallel-item:first-child::after {align-self: flex-end;width: 50%;}#sk-container-id-1 div.sk-parallel-item:last-child::after {align-self: flex-start;width: 50%;}#sk-container-id-1 div.sk-parallel-item:only-child::after {width: 0;}#sk-container-id-1 div.sk-dashed-wrapped {border: 1px dashed gray;margin: 0 0.4em 0.5em 0.4em;box-sizing: border-box;padding-bottom: 0.4em;background-color: white;}#sk-container-id-1 div.sk-label label {font-family: monospace;font-weight: bold;display: inline-block;line-height: 1.2em;}#sk-container-id-1 div.sk-label-container {text-align: center;}#sk-container-id-1 div.sk-container {/* jupyter's `normalize.less` sets `[hidden] { display: none; }` but bootstrap.min.css set `[hidden] { display: none !important; }` so we also need the `!important` here to be able to override the default hidden behavior on the sphinx rendered scikit-learn.org. See: https://github.com/scikit-learn/scikit-learn/issues/21755 */display: inline-block !important;position: relative;}#sk-container-id-1 div.sk-text-repr-fallback {display: none;}</style><div id=\"sk-container-id-1\" class=\"sk-top-container\"><div class=\"sk-text-repr-fallback\"><pre>LinearRegression()</pre><b>In a Jupyter environment, please rerun this cell to show the HTML representation or trust the notebook. <br />On GitHub, the HTML representation is unable to render, please try loading this page with nbviewer.org.</b></div><div class=\"sk-container\" hidden><div class=\"sk-item\"><div class=\"sk-estimator sk-toggleable\"><input class=\"sk-toggleable__control sk-hidden--visually\" id=\"sk-estimator-id-1\" type=\"checkbox\" checked><label for=\"sk-estimator-id-1\" class=\"sk-toggleable__label sk-toggleable__label-arrow\">LinearRegression</label><div class=\"sk-toggleable__content\"><pre>LinearRegression()</pre></div></div></div></div></div>"
      ],
      "text/plain": [
       "LinearRegression()"
      ]
     },
     "execution_count": 12,
     "metadata": {},
     "output_type": "execute_result"
    }
   ],
   "source": [
    "model = LinearRegression()\n",
    "model.fit(area_train,elev_train)"
   ]
  },
  {
   "cell_type": "markdown",
   "id": "a159accc-e290-4b4d-9eba-cd9af6bd8a4f",
   "metadata": {},
   "source": [
    "## Evaluate model (train/test)"
   ]
  },
  {
   "cell_type": "code",
   "execution_count": 13,
   "id": "3b2d2b65-8695-466a-8620-079439c84d07",
   "metadata": {},
   "outputs": [
    {
     "name": "stdout",
     "output_type": "stream",
     "text": [
      "Training R^2: 0.6416045084867384\n",
      "Test R^2: 0.37122030132552875\n"
     ]
    }
   ],
   "source": [
    "print(f'Training R^2: {model.score(area_train, elev_train)}')\n",
    "print(f'Test R^2: {model.score(area_test, elev_test)}')"
   ]
  },
  {
   "cell_type": "code",
   "execution_count": 14,
   "id": "2a0ea41f-d199-4484-8d67-0c3608847aa0",
   "metadata": {},
   "outputs": [],
   "source": [
    "elev_train_pred = model.predict(area_train)\n",
    "elev_test_pred = model.predict(area_test)\n",
    "elev_pred = model.predict(area)"
   ]
  },
  {
   "cell_type": "code",
   "execution_count": 15,
   "id": "cf05f3c3-770c-4980-8835-d7f748531d68",
   "metadata": {},
   "outputs": [
    {
     "name": "stdout",
     "output_type": "stream",
     "text": [
      "Train RMSE: 3.3096551043975353\n",
      "Test RMSE: 3.6153480167418586\n"
     ]
    }
   ],
   "source": [
    "print(f'Train RMSE: {mean_squared_error(elev_train, elev_train_pred, squared=False)}')\n",
    "print(f'Test RMSE: {mean_squared_error(elev_test, elev_test_pred, squared=False)}')"
   ]
  },
  {
   "cell_type": "code",
   "execution_count": 16,
   "id": "9587ecbe-f3a8-42d9-b755-bfb9afbc8394",
   "metadata": {},
   "outputs": [
    {
     "data": {
      "text/plain": [
       "(array([[0.08586632]]), array([1128.65335458]))"
      ]
     },
     "execution_count": 16,
     "metadata": {},
     "output_type": "execute_result"
    }
   ],
   "source": [
    "model.coef_ , model.intercept_"
   ]
  },
  {
   "cell_type": "markdown",
   "id": "97b184d9-edf6-4c3d-bd71-cb6a85ce0932",
   "metadata": {},
   "source": [
    "## Evaluate model to USBR"
   ]
  },
  {
   "cell_type": "code",
   "execution_count": 17,
   "id": "9bc63fbc-1bb7-479a-a6e0-35439a4c6e57",
   "metadata": {},
   "outputs": [
    {
     "data": {
      "text/html": [
       "<div>\n",
       "<style scoped>\n",
       "    .dataframe tbody tr th:only-of-type {\n",
       "        vertical-align: middle;\n",
       "    }\n",
       "\n",
       "    .dataframe tbody tr th {\n",
       "        vertical-align: top;\n",
       "    }\n",
       "\n",
       "    .dataframe thead th {\n",
       "        text-align: right;\n",
       "    }\n",
       "</style>\n",
       "<table border=\"1\" class=\"dataframe\">\n",
       "  <thead>\n",
       "    <tr style=\"text-align: right;\">\n",
       "      <th></th>\n",
       "      <th>0</th>\n",
       "    </tr>\n",
       "  </thead>\n",
       "  <tbody>\n",
       "    <tr>\n",
       "      <th>2018-08-01</th>\n",
       "      <td>1155.857199</td>\n",
       "    </tr>\n",
       "    <tr>\n",
       "      <th>2018-09-01</th>\n",
       "      <td>1154.300352</td>\n",
       "    </tr>\n",
       "    <tr>\n",
       "      <th>2018-10-01</th>\n",
       "      <td>1155.283624</td>\n",
       "    </tr>\n",
       "    <tr>\n",
       "      <th>2018-11-01</th>\n",
       "      <td>1158.233438</td>\n",
       "    </tr>\n",
       "    <tr>\n",
       "      <th>2018-12-01</th>\n",
       "      <td>1158.151499</td>\n",
       "    </tr>\n",
       "  </tbody>\n",
       "</table>\n",
       "</div>"
      ],
      "text/plain": [
       "                      0\n",
       "2018-08-01  1155.857199\n",
       "2018-09-01  1154.300352\n",
       "2018-10-01  1155.283624\n",
       "2018-11-01  1158.233438\n",
       "2018-12-01  1158.151499"
      ]
     },
     "execution_count": 17,
     "metadata": {},
     "output_type": "execute_result"
    }
   ],
   "source": [
    "elev_pred_df = pd.DataFrame(index = area.index, data = elev_pred)\n",
    "elev_pred_df.head()"
   ]
  },
  {
   "cell_type": "code",
   "execution_count": 18,
   "id": "31be1227-1b59-4f64-bbe1-50d826944a45",
   "metadata": {},
   "outputs": [
    {
     "data": {
      "text/plain": [
       "<Axes: xlabel='Datetime (UTC)'>"
      ]
     },
     "execution_count": 18,
     "metadata": {},
     "output_type": "execute_result"
    },
    {
     "data": {
      "image/png": "[encoded data removed]",
      "text/plain": [
       "<Figure size 640x480 with 1 Axes>"
      ]
     },
     "metadata": {},
     "output_type": "display_data"
    }
   ],
   "source": [
    "elev_ref_match , elev_pred_match = codebase.time_series_calcs.intersecting_timeframes(elev_ref,elev_pred_df,buffer=0)\n",
    "ax = elev_ref_match.plot()\n",
    "elev_pred_match.plot(ax=ax)"
   ]
  },
  {
   "cell_type": "code",
   "execution_count": 19,
   "id": "cff84e0e-58e0-4f42-8077-510b60f242a6",
   "metadata": {},
   "outputs": [
    {
     "name": "stdout",
     "output_type": "stream",
     "text": [
      "RMSE to USBR: 61.209457471017\n"
     ]
    }
   ],
   "source": [
    "print(f'RMSE to USBR: {mean_squared_error(elev_ref_match , elev_pred_match, squared=False)}')"
   ]
  },
  {
   "cell_type": "markdown",
   "id": "4c8562c9-535b-487b-b21e-6a3bd8b10a03",
   "metadata": {},
   "source": [
    "## Use model to calculate volume"
   ]
  },
  {
   "cell_type": "code",
   "execution_count": 27,
   "id": "31b9d0ab-bdaf-4058-84ad-ac9a62106914",
   "metadata": {},
   "outputs": [],
   "source": [
    "deltV_ref_m3 = codebase.utils.convert_from_af_to_m3(res_ref['Lake/Reservoir Change In Storage [af]'])"
   ]
  },
  {
   "cell_type": "code",
   "execution_count": 21,
   "id": "31d75de1-ca38-4c10-87cb-d3869881fde9",
   "metadata": {},
   "outputs": [],
   "source": [
    "deltV_calc_km2_m = volume_pipeline.calculate_trapezoidal_volume(area=area, elev=elev_pred) # units: km2 * m"
   ]
  },
  {
   "cell_type": "code",
   "execution_count": 31,
   "id": "70287e10-84af-456a-815f-7e8e495b316f",
   "metadata": {},
   "outputs": [],
   "source": [
    "deltV_calc_m3 = pd.DataFrame(index=area.index[1:],data=deltV_calc) * (10**6) "
   ]
  },
  {
   "cell_type": "code",
   "execution_count": 38,
   "id": "1fbfbb20-ff56-4b53-aaa9-12775abb823e",
   "metadata": {},
   "outputs": [
    {
     "data": {
      "text/plain": [
       "Datetime (UTC)\n",
       "2018-01-01   -1.560090e+07\n",
       "2018-02-01   -1.462380e+07\n",
       "2018-03-01   -1.543427e+07\n",
       "2018-04-01   -1.176973e+07\n",
       "2018-05-01    7.709212e+06\n",
       "Name: Lake/Reservoir Change In Storage [af], dtype: float64"
      ]
     },
     "execution_count": 38,
     "metadata": {},
     "output_type": "execute_result"
    }
   ],
   "source": [
    "deltV_ref_m3.head()"
   ]
  },
  {
   "cell_type": "code",
   "execution_count": 37,
   "id": "a854219c-f18e-4274-b3d6-e534a5eb10c1",
   "metadata": {},
   "outputs": [
    {
     "data": {
      "text/html": [
       "<div>\n",
       "<style scoped>\n",
       "    .dataframe tbody tr th:only-of-type {\n",
       "        vertical-align: middle;\n",
       "    }\n",
       "\n",
       "    .dataframe tbody tr th {\n",
       "        vertical-align: top;\n",
       "    }\n",
       "\n",
       "    .dataframe thead th {\n",
       "        text-align: right;\n",
       "    }\n",
       "</style>\n",
       "<table border=\"1\" class=\"dataframe\">\n",
       "  <thead>\n",
       "    <tr style=\"text-align: right;\">\n",
       "      <th></th>\n",
       "      <th>0</th>\n",
       "    </tr>\n",
       "  </thead>\n",
       "  <tbody>\n",
       "    <tr>\n",
       "      <th>2018-09-01</th>\n",
       "      <td>-4.791206e+08</td>\n",
       "    </tr>\n",
       "    <tr>\n",
       "      <th>2018-10-01</th>\n",
       "      <td>2.993185e+08</td>\n",
       "    </tr>\n",
       "    <tr>\n",
       "      <th>2018-11-01</th>\n",
       "      <td>9.655131e+08</td>\n",
       "    </tr>\n",
       "    <tr>\n",
       "      <th>2018-12-01</th>\n",
       "      <td>-2.818817e+07</td>\n",
       "    </tr>\n",
       "    <tr>\n",
       "      <th>2019-01-01</th>\n",
       "      <td>0.000000e+00</td>\n",
       "    </tr>\n",
       "  </tbody>\n",
       "</table>\n",
       "</div>"
      ],
      "text/plain": [
       "                       0\n",
       "2018-09-01 -4.791206e+08\n",
       "2018-10-01  2.993185e+08\n",
       "2018-11-01  9.655131e+08\n",
       "2018-12-01 -2.818817e+07\n",
       "2019-01-01  0.000000e+00"
      ]
     },
     "execution_count": 37,
     "metadata": {},
     "output_type": "execute_result"
    }
   ],
   "source": [
    "deltV_calc_m3.head()"
   ]
  },
  {
   "cell_type": "code",
   "execution_count": 44,
   "id": "73bbddb6-5377-4456-be0f-5e474809f2e7",
   "metadata": {},
   "outputs": [
    {
     "name": "stdout",
     "output_type": "stream",
     "text": [
      "                       0\n",
      "2022-12-01 -2.131823e+09\n",
      "2023-01-01 -2.601561e+09\n",
      "2023-02-01 -2.912764e+09\n",
      "2023-03-01 -2.601561e+09\n",
      "2023-04-01 -2.535567e+09\n"
     ]
    },
    {
     "data": {
      "text/plain": [
       "Datetime (UTC)\n",
       "2023-09-01   -2.151791e+08\n",
       "2023-10-01   -2.178989e+08\n",
       "2023-11-01   -2.215708e+08\n",
       "2023-12-01   -2.290496e+08\n",
       "2024-01-01   -2.396685e+08\n",
       "Name: Lake/Reservoir Change In Storage [af], dtype: float64"
      ]
     },
     "execution_count": 44,
     "metadata": {},
     "output_type": "execute_result"
    }
   ],
   "source": [
    "print(deltV_calc_m3.cumsum().tail())\n",
    "deltV_ref_m3.cumsum().tail()"
   ]
  },
  {
   "cell_type": "code",
   "execution_count": null,
   "id": "720cd606-2c52-4e40-a990-2f1ea14e4afc",
   "metadata": {},
   "outputs": [],
   "source": []
  }
 ],
 "metadata": {
  "kernelspec": {
   "display_name": "rioxarray_kernel",
   "language": "python",
   "name": "rioxarray_kernel"
  },
  "language_info": {
   "codemirror_mode": {
    "name": "ipython",
    "version": 3
   },
   "file_extension": ".py",
   "mimetype": "text/x-python",
   "name": "python",
   "nbconvert_exporter": "python",
   "pygments_lexer": "ipython3",
   "version": "3.11.5"
  }
 },
 "nbformat": 4,
 "nbformat_minor": 5
}
