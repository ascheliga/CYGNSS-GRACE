{
 "cells": [
  {
   "cell_type": "code",
   "execution_count": 1,
   "id": "sweet-serial",
   "metadata": {},
   "outputs": [],
   "source": [
    "from codebase.area_calcs import stat_check\n",
    "import pandas as pd\n",
    "import numpy as np\n",
    "import codebase.area_calcs as area_calcs\n",
    "# import pytest"
   ]
  },
  {
   "cell_type": "code",
   "execution_count": 7,
   "id": "broadband-acquisition",
   "metadata": {},
   "outputs": [],
   "source": [
    "input_df0 = pd.DataFrame(data=np.random.uniform(size=(20,1)))\n",
    "input_df1 = pd.DataFrame(data=np.random.uniform(size=(20,1)),columns = ['area_km2'])"
   ]
  },
  {
   "cell_type": "code",
   "execution_count": 8,
   "id": "middle-relief",
   "metadata": {},
   "outputs": [
    {
     "name": "stdout",
     "output_type": "stream",
     "text": [
      "<class 'pandas.core.series.Series'>\n"
     ]
    },
    {
     "data": {
      "text/plain": [
       "0    0.57349\n",
       "dtype: float64"
      ]
     },
     "execution_count": 8,
     "metadata": {},
     "output_type": "execute_result"
    }
   ],
   "source": [
    "test = area_calcs.GRACE_areal_average(input_df0,input_df1)\n",
    "print(type(test))\n",
    "test"
   ]
  },
  {
   "cell_type": "code",
   "execution_count": null,
   "id": "convertible-heart",
   "metadata": {},
   "outputs": [],
   "source": [
    "np.random.seed(12)\n",
    "test_df = pd.DataFrame(data = np.random.uniform(size=(20,2)),columns = ['slope', 'p_value'])\n",
    "test_df"
   ]
  },
  {
   "cell_type": "code",
   "execution_count": null,
   "id": "intellectual-creation",
   "metadata": {},
   "outputs": [],
   "source": [
    "stat_vals , bool_vec = stat_check(test_df,condition = 'poop',pcut=0.1)\n",
    "print(stat_vals)"
   ]
  },
  {
   "cell_type": "code",
   "execution_count": null,
   "id": "arabic-concentration",
   "metadata": {},
   "outputs": [],
   "source": [
    "type(stat_vals)"
   ]
  },
  {
   "cell_type": "code",
   "execution_count": null,
   "id": "funky-bleeding",
   "metadata": {},
   "outputs": [],
   "source": [
    "pd.DataFrame(data = [[0.90071485 , 0.03342143], [0.76456045 , 0.0208098 ]], index = [3,10], columns =['slope', 'p_value'])"
   ]
  },
  {
   "cell_type": "code",
   "execution_count": null,
   "id": "handled-sensitivity",
   "metadata": {},
   "outputs": [],
   "source": [
    "def test_stat_check_single():\n",
    "    np.random.seed(12)\n",
    "    input_df = pd.DataFrame(data = np.random.uniform(size=(20,2)),\n",
    "                            columns = ['slope', 'p_value'])\n",
    "    output_vals , output_bool = stat_check(test_df,condition = 'pos',pcut=0.1)\n",
    "    expected_vals = pd.DataFrame(data = [[0.90071485 , 0.03342143], [0.76456045 , 0.0208098 ]],\n",
    "                                 index = [3,10],\n",
    "                                 columns =['slope', 'p_value'])\n",
    "    pd.testing.assert_frame_equal(output_vals,expected_vals)\n",
    "test_stat_check_single()"
   ]
  }
 ],
 "metadata": {
  "kernelspec": {
   "display_name": "rioxarray_kernel",
   "language": "python",
   "name": "rioxarray_kernel"
  },
  "language_info": {
   "codemirror_mode": {
    "name": "ipython",
    "version": 3
   },
   "file_extension": ".py",
   "mimetype": "text/x-python",
   "name": "python",
   "nbconvert_exporter": "python",
   "pygments_lexer": "ipython3",
   "version": "3.11.5"
  }
 },
 "nbformat": 4,
 "nbformat_minor": 5
}
